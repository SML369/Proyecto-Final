{
 "cells": [
  {
   "cell_type": "markdown",
   "metadata": {},
   "source": [
    "Vamos a trabajar con el dataset de CallMeMaybe para brindarle información a los supervisores y las supervisores sobre los operadores menos eficaces. Se considera que un operador es ineficaz si tiene una gran cantidad de llamadas entrantes perdidas (internas y externas) y un tiempo de espera prolongado para las llamadas entrantes. Además, si se supone que un operador debe realizar llamadas salientes, un número reducido de ellas también será un signo de ineficacia.\n",
    " \n",
    "Inicialmente realizare el prepocesamiento y limpieza de datos para evitar datos atipicos y para entender el dataset con el que estoy trabajando.\n",
    " \n",
    "Cuando ya tenga la base de datos de telecom limpia hago un merge con los datos de la base de datos de clientes\n",
    " \n",
    "Despues realizaria un Analisis exploratorio de los datos para ver que tan dispersos estan."
   ]
  },
  {
   "cell_type": "markdown",
   "metadata": {},
   "source": [
    "# Inicialización"
   ]
  },
  {
   "cell_type": "markdown",
   "metadata": {},
   "source": [
    "## Importacion de las librerias"
   ]
  },
  {
   "cell_type": "code",
   "execution_count": 1,
   "metadata": {},
   "outputs": [],
   "source": [
    "import pandas as pd\n",
    "import numpy as np\n",
    "import seaborn as sns\n",
    "import math as mt\n",
    "from scipy import stats as st\n",
    "import matplotlib.pyplot as plt\n",
    "from scipy.stats import shapiro\n",
    "from scipy.stats import mannwhitneyu"
   ]
  },
  {
   "cell_type": "markdown",
   "metadata": {},
   "source": [
    "## Carga de datos"
   ]
  },
  {
   "cell_type": "code",
   "execution_count": 2,
   "metadata": {},
   "outputs": [],
   "source": [
    "df = pd.read_csv('/datasets/telecom_dataset_us.csv')\n",
    "clients = pd.read_csv('/datasets/telecom_clients_us.csv')\n"
   ]
  },
  {
   "cell_type": "code",
   "execution_count": 3,
   "metadata": {},
   "outputs": [
    {
     "name": "stdout",
     "output_type": "stream",
     "text": [
      "<class 'pandas.core.frame.DataFrame'>\n",
      "RangeIndex: 53902 entries, 0 to 53901\n",
      "Data columns (total 9 columns):\n",
      " #   Column               Non-Null Count  Dtype  \n",
      "---  ------               --------------  -----  \n",
      " 0   user_id              53902 non-null  int64  \n",
      " 1   date                 53902 non-null  object \n",
      " 2   direction            53902 non-null  object \n",
      " 3   internal             53785 non-null  object \n",
      " 4   operator_id          45730 non-null  float64\n",
      " 5   is_missed_call       53902 non-null  bool   \n",
      " 6   calls_count          53902 non-null  int64  \n",
      " 7   call_duration        53902 non-null  int64  \n",
      " 8   total_call_duration  53902 non-null  int64  \n",
      "dtypes: bool(1), float64(1), int64(4), object(3)\n",
      "memory usage: 3.3+ MB\n"
     ]
    }
   ],
   "source": [
    "df.info()"
   ]
  },
  {
   "cell_type": "code",
   "execution_count": 4,
   "metadata": {},
   "outputs": [],
   "source": [
    "df['date']= pd.to_datetime(df['date'], format='%Y-%m-%d')\n",
    "\n",
    "df['month']=df['date'].dt.month"
   ]
  },
  {
   "cell_type": "code",
   "execution_count": 5,
   "metadata": {},
   "outputs": [
    {
     "name": "stdout",
     "output_type": "stream",
     "text": [
      "user_id                   0\n",
      "date                      0\n",
      "direction                 0\n",
      "internal                117\n",
      "operator_id            8172\n",
      "is_missed_call            0\n",
      "calls_count               0\n",
      "call_duration             0\n",
      "total_call_duration       0\n",
      "month                     0\n",
      "dtype: int64\n"
     ]
    }
   ],
   "source": [
    "# Identificar valores faltantes\n",
    "missing_values = df.isna().sum()\n",
    "print(missing_values)\n"
   ]
  },
  {
   "cell_type": "code",
   "execution_count": 6,
   "metadata": {},
   "outputs": [
    {
     "name": "stdout",
     "output_type": "stream",
     "text": [
      "       user_id                      date direction internal  operator_id  \\\n",
      "0       166377 2019-08-04 00:00:00+03:00        in    False          NaN   \n",
      "7       166377 2019-08-05 00:00:00+03:00        in    False          NaN   \n",
      "9       166377 2019-08-06 00:00:00+03:00        in    False          NaN   \n",
      "17      166377 2019-08-07 00:00:00+03:00        in    False          NaN   \n",
      "27      166377 2019-08-12 00:00:00+03:00        in    False          NaN   \n",
      "...        ...                       ...       ...      ...          ...   \n",
      "53876   168601 2019-11-27 00:00:00+03:00        in    False          NaN   \n",
      "53880   168601 2019-11-28 00:00:00+03:00        in    False          NaN   \n",
      "53889   168603 2019-11-28 00:00:00+03:00        in    False          NaN   \n",
      "53893   168606 2019-11-08 00:00:00+03:00        in    False          NaN   \n",
      "53901   168606 2019-11-19 00:00:00+03:00        in    False          NaN   \n",
      "\n",
      "       is_missed_call  calls_count  call_duration  total_call_duration  month  \n",
      "0                True            2              0                    4      8  \n",
      "7                True            6              0                   35      8  \n",
      "9                True            4              0                   62      8  \n",
      "17               True            2              0                   24      8  \n",
      "27               True            2              0                   34      8  \n",
      "...               ...          ...            ...                  ...    ...  \n",
      "53876            True            2              0                   39     11  \n",
      "53880            True            1              0                   19     11  \n",
      "53889            True            1              0                   30     11  \n",
      "53893            True            6              0                  121     11  \n",
      "53901            True            2              0                   64     11  \n",
      "\n",
      "[8172 rows x 10 columns]\n"
     ]
    }
   ],
   "source": [
    "absent_values= df['operator_id'].isna()\n",
    "\n",
    "print(df[absent_values])"
   ]
  },
  {
   "cell_type": "markdown",
   "metadata": {},
   "source": [
    "Al parecer son llamadas perdidas que no se han asignado a ningun operador, quiero saber si todas son llamadas perdidas usando la informacion 'is_missed_call'.\n"
   ]
  },
  {
   "cell_type": "code",
   "execution_count": 7,
   "metadata": {},
   "outputs": [
    {
     "name": "stdout",
     "output_type": "stream",
     "text": [
      "Número de llamadas perdidas sin 'operator_id': 8050\n"
     ]
    }
   ],
   "source": [
    "# Filtra las filas donde 'operator_id' es NaN\n",
    "missing_operator = df[df['operator_id'].isna()]\n",
    "\n",
    "# Cuenta el número de llamadas perdidas en las filas con valores ausentes en 'operator_id'\n",
    "num_missed_calls = missing_operator['is_missed_call'].sum()\n",
    "\n",
    "print(f\"Número de llamadas perdidas sin 'operator_id': {num_missed_calls}\")"
   ]
  },
  {
   "cell_type": "code",
   "execution_count": 8,
   "metadata": {},
   "outputs": [
    {
     "name": "stdout",
     "output_type": "stream",
     "text": [
      "¿Todas las llamadas sin 'operator_id' son perdidas?: False\n"
     ]
    }
   ],
   "source": [
    "# Verifica si todas las filas filtradas tienen 'is_missed_call' igual a True\n",
    "all_missed_calls = missing_operator['is_missed_call'].all()\n",
    "\n",
    "print(\"¿Todas las llamadas sin 'operator_id' son perdidas?:\", all_missed_calls)"
   ]
  },
  {
   "cell_type": "markdown",
   "metadata": {},
   "source": [
    "No todas las llamadas sin operador son llamadas perdidas. De los 8172 valores ausentes en la columna 'operator_id', 8050 son llamadas perdidas. Por esta razón pienso que no seria recomendable eliminarlos ya son parte de los datos necesarios para el analisis."
   ]
  },
  {
   "cell_type": "code",
   "execution_count": 9,
   "metadata": {},
   "outputs": [
    {
     "name": "stdout",
     "output_type": "stream",
     "text": [
      "       user_id                      date direction internal operator_id  \\\n",
      "0       166377 2019-08-04 00:00:00+03:00        in    False           0   \n",
      "7       166377 2019-08-05 00:00:00+03:00        in    False           0   \n",
      "9       166377 2019-08-06 00:00:00+03:00        in    False           0   \n",
      "17      166377 2019-08-07 00:00:00+03:00        in    False           0   \n",
      "27      166377 2019-08-12 00:00:00+03:00        in    False           0   \n",
      "...        ...                       ...       ...      ...         ...   \n",
      "53876   168601 2019-11-27 00:00:00+03:00        in    False           0   \n",
      "53880   168601 2019-11-28 00:00:00+03:00        in    False           0   \n",
      "53889   168603 2019-11-28 00:00:00+03:00        in    False           0   \n",
      "53893   168606 2019-11-08 00:00:00+03:00        in    False           0   \n",
      "53901   168606 2019-11-19 00:00:00+03:00        in    False           0   \n",
      "\n",
      "       is_missed_call  calls_count  call_duration  total_call_duration  month  \n",
      "0                True            2              0                    4      8  \n",
      "7                True            6              0                   35      8  \n",
      "9                True            4              0                   62      8  \n",
      "17               True            2              0                   24      8  \n",
      "27               True            2              0                   34      8  \n",
      "...               ...          ...            ...                  ...    ...  \n",
      "53876            True            2              0                   39     11  \n",
      "53880            True            1              0                   19     11  \n",
      "53889            True            1              0                   30     11  \n",
      "53893            True            6              0                  121     11  \n",
      "53901            True            2              0                   64     11  \n",
      "\n",
      "[8172 rows x 10 columns]\n"
     ]
    }
   ],
   "source": [
    "df['operator_id'].fillna('0', inplace=True)\n",
    "\n",
    "print(df[absent_values])"
   ]
  },
  {
   "cell_type": "markdown",
   "metadata": {},
   "source": [
    "Reemplazamos el valor NaN en la columna 'operator_id' por 0\n",
    "\n",
    "Por otro lado, revisemos que pasa si se eliminan los valores ausentes de la columna 'internal'"
   ]
  },
  {
   "cell_type": "code",
   "execution_count": 10,
   "metadata": {},
   "outputs": [
    {
     "data": {
      "text/plain": [
       "0.21706059144373122"
      ]
     },
     "execution_count": 10,
     "metadata": {},
     "output_type": "execute_result"
    }
   ],
   "source": [
    "internal_missing_values_percentage = df['internal'].isna().sum() /df['internal'].shape[0]*100\n",
    "\n",
    "internal_missing_values_percentage"
   ]
  },
  {
   "cell_type": "markdown",
   "metadata": {},
   "source": [
    "Si se elimina los datos ausentes de la columna 'internal' se perdería unicamente 0.21% del total lineas o llamadas por lo que no afectaría en gran medida los resultados del analisis.\n"
   ]
  },
  {
   "cell_type": "code",
   "execution_count": 11,
   "metadata": {},
   "outputs": [
    {
     "name": "stdout",
     "output_type": "stream",
     "text": [
      "user_id                0\n",
      "date                   0\n",
      "direction              0\n",
      "internal               0\n",
      "operator_id            0\n",
      "is_missed_call         0\n",
      "calls_count            0\n",
      "call_duration          0\n",
      "total_call_duration    0\n",
      "month                  0\n",
      "dtype: int64\n",
      "(53785, 10)\n",
      "<class 'pandas.core.frame.DataFrame'>\n",
      "Int64Index: 53785 entries, 0 to 53901\n",
      "Data columns (total 10 columns):\n",
      " #   Column               Non-Null Count  Dtype                                \n",
      "---  ------               --------------  -----                                \n",
      " 0   user_id              53785 non-null  int64                                \n",
      " 1   date                 53785 non-null  datetime64[ns, pytz.FixedOffset(180)]\n",
      " 2   direction            53785 non-null  object                               \n",
      " 3   internal             53785 non-null  object                               \n",
      " 4   operator_id          53785 non-null  object                               \n",
      " 5   is_missed_call       53785 non-null  bool                                 \n",
      " 6   calls_count          53785 non-null  int64                                \n",
      " 7   call_duration        53785 non-null  int64                                \n",
      " 8   total_call_duration  53785 non-null  int64                                \n",
      " 9   month                53785 non-null  int64                                \n",
      "dtypes: bool(1), datetime64[ns, pytz.FixedOffset(180)](1), int64(5), object(3)\n",
      "memory usage: 4.2+ MB\n",
      "None\n"
     ]
    },
    {
     "data": {
      "text/html": [
       "<div>\n",
       "<style scoped>\n",
       "    .dataframe tbody tr th:only-of-type {\n",
       "        vertical-align: middle;\n",
       "    }\n",
       "\n",
       "    .dataframe tbody tr th {\n",
       "        vertical-align: top;\n",
       "    }\n",
       "\n",
       "    .dataframe thead th {\n",
       "        text-align: right;\n",
       "    }\n",
       "</style>\n",
       "<table border=\"1\" class=\"dataframe\">\n",
       "  <thead>\n",
       "    <tr style=\"text-align: right;\">\n",
       "      <th></th>\n",
       "      <th>user_id</th>\n",
       "      <th>calls_count</th>\n",
       "      <th>call_duration</th>\n",
       "      <th>total_call_duration</th>\n",
       "      <th>month</th>\n",
       "    </tr>\n",
       "  </thead>\n",
       "  <tbody>\n",
       "    <tr>\n",
       "      <th>count</th>\n",
       "      <td>53785.000000</td>\n",
       "      <td>53785.000000</td>\n",
       "      <td>53785.000000</td>\n",
       "      <td>53785.000000</td>\n",
       "      <td>53785.000000</td>\n",
       "    </tr>\n",
       "    <tr>\n",
       "      <th>mean</th>\n",
       "      <td>167294.939630</td>\n",
       "      <td>16.482681</td>\n",
       "      <td>868.436162</td>\n",
       "      <td>1159.476174</td>\n",
       "      <td>10.192080</td>\n",
       "    </tr>\n",
       "    <tr>\n",
       "      <th>std</th>\n",
       "      <td>598.998532</td>\n",
       "      <td>62.981680</td>\n",
       "      <td>3735.653323</td>\n",
       "      <td>4407.963966</td>\n",
       "      <td>0.851636</td>\n",
       "    </tr>\n",
       "    <tr>\n",
       "      <th>min</th>\n",
       "      <td>166377.000000</td>\n",
       "      <td>1.000000</td>\n",
       "      <td>0.000000</td>\n",
       "      <td>0.000000</td>\n",
       "      <td>8.000000</td>\n",
       "    </tr>\n",
       "    <tr>\n",
       "      <th>25%</th>\n",
       "      <td>166782.000000</td>\n",
       "      <td>1.000000</td>\n",
       "      <td>0.000000</td>\n",
       "      <td>47.000000</td>\n",
       "      <td>10.000000</td>\n",
       "    </tr>\n",
       "    <tr>\n",
       "      <th>50%</th>\n",
       "      <td>167162.000000</td>\n",
       "      <td>4.000000</td>\n",
       "      <td>38.000000</td>\n",
       "      <td>211.000000</td>\n",
       "      <td>10.000000</td>\n",
       "    </tr>\n",
       "    <tr>\n",
       "      <th>75%</th>\n",
       "      <td>167819.000000</td>\n",
       "      <td>12.000000</td>\n",
       "      <td>574.000000</td>\n",
       "      <td>905.000000</td>\n",
       "      <td>11.000000</td>\n",
       "    </tr>\n",
       "    <tr>\n",
       "      <th>max</th>\n",
       "      <td>168606.000000</td>\n",
       "      <td>4817.000000</td>\n",
       "      <td>144395.000000</td>\n",
       "      <td>166155.000000</td>\n",
       "      <td>11.000000</td>\n",
       "    </tr>\n",
       "  </tbody>\n",
       "</table>\n",
       "</div>"
      ],
      "text/plain": [
       "             user_id   calls_count  call_duration  total_call_duration  \\\n",
       "count   53785.000000  53785.000000   53785.000000         53785.000000   \n",
       "mean   167294.939630     16.482681     868.436162          1159.476174   \n",
       "std       598.998532     62.981680    3735.653323          4407.963966   \n",
       "min    166377.000000      1.000000       0.000000             0.000000   \n",
       "25%    166782.000000      1.000000       0.000000            47.000000   \n",
       "50%    167162.000000      4.000000      38.000000           211.000000   \n",
       "75%    167819.000000     12.000000     574.000000           905.000000   \n",
       "max    168606.000000   4817.000000  144395.000000        166155.000000   \n",
       "\n",
       "              month  \n",
       "count  53785.000000  \n",
       "mean      10.192080  \n",
       "std        0.851636  \n",
       "min        8.000000  \n",
       "25%       10.000000  \n",
       "50%       10.000000  \n",
       "75%       11.000000  \n",
       "max       11.000000  "
      ]
     },
     "execution_count": 11,
     "metadata": {},
     "output_type": "execute_result"
    }
   ],
   "source": [
    "df = df.dropna(subset=['internal'])\n",
    "\n",
    "print(df.isna().sum())\n",
    "\n",
    "print(df.shape)\n",
    "\n",
    "print(df.info())\n",
    "\n",
    "df.describe()\n"
   ]
  },
  {
   "cell_type": "code",
   "execution_count": 12,
   "metadata": {},
   "outputs": [
    {
     "name": "stdout",
     "output_type": "stream",
     "text": [
      "4893\n"
     ]
    },
    {
     "data": {
      "text/html": [
       "<div>\n",
       "<style scoped>\n",
       "    .dataframe tbody tr th:only-of-type {\n",
       "        vertical-align: middle;\n",
       "    }\n",
       "\n",
       "    .dataframe tbody tr th {\n",
       "        vertical-align: top;\n",
       "    }\n",
       "\n",
       "    .dataframe thead th {\n",
       "        text-align: right;\n",
       "    }\n",
       "</style>\n",
       "<table border=\"1\" class=\"dataframe\">\n",
       "  <thead>\n",
       "    <tr style=\"text-align: right;\">\n",
       "      <th></th>\n",
       "      <th>user_id</th>\n",
       "      <th>date</th>\n",
       "      <th>direction</th>\n",
       "      <th>internal</th>\n",
       "      <th>operator_id</th>\n",
       "      <th>is_missed_call</th>\n",
       "      <th>calls_count</th>\n",
       "      <th>call_duration</th>\n",
       "      <th>total_call_duration</th>\n",
       "      <th>month</th>\n",
       "    </tr>\n",
       "  </thead>\n",
       "  <tbody>\n",
       "    <tr>\n",
       "      <th>8</th>\n",
       "      <td>166377</td>\n",
       "      <td>2019-08-05 00:00:00+03:00</td>\n",
       "      <td>out</td>\n",
       "      <td>False</td>\n",
       "      <td>880020.0</td>\n",
       "      <td>True</td>\n",
       "      <td>8</td>\n",
       "      <td>0</td>\n",
       "      <td>50</td>\n",
       "      <td>8</td>\n",
       "    </tr>\n",
       "    <tr>\n",
       "      <th>28</th>\n",
       "      <td>166377</td>\n",
       "      <td>2019-08-12 00:00:00+03:00</td>\n",
       "      <td>in</td>\n",
       "      <td>False</td>\n",
       "      <td>0</td>\n",
       "      <td>True</td>\n",
       "      <td>2</td>\n",
       "      <td>0</td>\n",
       "      <td>34</td>\n",
       "      <td>8</td>\n",
       "    </tr>\n",
       "    <tr>\n",
       "      <th>44</th>\n",
       "      <td>166377</td>\n",
       "      <td>2019-08-14 00:00:00+03:00</td>\n",
       "      <td>out</td>\n",
       "      <td>False</td>\n",
       "      <td>880026.0</td>\n",
       "      <td>False</td>\n",
       "      <td>10</td>\n",
       "      <td>1567</td>\n",
       "      <td>1654</td>\n",
       "      <td>8</td>\n",
       "    </tr>\n",
       "    <tr>\n",
       "      <th>45</th>\n",
       "      <td>166377</td>\n",
       "      <td>2019-08-14 00:00:00+03:00</td>\n",
       "      <td>in</td>\n",
       "      <td>False</td>\n",
       "      <td>0</td>\n",
       "      <td>True</td>\n",
       "      <td>1</td>\n",
       "      <td>0</td>\n",
       "      <td>3</td>\n",
       "      <td>8</td>\n",
       "    </tr>\n",
       "    <tr>\n",
       "      <th>51</th>\n",
       "      <td>166377</td>\n",
       "      <td>2019-08-15 00:00:00+03:00</td>\n",
       "      <td>out</td>\n",
       "      <td>False</td>\n",
       "      <td>880026.0</td>\n",
       "      <td>False</td>\n",
       "      <td>11</td>\n",
       "      <td>1413</td>\n",
       "      <td>1473</td>\n",
       "      <td>8</td>\n",
       "    </tr>\n",
       "    <tr>\n",
       "      <th>...</th>\n",
       "      <td>...</td>\n",
       "      <td>...</td>\n",
       "      <td>...</td>\n",
       "      <td>...</td>\n",
       "      <td>...</td>\n",
       "      <td>...</td>\n",
       "      <td>...</td>\n",
       "      <td>...</td>\n",
       "      <td>...</td>\n",
       "      <td>...</td>\n",
       "    </tr>\n",
       "    <tr>\n",
       "      <th>53869</th>\n",
       "      <td>168601</td>\n",
       "      <td>2019-11-25 00:00:00+03:00</td>\n",
       "      <td>in</td>\n",
       "      <td>False</td>\n",
       "      <td>952914.0</td>\n",
       "      <td>False</td>\n",
       "      <td>7</td>\n",
       "      <td>1229</td>\n",
       "      <td>1282</td>\n",
       "      <td>11</td>\n",
       "    </tr>\n",
       "    <tr>\n",
       "      <th>53874</th>\n",
       "      <td>168601</td>\n",
       "      <td>2019-11-26 00:00:00+03:00</td>\n",
       "      <td>in</td>\n",
       "      <td>False</td>\n",
       "      <td>952914.0</td>\n",
       "      <td>False</td>\n",
       "      <td>4</td>\n",
       "      <td>539</td>\n",
       "      <td>562</td>\n",
       "      <td>11</td>\n",
       "    </tr>\n",
       "    <tr>\n",
       "      <th>53875</th>\n",
       "      <td>168601</td>\n",
       "      <td>2019-11-26 00:00:00+03:00</td>\n",
       "      <td>in</td>\n",
       "      <td>False</td>\n",
       "      <td>0</td>\n",
       "      <td>True</td>\n",
       "      <td>3</td>\n",
       "      <td>0</td>\n",
       "      <td>35</td>\n",
       "      <td>11</td>\n",
       "    </tr>\n",
       "    <tr>\n",
       "      <th>53885</th>\n",
       "      <td>168603</td>\n",
       "      <td>2019-11-20 00:00:00+03:00</td>\n",
       "      <td>out</td>\n",
       "      <td>False</td>\n",
       "      <td>959118.0</td>\n",
       "      <td>True</td>\n",
       "      <td>3</td>\n",
       "      <td>0</td>\n",
       "      <td>89</td>\n",
       "      <td>11</td>\n",
       "    </tr>\n",
       "    <tr>\n",
       "      <th>53900</th>\n",
       "      <td>168606</td>\n",
       "      <td>2019-11-15 00:00:00+03:00</td>\n",
       "      <td>out</td>\n",
       "      <td>True</td>\n",
       "      <td>957922.0</td>\n",
       "      <td>False</td>\n",
       "      <td>4</td>\n",
       "      <td>3130</td>\n",
       "      <td>3190</td>\n",
       "      <td>11</td>\n",
       "    </tr>\n",
       "  </tbody>\n",
       "</table>\n",
       "<p>4893 rows × 10 columns</p>\n",
       "</div>"
      ],
      "text/plain": [
       "       user_id                      date direction internal operator_id  \\\n",
       "8       166377 2019-08-05 00:00:00+03:00       out    False    880020.0   \n",
       "28      166377 2019-08-12 00:00:00+03:00        in    False           0   \n",
       "44      166377 2019-08-14 00:00:00+03:00       out    False    880026.0   \n",
       "45      166377 2019-08-14 00:00:00+03:00        in    False           0   \n",
       "51      166377 2019-08-15 00:00:00+03:00       out    False    880026.0   \n",
       "...        ...                       ...       ...      ...         ...   \n",
       "53869   168601 2019-11-25 00:00:00+03:00        in    False    952914.0   \n",
       "53874   168601 2019-11-26 00:00:00+03:00        in    False    952914.0   \n",
       "53875   168601 2019-11-26 00:00:00+03:00        in    False           0   \n",
       "53885   168603 2019-11-20 00:00:00+03:00       out    False    959118.0   \n",
       "53900   168606 2019-11-15 00:00:00+03:00       out     True    957922.0   \n",
       "\n",
       "       is_missed_call  calls_count  call_duration  total_call_duration  month  \n",
       "8                True            8              0                   50      8  \n",
       "28               True            2              0                   34      8  \n",
       "44              False           10           1567                 1654      8  \n",
       "45               True            1              0                    3      8  \n",
       "51              False           11           1413                 1473      8  \n",
       "...               ...          ...            ...                  ...    ...  \n",
       "53869           False            7           1229                 1282     11  \n",
       "53874           False            4            539                  562     11  \n",
       "53875            True            3              0                   35     11  \n",
       "53885            True            3              0                   89     11  \n",
       "53900           False            4           3130                 3190     11  \n",
       "\n",
       "[4893 rows x 10 columns]"
      ]
     },
     "execution_count": 12,
     "metadata": {},
     "output_type": "execute_result"
    }
   ],
   "source": [
    "duplicates =df.duplicated().sum()\n",
    "print(duplicates)\n",
    "\n",
    "duplicated_rows = df[df.duplicated()]  \n",
    "\n",
    "duplicated_rows\n"
   ]
  },
  {
   "cell_type": "markdown",
   "metadata": {},
   "source": [
    "Hay 4893 llamadas que son consideradas como duplicadas. Vamos a mantener unicamente la primera ocurrencia ya que la probabilidad de que los datos sean iguales y las llamadas sean diferentes es muy baja."
   ]
  },
  {
   "cell_type": "code",
   "execution_count": 13,
   "metadata": {},
   "outputs": [
    {
     "name": "stdout",
     "output_type": "stream",
     "text": [
      "<class 'pandas.core.frame.DataFrame'>\n",
      "Int64Index: 48892 entries, 0 to 53901\n",
      "Data columns (total 10 columns):\n",
      " #   Column               Non-Null Count  Dtype                                \n",
      "---  ------               --------------  -----                                \n",
      " 0   user_id              48892 non-null  int64                                \n",
      " 1   date                 48892 non-null  datetime64[ns, pytz.FixedOffset(180)]\n",
      " 2   direction            48892 non-null  object                               \n",
      " 3   internal             48892 non-null  object                               \n",
      " 4   operator_id          48892 non-null  object                               \n",
      " 5   is_missed_call       48892 non-null  bool                                 \n",
      " 6   calls_count          48892 non-null  int64                                \n",
      " 7   call_duration        48892 non-null  int64                                \n",
      " 8   total_call_duration  48892 non-null  int64                                \n",
      " 9   month                48892 non-null  int64                                \n",
      "dtypes: bool(1), datetime64[ns, pytz.FixedOffset(180)](1), int64(5), object(3)\n",
      "memory usage: 3.8+ MB\n"
     ]
    }
   ],
   "source": [
    "df = df.drop_duplicates(keep='first')\n",
    "\n",
    "df.info()"
   ]
  },
  {
   "cell_type": "code",
   "execution_count": 14,
   "metadata": {},
   "outputs": [
    {
     "data": {
      "text/plain": [
       "1093"
      ]
     },
     "execution_count": 14,
     "metadata": {},
     "output_type": "execute_result"
    }
   ],
   "source": [
    "num_operators = df['operator_id'].nunique()\n",
    "\n",
    "num_operators\n"
   ]
  },
  {
   "cell_type": "markdown",
   "metadata": {},
   "source": [
    "Tenemos 1093 operadores para atender todas las llamadas de los clientes."
   ]
  },
  {
   "cell_type": "markdown",
   "metadata": {},
   "source": [
    "## Enriquecer los datos"
   ]
  },
  {
   "cell_type": "code",
   "execution_count": 15,
   "metadata": {},
   "outputs": [
    {
     "data": {
      "text/html": [
       "<div>\n",
       "<style scoped>\n",
       "    .dataframe tbody tr th:only-of-type {\n",
       "        vertical-align: middle;\n",
       "    }\n",
       "\n",
       "    .dataframe tbody tr th {\n",
       "        vertical-align: top;\n",
       "    }\n",
       "\n",
       "    .dataframe thead th {\n",
       "        text-align: right;\n",
       "    }\n",
       "</style>\n",
       "<table border=\"1\" class=\"dataframe\">\n",
       "  <thead>\n",
       "    <tr style=\"text-align: right;\">\n",
       "      <th></th>\n",
       "      <th>user_id</th>\n",
       "      <th>date</th>\n",
       "      <th>direction</th>\n",
       "      <th>internal</th>\n",
       "      <th>operator_id</th>\n",
       "      <th>is_missed_call</th>\n",
       "      <th>calls_count</th>\n",
       "      <th>call_duration</th>\n",
       "      <th>total_call_duration</th>\n",
       "      <th>month</th>\n",
       "      <th>waiting_time</th>\n",
       "    </tr>\n",
       "  </thead>\n",
       "  <tbody>\n",
       "    <tr>\n",
       "      <th>0</th>\n",
       "      <td>166377</td>\n",
       "      <td>2019-08-04 00:00:00+03:00</td>\n",
       "      <td>in</td>\n",
       "      <td>False</td>\n",
       "      <td>0</td>\n",
       "      <td>True</td>\n",
       "      <td>2</td>\n",
       "      <td>0</td>\n",
       "      <td>4</td>\n",
       "      <td>8</td>\n",
       "      <td>4</td>\n",
       "    </tr>\n",
       "    <tr>\n",
       "      <th>1</th>\n",
       "      <td>166377</td>\n",
       "      <td>2019-08-05 00:00:00+03:00</td>\n",
       "      <td>out</td>\n",
       "      <td>True</td>\n",
       "      <td>880022.0</td>\n",
       "      <td>True</td>\n",
       "      <td>3</td>\n",
       "      <td>0</td>\n",
       "      <td>5</td>\n",
       "      <td>8</td>\n",
       "      <td>5</td>\n",
       "    </tr>\n",
       "    <tr>\n",
       "      <th>2</th>\n",
       "      <td>166377</td>\n",
       "      <td>2019-08-05 00:00:00+03:00</td>\n",
       "      <td>out</td>\n",
       "      <td>True</td>\n",
       "      <td>880020.0</td>\n",
       "      <td>True</td>\n",
       "      <td>1</td>\n",
       "      <td>0</td>\n",
       "      <td>1</td>\n",
       "      <td>8</td>\n",
       "      <td>1</td>\n",
       "    </tr>\n",
       "    <tr>\n",
       "      <th>3</th>\n",
       "      <td>166377</td>\n",
       "      <td>2019-08-05 00:00:00+03:00</td>\n",
       "      <td>out</td>\n",
       "      <td>True</td>\n",
       "      <td>880020.0</td>\n",
       "      <td>False</td>\n",
       "      <td>1</td>\n",
       "      <td>10</td>\n",
       "      <td>18</td>\n",
       "      <td>8</td>\n",
       "      <td>8</td>\n",
       "    </tr>\n",
       "    <tr>\n",
       "      <th>4</th>\n",
       "      <td>166377</td>\n",
       "      <td>2019-08-05 00:00:00+03:00</td>\n",
       "      <td>out</td>\n",
       "      <td>False</td>\n",
       "      <td>880022.0</td>\n",
       "      <td>True</td>\n",
       "      <td>3</td>\n",
       "      <td>0</td>\n",
       "      <td>25</td>\n",
       "      <td>8</td>\n",
       "      <td>25</td>\n",
       "    </tr>\n",
       "    <tr>\n",
       "      <th>...</th>\n",
       "      <td>...</td>\n",
       "      <td>...</td>\n",
       "      <td>...</td>\n",
       "      <td>...</td>\n",
       "      <td>...</td>\n",
       "      <td>...</td>\n",
       "      <td>...</td>\n",
       "      <td>...</td>\n",
       "      <td>...</td>\n",
       "      <td>...</td>\n",
       "      <td>...</td>\n",
       "    </tr>\n",
       "    <tr>\n",
       "      <th>53896</th>\n",
       "      <td>168606</td>\n",
       "      <td>2019-11-10 00:00:00+03:00</td>\n",
       "      <td>out</td>\n",
       "      <td>True</td>\n",
       "      <td>957922.0</td>\n",
       "      <td>False</td>\n",
       "      <td>1</td>\n",
       "      <td>0</td>\n",
       "      <td>25</td>\n",
       "      <td>11</td>\n",
       "      <td>25</td>\n",
       "    </tr>\n",
       "    <tr>\n",
       "      <th>53897</th>\n",
       "      <td>168606</td>\n",
       "      <td>2019-11-10 00:00:00+03:00</td>\n",
       "      <td>out</td>\n",
       "      <td>True</td>\n",
       "      <td>957922.0</td>\n",
       "      <td>True</td>\n",
       "      <td>1</td>\n",
       "      <td>0</td>\n",
       "      <td>38</td>\n",
       "      <td>11</td>\n",
       "      <td>38</td>\n",
       "    </tr>\n",
       "    <tr>\n",
       "      <th>53898</th>\n",
       "      <td>168606</td>\n",
       "      <td>2019-11-11 00:00:00+03:00</td>\n",
       "      <td>out</td>\n",
       "      <td>True</td>\n",
       "      <td>957922.0</td>\n",
       "      <td>False</td>\n",
       "      <td>2</td>\n",
       "      <td>479</td>\n",
       "      <td>501</td>\n",
       "      <td>11</td>\n",
       "      <td>22</td>\n",
       "    </tr>\n",
       "    <tr>\n",
       "      <th>53899</th>\n",
       "      <td>168606</td>\n",
       "      <td>2019-11-15 00:00:00+03:00</td>\n",
       "      <td>out</td>\n",
       "      <td>True</td>\n",
       "      <td>957922.0</td>\n",
       "      <td>False</td>\n",
       "      <td>4</td>\n",
       "      <td>3130</td>\n",
       "      <td>3190</td>\n",
       "      <td>11</td>\n",
       "      <td>60</td>\n",
       "    </tr>\n",
       "    <tr>\n",
       "      <th>53901</th>\n",
       "      <td>168606</td>\n",
       "      <td>2019-11-19 00:00:00+03:00</td>\n",
       "      <td>in</td>\n",
       "      <td>False</td>\n",
       "      <td>0</td>\n",
       "      <td>True</td>\n",
       "      <td>2</td>\n",
       "      <td>0</td>\n",
       "      <td>64</td>\n",
       "      <td>11</td>\n",
       "      <td>64</td>\n",
       "    </tr>\n",
       "  </tbody>\n",
       "</table>\n",
       "<p>48892 rows × 11 columns</p>\n",
       "</div>"
      ],
      "text/plain": [
       "       user_id                      date direction internal operator_id  \\\n",
       "0       166377 2019-08-04 00:00:00+03:00        in    False           0   \n",
       "1       166377 2019-08-05 00:00:00+03:00       out     True    880022.0   \n",
       "2       166377 2019-08-05 00:00:00+03:00       out     True    880020.0   \n",
       "3       166377 2019-08-05 00:00:00+03:00       out     True    880020.0   \n",
       "4       166377 2019-08-05 00:00:00+03:00       out    False    880022.0   \n",
       "...        ...                       ...       ...      ...         ...   \n",
       "53896   168606 2019-11-10 00:00:00+03:00       out     True    957922.0   \n",
       "53897   168606 2019-11-10 00:00:00+03:00       out     True    957922.0   \n",
       "53898   168606 2019-11-11 00:00:00+03:00       out     True    957922.0   \n",
       "53899   168606 2019-11-15 00:00:00+03:00       out     True    957922.0   \n",
       "53901   168606 2019-11-19 00:00:00+03:00        in    False           0   \n",
       "\n",
       "       is_missed_call  calls_count  call_duration  total_call_duration  month  \\\n",
       "0                True            2              0                    4      8   \n",
       "1                True            3              0                    5      8   \n",
       "2                True            1              0                    1      8   \n",
       "3               False            1             10                   18      8   \n",
       "4                True            3              0                   25      8   \n",
       "...               ...          ...            ...                  ...    ...   \n",
       "53896           False            1              0                   25     11   \n",
       "53897            True            1              0                   38     11   \n",
       "53898           False            2            479                  501     11   \n",
       "53899           False            4           3130                 3190     11   \n",
       "53901            True            2              0                   64     11   \n",
       "\n",
       "       waiting_time  \n",
       "0                 4  \n",
       "1                 5  \n",
       "2                 1  \n",
       "3                 8  \n",
       "4                25  \n",
       "...             ...  \n",
       "53896            25  \n",
       "53897            38  \n",
       "53898            22  \n",
       "53899            60  \n",
       "53901            64  \n",
       "\n",
       "[48892 rows x 11 columns]"
      ]
     },
     "execution_count": 15,
     "metadata": {},
     "output_type": "execute_result"
    }
   ],
   "source": [
    "df['waiting_time'] = df['total_call_duration'] - df ['call_duration']\n",
    "\n",
    "df"
   ]
  },
  {
   "cell_type": "markdown",
   "metadata": {},
   "source": [
    "# Telecom clients\n"
   ]
  },
  {
   "cell_type": "code",
   "execution_count": 16,
   "metadata": {},
   "outputs": [
    {
     "name": "stdout",
     "output_type": "stream",
     "text": [
      "<class 'pandas.core.frame.DataFrame'>\n",
      "RangeIndex: 732 entries, 0 to 731\n",
      "Data columns (total 3 columns):\n",
      " #   Column       Non-Null Count  Dtype \n",
      "---  ------       --------------  ----- \n",
      " 0   user_id      732 non-null    int64 \n",
      " 1   tariff_plan  732 non-null    object\n",
      " 2   date_start   732 non-null    object\n",
      "dtypes: int64(1), object(2)\n",
      "memory usage: 17.3+ KB\n"
     ]
    },
    {
     "data": {
      "text/html": [
       "<div>\n",
       "<style scoped>\n",
       "    .dataframe tbody tr th:only-of-type {\n",
       "        vertical-align: middle;\n",
       "    }\n",
       "\n",
       "    .dataframe tbody tr th {\n",
       "        vertical-align: top;\n",
       "    }\n",
       "\n",
       "    .dataframe thead th {\n",
       "        text-align: right;\n",
       "    }\n",
       "</style>\n",
       "<table border=\"1\" class=\"dataframe\">\n",
       "  <thead>\n",
       "    <tr style=\"text-align: right;\">\n",
       "      <th></th>\n",
       "      <th>user_id</th>\n",
       "      <th>tariff_plan</th>\n",
       "      <th>date_start</th>\n",
       "    </tr>\n",
       "  </thead>\n",
       "  <tbody>\n",
       "    <tr>\n",
       "      <th>0</th>\n",
       "      <td>166713</td>\n",
       "      <td>A</td>\n",
       "      <td>2019-08-15</td>\n",
       "    </tr>\n",
       "    <tr>\n",
       "      <th>1</th>\n",
       "      <td>166901</td>\n",
       "      <td>A</td>\n",
       "      <td>2019-08-23</td>\n",
       "    </tr>\n",
       "    <tr>\n",
       "      <th>2</th>\n",
       "      <td>168527</td>\n",
       "      <td>A</td>\n",
       "      <td>2019-10-29</td>\n",
       "    </tr>\n",
       "    <tr>\n",
       "      <th>3</th>\n",
       "      <td>167097</td>\n",
       "      <td>A</td>\n",
       "      <td>2019-09-01</td>\n",
       "    </tr>\n",
       "    <tr>\n",
       "      <th>4</th>\n",
       "      <td>168193</td>\n",
       "      <td>A</td>\n",
       "      <td>2019-10-16</td>\n",
       "    </tr>\n",
       "    <tr>\n",
       "      <th>...</th>\n",
       "      <td>...</td>\n",
       "      <td>...</td>\n",
       "      <td>...</td>\n",
       "    </tr>\n",
       "    <tr>\n",
       "      <th>727</th>\n",
       "      <td>166554</td>\n",
       "      <td>B</td>\n",
       "      <td>2019-08-08</td>\n",
       "    </tr>\n",
       "    <tr>\n",
       "      <th>728</th>\n",
       "      <td>166911</td>\n",
       "      <td>B</td>\n",
       "      <td>2019-08-23</td>\n",
       "    </tr>\n",
       "    <tr>\n",
       "      <th>729</th>\n",
       "      <td>167012</td>\n",
       "      <td>B</td>\n",
       "      <td>2019-08-28</td>\n",
       "    </tr>\n",
       "    <tr>\n",
       "      <th>730</th>\n",
       "      <td>166867</td>\n",
       "      <td>B</td>\n",
       "      <td>2019-08-22</td>\n",
       "    </tr>\n",
       "    <tr>\n",
       "      <th>731</th>\n",
       "      <td>166565</td>\n",
       "      <td>B</td>\n",
       "      <td>2019-08-08</td>\n",
       "    </tr>\n",
       "  </tbody>\n",
       "</table>\n",
       "<p>732 rows × 3 columns</p>\n",
       "</div>"
      ],
      "text/plain": [
       "     user_id tariff_plan  date_start\n",
       "0     166713           A  2019-08-15\n",
       "1     166901           A  2019-08-23\n",
       "2     168527           A  2019-10-29\n",
       "3     167097           A  2019-09-01\n",
       "4     168193           A  2019-10-16\n",
       "..       ...         ...         ...\n",
       "727   166554           B  2019-08-08\n",
       "728   166911           B  2019-08-23\n",
       "729   167012           B  2019-08-28\n",
       "730   166867           B  2019-08-22\n",
       "731   166565           B  2019-08-08\n",
       "\n",
       "[732 rows x 3 columns]"
      ]
     },
     "execution_count": 16,
     "metadata": {},
     "output_type": "execute_result"
    }
   ],
   "source": [
    "clients.info()\n",
    "\n",
    "clients"
   ]
  },
  {
   "cell_type": "code",
   "execution_count": 17,
   "metadata": {},
   "outputs": [
    {
     "data": {
      "text/plain": [
       "user_id        0\n",
       "tariff_plan    0\n",
       "date_start     0\n",
       "dtype: int64"
      ]
     },
     "execution_count": 17,
     "metadata": {},
     "output_type": "execute_result"
    }
   ],
   "source": [
    "clients.isna().sum()"
   ]
  },
  {
   "cell_type": "code",
   "execution_count": 18,
   "metadata": {},
   "outputs": [
    {
     "data": {
      "text/plain": [
       "0"
      ]
     },
     "execution_count": 18,
     "metadata": {},
     "output_type": "execute_result"
    }
   ],
   "source": [
    "clients.duplicated().sum()"
   ]
  },
  {
   "cell_type": "markdown",
   "metadata": {},
   "source": [
    "El dataset clients no contiene ningun valor ausente o duplicado. \n"
   ]
  },
  {
   "cell_type": "code",
   "execution_count": 19,
   "metadata": {},
   "outputs": [
    {
     "name": "stdout",
     "output_type": "stream",
     "text": [
      "<class 'pandas.core.frame.DataFrame'>\n",
      "RangeIndex: 732 entries, 0 to 731\n",
      "Data columns (total 3 columns):\n",
      " #   Column       Non-Null Count  Dtype         \n",
      "---  ------       --------------  -----         \n",
      " 0   user_id      732 non-null    int64         \n",
      " 1   tariff_plan  732 non-null    object        \n",
      " 2   date_start   732 non-null    datetime64[ns]\n",
      "dtypes: datetime64[ns](1), int64(1), object(1)\n",
      "memory usage: 17.3+ KB\n"
     ]
    }
   ],
   "source": [
    "# convertimos la columna date al tipo de datos correcto\n",
    "clients['date_start']= pd.to_datetime(clients['date_start'], format='%Y-%m-%d')\n",
    "\n",
    "clients.info()"
   ]
  },
  {
   "cell_type": "markdown",
   "metadata": {},
   "source": [
    "## Merge de los dataframes"
   ]
  },
  {
   "cell_type": "code",
   "execution_count": 20,
   "metadata": {},
   "outputs": [
    {
     "data": {
      "text/html": [
       "<div>\n",
       "<style scoped>\n",
       "    .dataframe tbody tr th:only-of-type {\n",
       "        vertical-align: middle;\n",
       "    }\n",
       "\n",
       "    .dataframe tbody tr th {\n",
       "        vertical-align: top;\n",
       "    }\n",
       "\n",
       "    .dataframe thead th {\n",
       "        text-align: right;\n",
       "    }\n",
       "</style>\n",
       "<table border=\"1\" class=\"dataframe\">\n",
       "  <thead>\n",
       "    <tr style=\"text-align: right;\">\n",
       "      <th></th>\n",
       "      <th>user_id</th>\n",
       "      <th>date</th>\n",
       "      <th>direction</th>\n",
       "      <th>internal</th>\n",
       "      <th>operator_id</th>\n",
       "      <th>is_missed_call</th>\n",
       "      <th>calls_count</th>\n",
       "      <th>call_duration</th>\n",
       "      <th>total_call_duration</th>\n",
       "      <th>month</th>\n",
       "      <th>waiting_time</th>\n",
       "      <th>tariff_plan</th>\n",
       "      <th>date_start</th>\n",
       "    </tr>\n",
       "  </thead>\n",
       "  <tbody>\n",
       "    <tr>\n",
       "      <th>0</th>\n",
       "      <td>166377</td>\n",
       "      <td>2019-08-04 00:00:00+03:00</td>\n",
       "      <td>in</td>\n",
       "      <td>False</td>\n",
       "      <td>0</td>\n",
       "      <td>True</td>\n",
       "      <td>2.0</td>\n",
       "      <td>0.0</td>\n",
       "      <td>4.0</td>\n",
       "      <td>8.0</td>\n",
       "      <td>4.0</td>\n",
       "      <td>B</td>\n",
       "      <td>2019-08-01</td>\n",
       "    </tr>\n",
       "    <tr>\n",
       "      <th>1</th>\n",
       "      <td>166377</td>\n",
       "      <td>2019-08-05 00:00:00+03:00</td>\n",
       "      <td>out</td>\n",
       "      <td>True</td>\n",
       "      <td>880022.0</td>\n",
       "      <td>True</td>\n",
       "      <td>3.0</td>\n",
       "      <td>0.0</td>\n",
       "      <td>5.0</td>\n",
       "      <td>8.0</td>\n",
       "      <td>5.0</td>\n",
       "      <td>B</td>\n",
       "      <td>2019-08-01</td>\n",
       "    </tr>\n",
       "    <tr>\n",
       "      <th>2</th>\n",
       "      <td>166377</td>\n",
       "      <td>2019-08-05 00:00:00+03:00</td>\n",
       "      <td>out</td>\n",
       "      <td>True</td>\n",
       "      <td>880020.0</td>\n",
       "      <td>True</td>\n",
       "      <td>1.0</td>\n",
       "      <td>0.0</td>\n",
       "      <td>1.0</td>\n",
       "      <td>8.0</td>\n",
       "      <td>1.0</td>\n",
       "      <td>B</td>\n",
       "      <td>2019-08-01</td>\n",
       "    </tr>\n",
       "    <tr>\n",
       "      <th>3</th>\n",
       "      <td>166377</td>\n",
       "      <td>2019-08-05 00:00:00+03:00</td>\n",
       "      <td>out</td>\n",
       "      <td>True</td>\n",
       "      <td>880020.0</td>\n",
       "      <td>False</td>\n",
       "      <td>1.0</td>\n",
       "      <td>10.0</td>\n",
       "      <td>18.0</td>\n",
       "      <td>8.0</td>\n",
       "      <td>8.0</td>\n",
       "      <td>B</td>\n",
       "      <td>2019-08-01</td>\n",
       "    </tr>\n",
       "    <tr>\n",
       "      <th>4</th>\n",
       "      <td>166377</td>\n",
       "      <td>2019-08-05 00:00:00+03:00</td>\n",
       "      <td>out</td>\n",
       "      <td>False</td>\n",
       "      <td>880022.0</td>\n",
       "      <td>True</td>\n",
       "      <td>3.0</td>\n",
       "      <td>0.0</td>\n",
       "      <td>25.0</td>\n",
       "      <td>8.0</td>\n",
       "      <td>25.0</td>\n",
       "      <td>B</td>\n",
       "      <td>2019-08-01</td>\n",
       "    </tr>\n",
       "    <tr>\n",
       "      <th>...</th>\n",
       "      <td>...</td>\n",
       "      <td>...</td>\n",
       "      <td>...</td>\n",
       "      <td>...</td>\n",
       "      <td>...</td>\n",
       "      <td>...</td>\n",
       "      <td>...</td>\n",
       "      <td>...</td>\n",
       "      <td>...</td>\n",
       "      <td>...</td>\n",
       "      <td>...</td>\n",
       "      <td>...</td>\n",
       "      <td>...</td>\n",
       "    </tr>\n",
       "    <tr>\n",
       "      <th>49312</th>\n",
       "      <td>166815</td>\n",
       "      <td>NaT</td>\n",
       "      <td>NaN</td>\n",
       "      <td>NaN</td>\n",
       "      <td>NaN</td>\n",
       "      <td>NaN</td>\n",
       "      <td>NaN</td>\n",
       "      <td>NaN</td>\n",
       "      <td>NaN</td>\n",
       "      <td>NaN</td>\n",
       "      <td>NaN</td>\n",
       "      <td>B</td>\n",
       "      <td>2019-08-20</td>\n",
       "    </tr>\n",
       "    <tr>\n",
       "      <th>49313</th>\n",
       "      <td>166702</td>\n",
       "      <td>NaT</td>\n",
       "      <td>NaN</td>\n",
       "      <td>NaN</td>\n",
       "      <td>NaN</td>\n",
       "      <td>NaN</td>\n",
       "      <td>NaN</td>\n",
       "      <td>NaN</td>\n",
       "      <td>NaN</td>\n",
       "      <td>NaN</td>\n",
       "      <td>NaN</td>\n",
       "      <td>B</td>\n",
       "      <td>2019-08-15</td>\n",
       "    </tr>\n",
       "    <tr>\n",
       "      <th>49314</th>\n",
       "      <td>166911</td>\n",
       "      <td>NaT</td>\n",
       "      <td>NaN</td>\n",
       "      <td>NaN</td>\n",
       "      <td>NaN</td>\n",
       "      <td>NaN</td>\n",
       "      <td>NaN</td>\n",
       "      <td>NaN</td>\n",
       "      <td>NaN</td>\n",
       "      <td>NaN</td>\n",
       "      <td>NaN</td>\n",
       "      <td>B</td>\n",
       "      <td>2019-08-23</td>\n",
       "    </tr>\n",
       "    <tr>\n",
       "      <th>49315</th>\n",
       "      <td>166867</td>\n",
       "      <td>NaT</td>\n",
       "      <td>NaN</td>\n",
       "      <td>NaN</td>\n",
       "      <td>NaN</td>\n",
       "      <td>NaN</td>\n",
       "      <td>NaN</td>\n",
       "      <td>NaN</td>\n",
       "      <td>NaN</td>\n",
       "      <td>NaN</td>\n",
       "      <td>NaN</td>\n",
       "      <td>B</td>\n",
       "      <td>2019-08-22</td>\n",
       "    </tr>\n",
       "    <tr>\n",
       "      <th>49316</th>\n",
       "      <td>166565</td>\n",
       "      <td>NaT</td>\n",
       "      <td>NaN</td>\n",
       "      <td>NaN</td>\n",
       "      <td>NaN</td>\n",
       "      <td>NaN</td>\n",
       "      <td>NaN</td>\n",
       "      <td>NaN</td>\n",
       "      <td>NaN</td>\n",
       "      <td>NaN</td>\n",
       "      <td>NaN</td>\n",
       "      <td>B</td>\n",
       "      <td>2019-08-08</td>\n",
       "    </tr>\n",
       "  </tbody>\n",
       "</table>\n",
       "<p>49317 rows × 13 columns</p>\n",
       "</div>"
      ],
      "text/plain": [
       "       user_id                      date direction internal operator_id  \\\n",
       "0       166377 2019-08-04 00:00:00+03:00        in    False           0   \n",
       "1       166377 2019-08-05 00:00:00+03:00       out     True    880022.0   \n",
       "2       166377 2019-08-05 00:00:00+03:00       out     True    880020.0   \n",
       "3       166377 2019-08-05 00:00:00+03:00       out     True    880020.0   \n",
       "4       166377 2019-08-05 00:00:00+03:00       out    False    880022.0   \n",
       "...        ...                       ...       ...      ...         ...   \n",
       "49312   166815                       NaT       NaN      NaN         NaN   \n",
       "49313   166702                       NaT       NaN      NaN         NaN   \n",
       "49314   166911                       NaT       NaN      NaN         NaN   \n",
       "49315   166867                       NaT       NaN      NaN         NaN   \n",
       "49316   166565                       NaT       NaN      NaN         NaN   \n",
       "\n",
       "      is_missed_call  calls_count  call_duration  total_call_duration  month  \\\n",
       "0               True          2.0            0.0                  4.0    8.0   \n",
       "1               True          3.0            0.0                  5.0    8.0   \n",
       "2               True          1.0            0.0                  1.0    8.0   \n",
       "3              False          1.0           10.0                 18.0    8.0   \n",
       "4               True          3.0            0.0                 25.0    8.0   \n",
       "...              ...          ...            ...                  ...    ...   \n",
       "49312            NaN          NaN            NaN                  NaN    NaN   \n",
       "49313            NaN          NaN            NaN                  NaN    NaN   \n",
       "49314            NaN          NaN            NaN                  NaN    NaN   \n",
       "49315            NaN          NaN            NaN                  NaN    NaN   \n",
       "49316            NaN          NaN            NaN                  NaN    NaN   \n",
       "\n",
       "       waiting_time tariff_plan date_start  \n",
       "0               4.0           B 2019-08-01  \n",
       "1               5.0           B 2019-08-01  \n",
       "2               1.0           B 2019-08-01  \n",
       "3               8.0           B 2019-08-01  \n",
       "4              25.0           B 2019-08-01  \n",
       "...             ...         ...        ...  \n",
       "49312           NaN           B 2019-08-20  \n",
       "49313           NaN           B 2019-08-15  \n",
       "49314           NaN           B 2019-08-23  \n",
       "49315           NaN           B 2019-08-22  \n",
       "49316           NaN           B 2019-08-08  \n",
       "\n",
       "[49317 rows x 13 columns]"
      ]
     },
     "execution_count": 20,
     "metadata": {},
     "output_type": "execute_result"
    }
   ],
   "source": [
    "\n",
    "df_merged = df.merge(clients, on ='user_id', how ='outer')\n",
    "\n",
    "df_merged\n"
   ]
  },
  {
   "cell_type": "code",
   "execution_count": 21,
   "metadata": {},
   "outputs": [
    {
     "data": {
      "text/plain": [
       "user_id                  0\n",
       "date                   425\n",
       "direction              425\n",
       "internal               425\n",
       "operator_id            425\n",
       "is_missed_call         425\n",
       "calls_count            425\n",
       "call_duration          425\n",
       "total_call_duration    425\n",
       "month                  425\n",
       "waiting_time           425\n",
       "tariff_plan              0\n",
       "date_start               0\n",
       "dtype: int64"
      ]
     },
     "execution_count": 21,
     "metadata": {},
     "output_type": "execute_result"
    }
   ],
   "source": [
    "df_merged.isna().sum()\n",
    "\n"
   ]
  },
  {
   "cell_type": "code",
   "execution_count": 22,
   "metadata": {},
   "outputs": [
    {
     "name": "stdout",
     "output_type": "stream",
     "text": [
      "user_id                0\n",
      "date                   0\n",
      "direction              0\n",
      "internal               0\n",
      "operator_id            0\n",
      "is_missed_call         0\n",
      "calls_count            0\n",
      "call_duration          0\n",
      "total_call_duration    0\n",
      "month                  0\n",
      "waiting_time           0\n",
      "tariff_plan            0\n",
      "date_start             0\n",
      "dtype: int64\n"
     ]
    }
   ],
   "source": [
    "df_merged = df_merged.dropna()\n",
    "\n",
    "print(df_merged.isna().sum())"
   ]
  },
  {
   "cell_type": "code",
   "execution_count": 23,
   "metadata": {},
   "outputs": [
    {
     "data": {
      "text/html": [
       "<div>\n",
       "<style scoped>\n",
       "    .dataframe tbody tr th:only-of-type {\n",
       "        vertical-align: middle;\n",
       "    }\n",
       "\n",
       "    .dataframe tbody tr th {\n",
       "        vertical-align: top;\n",
       "    }\n",
       "\n",
       "    .dataframe thead th {\n",
       "        text-align: right;\n",
       "    }\n",
       "</style>\n",
       "<table border=\"1\" class=\"dataframe\">\n",
       "  <thead>\n",
       "    <tr style=\"text-align: right;\">\n",
       "      <th></th>\n",
       "      <th>user_id</th>\n",
       "      <th>date</th>\n",
       "      <th>direction</th>\n",
       "      <th>internal</th>\n",
       "      <th>operator_id</th>\n",
       "      <th>is_missed_call</th>\n",
       "      <th>calls_count</th>\n",
       "      <th>call_duration</th>\n",
       "      <th>total_call_duration</th>\n",
       "      <th>month</th>\n",
       "      <th>waiting_time</th>\n",
       "      <th>tariff_plan</th>\n",
       "      <th>date_start</th>\n",
       "    </tr>\n",
       "  </thead>\n",
       "  <tbody>\n",
       "    <tr>\n",
       "      <th>0</th>\n",
       "      <td>166377</td>\n",
       "      <td>2019-08-04 00:00:00+03:00</td>\n",
       "      <td>in</td>\n",
       "      <td>False</td>\n",
       "      <td>0</td>\n",
       "      <td>True</td>\n",
       "      <td>2.0</td>\n",
       "      <td>0.0</td>\n",
       "      <td>4.0</td>\n",
       "      <td>8.0</td>\n",
       "      <td>4.0</td>\n",
       "      <td>B</td>\n",
       "      <td>2019-08-01</td>\n",
       "    </tr>\n",
       "    <tr>\n",
       "      <th>1</th>\n",
       "      <td>166377</td>\n",
       "      <td>2019-08-05 00:00:00+03:00</td>\n",
       "      <td>out</td>\n",
       "      <td>True</td>\n",
       "      <td>880022.0</td>\n",
       "      <td>True</td>\n",
       "      <td>3.0</td>\n",
       "      <td>0.0</td>\n",
       "      <td>5.0</td>\n",
       "      <td>8.0</td>\n",
       "      <td>5.0</td>\n",
       "      <td>B</td>\n",
       "      <td>2019-08-01</td>\n",
       "    </tr>\n",
       "    <tr>\n",
       "      <th>2</th>\n",
       "      <td>166377</td>\n",
       "      <td>2019-08-05 00:00:00+03:00</td>\n",
       "      <td>out</td>\n",
       "      <td>True</td>\n",
       "      <td>880020.0</td>\n",
       "      <td>True</td>\n",
       "      <td>1.0</td>\n",
       "      <td>0.0</td>\n",
       "      <td>1.0</td>\n",
       "      <td>8.0</td>\n",
       "      <td>1.0</td>\n",
       "      <td>B</td>\n",
       "      <td>2019-08-01</td>\n",
       "    </tr>\n",
       "    <tr>\n",
       "      <th>3</th>\n",
       "      <td>166377</td>\n",
       "      <td>2019-08-05 00:00:00+03:00</td>\n",
       "      <td>out</td>\n",
       "      <td>True</td>\n",
       "      <td>880020.0</td>\n",
       "      <td>False</td>\n",
       "      <td>1.0</td>\n",
       "      <td>10.0</td>\n",
       "      <td>18.0</td>\n",
       "      <td>8.0</td>\n",
       "      <td>8.0</td>\n",
       "      <td>B</td>\n",
       "      <td>2019-08-01</td>\n",
       "    </tr>\n",
       "    <tr>\n",
       "      <th>4</th>\n",
       "      <td>166377</td>\n",
       "      <td>2019-08-05 00:00:00+03:00</td>\n",
       "      <td>out</td>\n",
       "      <td>False</td>\n",
       "      <td>880022.0</td>\n",
       "      <td>True</td>\n",
       "      <td>3.0</td>\n",
       "      <td>0.0</td>\n",
       "      <td>25.0</td>\n",
       "      <td>8.0</td>\n",
       "      <td>25.0</td>\n",
       "      <td>B</td>\n",
       "      <td>2019-08-01</td>\n",
       "    </tr>\n",
       "    <tr>\n",
       "      <th>...</th>\n",
       "      <td>...</td>\n",
       "      <td>...</td>\n",
       "      <td>...</td>\n",
       "      <td>...</td>\n",
       "      <td>...</td>\n",
       "      <td>...</td>\n",
       "      <td>...</td>\n",
       "      <td>...</td>\n",
       "      <td>...</td>\n",
       "      <td>...</td>\n",
       "      <td>...</td>\n",
       "      <td>...</td>\n",
       "      <td>...</td>\n",
       "    </tr>\n",
       "    <tr>\n",
       "      <th>514</th>\n",
       "      <td>166377</td>\n",
       "      <td>2019-11-28 00:00:00+03:00</td>\n",
       "      <td>in</td>\n",
       "      <td>False</td>\n",
       "      <td>880022.0</td>\n",
       "      <td>False</td>\n",
       "      <td>1.0</td>\n",
       "      <td>134.0</td>\n",
       "      <td>158.0</td>\n",
       "      <td>11.0</td>\n",
       "      <td>24.0</td>\n",
       "      <td>B</td>\n",
       "      <td>2019-08-01</td>\n",
       "    </tr>\n",
       "    <tr>\n",
       "      <th>515</th>\n",
       "      <td>166377</td>\n",
       "      <td>2019-11-28 00:00:00+03:00</td>\n",
       "      <td>out</td>\n",
       "      <td>False</td>\n",
       "      <td>880026.0</td>\n",
       "      <td>False</td>\n",
       "      <td>19.0</td>\n",
       "      <td>1923.0</td>\n",
       "      <td>2100.0</td>\n",
       "      <td>11.0</td>\n",
       "      <td>177.0</td>\n",
       "      <td>B</td>\n",
       "      <td>2019-08-01</td>\n",
       "    </tr>\n",
       "    <tr>\n",
       "      <th>516</th>\n",
       "      <td>166377</td>\n",
       "      <td>2019-11-28 00:00:00+03:00</td>\n",
       "      <td>out</td>\n",
       "      <td>False</td>\n",
       "      <td>880026.0</td>\n",
       "      <td>True</td>\n",
       "      <td>11.0</td>\n",
       "      <td>0.0</td>\n",
       "      <td>160.0</td>\n",
       "      <td>11.0</td>\n",
       "      <td>160.0</td>\n",
       "      <td>B</td>\n",
       "      <td>2019-08-01</td>\n",
       "    </tr>\n",
       "    <tr>\n",
       "      <th>517</th>\n",
       "      <td>166377</td>\n",
       "      <td>2019-11-28 00:00:00+03:00</td>\n",
       "      <td>in</td>\n",
       "      <td>False</td>\n",
       "      <td>880028.0</td>\n",
       "      <td>False</td>\n",
       "      <td>1.0</td>\n",
       "      <td>52.0</td>\n",
       "      <td>62.0</td>\n",
       "      <td>11.0</td>\n",
       "      <td>10.0</td>\n",
       "      <td>B</td>\n",
       "      <td>2019-08-01</td>\n",
       "    </tr>\n",
       "    <tr>\n",
       "      <th>518</th>\n",
       "      <td>166377</td>\n",
       "      <td>2019-11-28 00:00:00+03:00</td>\n",
       "      <td>out</td>\n",
       "      <td>False</td>\n",
       "      <td>880028.0</td>\n",
       "      <td>False</td>\n",
       "      <td>12.0</td>\n",
       "      <td>1053.0</td>\n",
       "      <td>1120.0</td>\n",
       "      <td>11.0</td>\n",
       "      <td>67.0</td>\n",
       "      <td>B</td>\n",
       "      <td>2019-08-01</td>\n",
       "    </tr>\n",
       "  </tbody>\n",
       "</table>\n",
       "<p>519 rows × 13 columns</p>\n",
       "</div>"
      ],
      "text/plain": [
       "     user_id                      date direction internal operator_id  \\\n",
       "0     166377 2019-08-04 00:00:00+03:00        in    False           0   \n",
       "1     166377 2019-08-05 00:00:00+03:00       out     True    880022.0   \n",
       "2     166377 2019-08-05 00:00:00+03:00       out     True    880020.0   \n",
       "3     166377 2019-08-05 00:00:00+03:00       out     True    880020.0   \n",
       "4     166377 2019-08-05 00:00:00+03:00       out    False    880022.0   \n",
       "..       ...                       ...       ...      ...         ...   \n",
       "514   166377 2019-11-28 00:00:00+03:00        in    False    880022.0   \n",
       "515   166377 2019-11-28 00:00:00+03:00       out    False    880026.0   \n",
       "516   166377 2019-11-28 00:00:00+03:00       out    False    880026.0   \n",
       "517   166377 2019-11-28 00:00:00+03:00        in    False    880028.0   \n",
       "518   166377 2019-11-28 00:00:00+03:00       out    False    880028.0   \n",
       "\n",
       "    is_missed_call  calls_count  call_duration  total_call_duration  month  \\\n",
       "0             True          2.0            0.0                  4.0    8.0   \n",
       "1             True          3.0            0.0                  5.0    8.0   \n",
       "2             True          1.0            0.0                  1.0    8.0   \n",
       "3            False          1.0           10.0                 18.0    8.0   \n",
       "4             True          3.0            0.0                 25.0    8.0   \n",
       "..             ...          ...            ...                  ...    ...   \n",
       "514          False          1.0          134.0                158.0   11.0   \n",
       "515          False         19.0         1923.0               2100.0   11.0   \n",
       "516           True         11.0            0.0                160.0   11.0   \n",
       "517          False          1.0           52.0                 62.0   11.0   \n",
       "518          False         12.0         1053.0               1120.0   11.0   \n",
       "\n",
       "     waiting_time tariff_plan date_start  \n",
       "0             4.0           B 2019-08-01  \n",
       "1             5.0           B 2019-08-01  \n",
       "2             1.0           B 2019-08-01  \n",
       "3             8.0           B 2019-08-01  \n",
       "4            25.0           B 2019-08-01  \n",
       "..            ...         ...        ...  \n",
       "514          24.0           B 2019-08-01  \n",
       "515         177.0           B 2019-08-01  \n",
       "516         160.0           B 2019-08-01  \n",
       "517          10.0           B 2019-08-01  \n",
       "518          67.0           B 2019-08-01  \n",
       "\n",
       "[519 rows x 13 columns]"
      ]
     },
     "execution_count": 23,
     "metadata": {},
     "output_type": "execute_result"
    }
   ],
   "source": [
    "muestra_1 = df_merged[df_merged['user_id']==\t166377]\n",
    "\n",
    "muestra_1\n"
   ]
  },
  {
   "cell_type": "code",
   "execution_count": 24,
   "metadata": {},
   "outputs": [
    {
     "name": "stdout",
     "output_type": "stream",
     "text": [
      "             user_id   calls_count  call_duration  total_call_duration  \\\n",
      "count   48892.000000  48892.000000   48892.000000         48892.000000   \n",
      "mean   167294.492841     16.495214     868.088788          1158.976458   \n",
      "std       598.675508     63.671633    3779.549967          4456.180933   \n",
      "min    166377.000000      1.000000       0.000000             0.000000   \n",
      "25%    166782.000000      1.000000       0.000000            46.000000   \n",
      "50%    167158.000000      4.000000      37.000000           210.000000   \n",
      "75%    167819.000000     12.000000     573.000000           902.000000   \n",
      "max    168606.000000   4817.000000  144395.000000        166155.000000   \n",
      "\n",
      "              month  waiting_time  \n",
      "count  48892.000000  48892.000000  \n",
      "mean      10.192465    290.887671  \n",
      "std        0.852225   1133.354018  \n",
      "min        8.000000      0.000000  \n",
      "25%       10.000000     17.000000  \n",
      "50%       10.000000     55.000000  \n",
      "75%       11.000000    200.000000  \n",
      "max       11.000000  46474.000000  \n"
     ]
    }
   ],
   "source": [
    "print(df_merged.describe())\n",
    "\n"
   ]
  },
  {
   "cell_type": "code",
   "execution_count": 25,
   "metadata": {},
   "outputs": [
    {
     "data": {
      "text/html": [
       "<div>\n",
       "<style scoped>\n",
       "    .dataframe tbody tr th:only-of-type {\n",
       "        vertical-align: middle;\n",
       "    }\n",
       "\n",
       "    .dataframe tbody tr th {\n",
       "        vertical-align: top;\n",
       "    }\n",
       "\n",
       "    .dataframe thead th {\n",
       "        text-align: right;\n",
       "    }\n",
       "</style>\n",
       "<table border=\"1\" class=\"dataframe\">\n",
       "  <thead>\n",
       "    <tr style=\"text-align: right;\">\n",
       "      <th></th>\n",
       "      <th>calls_count</th>\n",
       "      <th>call_duration</th>\n",
       "      <th>total_call_duration</th>\n",
       "      <th>waiting_time</th>\n",
       "    </tr>\n",
       "  </thead>\n",
       "  <tbody>\n",
       "    <tr>\n",
       "      <th>count</th>\n",
       "      <td>48892.000000</td>\n",
       "      <td>48892.000000</td>\n",
       "      <td>48892.000000</td>\n",
       "      <td>48892.000000</td>\n",
       "    </tr>\n",
       "    <tr>\n",
       "      <th>mean</th>\n",
       "      <td>16.495214</td>\n",
       "      <td>868.088788</td>\n",
       "      <td>1158.976458</td>\n",
       "      <td>290.887671</td>\n",
       "    </tr>\n",
       "    <tr>\n",
       "      <th>std</th>\n",
       "      <td>63.671633</td>\n",
       "      <td>3779.549967</td>\n",
       "      <td>4456.180933</td>\n",
       "      <td>1133.354018</td>\n",
       "    </tr>\n",
       "    <tr>\n",
       "      <th>min</th>\n",
       "      <td>1.000000</td>\n",
       "      <td>0.000000</td>\n",
       "      <td>0.000000</td>\n",
       "      <td>0.000000</td>\n",
       "    </tr>\n",
       "    <tr>\n",
       "      <th>25%</th>\n",
       "      <td>1.000000</td>\n",
       "      <td>0.000000</td>\n",
       "      <td>46.000000</td>\n",
       "      <td>17.000000</td>\n",
       "    </tr>\n",
       "    <tr>\n",
       "      <th>50%</th>\n",
       "      <td>4.000000</td>\n",
       "      <td>37.000000</td>\n",
       "      <td>210.000000</td>\n",
       "      <td>55.000000</td>\n",
       "    </tr>\n",
       "    <tr>\n",
       "      <th>75%</th>\n",
       "      <td>12.000000</td>\n",
       "      <td>573.000000</td>\n",
       "      <td>902.000000</td>\n",
       "      <td>200.000000</td>\n",
       "    </tr>\n",
       "    <tr>\n",
       "      <th>max</th>\n",
       "      <td>4817.000000</td>\n",
       "      <td>144395.000000</td>\n",
       "      <td>166155.000000</td>\n",
       "      <td>46474.000000</td>\n",
       "    </tr>\n",
       "  </tbody>\n",
       "</table>\n",
       "</div>"
      ],
      "text/plain": [
       "        calls_count  call_duration  total_call_duration  waiting_time\n",
       "count  48892.000000   48892.000000         48892.000000  48892.000000\n",
       "mean      16.495214     868.088788          1158.976458    290.887671\n",
       "std       63.671633    3779.549967          4456.180933   1133.354018\n",
       "min        1.000000       0.000000             0.000000      0.000000\n",
       "25%        1.000000       0.000000            46.000000     17.000000\n",
       "50%        4.000000      37.000000           210.000000     55.000000\n",
       "75%       12.000000     573.000000           902.000000    200.000000\n",
       "max     4817.000000  144395.000000        166155.000000  46474.000000"
      ]
     },
     "execution_count": 25,
     "metadata": {},
     "output_type": "execute_result"
    }
   ],
   "source": [
    "#eliminamos las columnas que no son necesarias para graficar\n",
    "df_final = df_merged.drop(['user_id', 'month'], axis=1)\n",
    "\n",
    "df_final.describe()"
   ]
  },
  {
   "cell_type": "code",
   "execution_count": 26,
   "metadata": {},
   "outputs": [
    {
     "data": {
      "image/png": "[encoded data removed]",
      "text/plain": [
       "<Figure size 1000x600 with 1 Axes>"
      ]
     },
     "metadata": {},
     "output_type": "display_data"
    },
    {
     "data": {
      "image/png": "[encoded data removed]",
      "text/plain": [
       "<Figure size 1000x600 with 1 Axes>"
      ]
     },
     "metadata": {},
     "output_type": "display_data"
    },
    {
     "data": {
      "image/png": "[encoded data removed]",
      "text/plain": [
       "<Figure size 1000x600 with 1 Axes>"
      ]
     },
     "metadata": {},
     "output_type": "display_data"
    },
    {
     "data": {
      "image/png": "[encoded data removed]",
      "text/plain": [
       "<Figure size 1000x600 with 1 Axes>"
      ]
     },
     "metadata": {},
     "output_type": "display_data"
    }
   ],
   "source": [
    "#Hacemos un bucle for para obtener la frecuencia de los valores de las columnas numericas\n",
    "for col in df_final.select_dtypes(include=\"number\").columns:\n",
    "    frecuencia = df_final[col].value_counts().reset_index()\n",
    "    frecuencia.columns = [col, \"frecuencia\"]\n",
    "    #creamos un scatter plot de la frecuencia de cada columna\n",
    "    plt.figure(figsize=(10,6))\n",
    "    sns.scatterplot(data=frecuencia, x=col, y='frecuencia')\n",
    "    plt.title(f\" Diagrama de Dispersion de frecuencias para {col}\")\n",
    "    plt.xlabel(col)\n",
    "    plt.ylabel(\"Frecuencia\")\n",
    "    plt.show()"
   ]
  },
  {
   "cell_type": "markdown",
   "metadata": {},
   "source": [
    "Como se puede ver en las 4 columnas graficadas tenemos valores atipicos considerables. Debemos filtrar estos valores atipicos para poder continuar con el análisis."
   ]
  },
  {
   "cell_type": "code",
   "execution_count": 27,
   "metadata": {},
   "outputs": [
    {
     "data": {
      "image/png": "[encoded data removed]",
      "text/plain": [
       "<Figure size 1000x600 with 1 Axes>"
      ]
     },
     "metadata": {},
     "output_type": "display_data"
    },
    {
     "data": {
      "image/png": "[encoded data removed]",
      "text/plain": [
       "<Figure size 1000x600 with 1 Axes>"
      ]
     },
     "metadata": {},
     "output_type": "display_data"
    },
    {
     "data": {
      "image/png": "[encoded data removed]",
      "text/plain": [
       "<Figure size 1000x600 with 1 Axes>"
      ]
     },
     "metadata": {},
     "output_type": "display_data"
    },
    {
     "data": {
      "image/png": "[encoded data removed]",
      "text/plain": [
       "<Figure size 1000x600 with 1 Axes>"
      ]
     },
     "metadata": {},
     "output_type": "display_data"
    }
   ],
   "source": [
    "#Boxplot para identificar los valores atipicos\n",
    "\n",
    "for col in df_final.select_dtypes(include=\"number\").columns:\n",
    "    plt.figure(figsize=(10,6))\n",
    "    sns.boxplot(x=df_final[col])\n",
    "    plt.title(f\"Boxplot de {col}\")\n",
    "    plt.show()"
   ]
  },
  {
   "cell_type": "code",
   "execution_count": 28,
   "metadata": {
    "scrolled": true
   },
   "outputs": [
    {
     "data": {
      "text/html": [
       "<div>\n",
       "<style scoped>\n",
       "    .dataframe tbody tr th:only-of-type {\n",
       "        vertical-align: middle;\n",
       "    }\n",
       "\n",
       "    .dataframe tbody tr th {\n",
       "        vertical-align: top;\n",
       "    }\n",
       "\n",
       "    .dataframe thead th {\n",
       "        text-align: right;\n",
       "    }\n",
       "</style>\n",
       "<table border=\"1\" class=\"dataframe\">\n",
       "  <thead>\n",
       "    <tr style=\"text-align: right;\">\n",
       "      <th></th>\n",
       "      <th>calls_count</th>\n",
       "      <th>call_duration</th>\n",
       "      <th>total_call_duration</th>\n",
       "      <th>waiting_time</th>\n",
       "    </tr>\n",
       "  </thead>\n",
       "  <tbody>\n",
       "    <tr>\n",
       "      <th>0</th>\n",
       "      <td>-0.227658</td>\n",
       "      <td>-0.229683</td>\n",
       "      <td>-0.259188</td>\n",
       "      <td>-0.253134</td>\n",
       "    </tr>\n",
       "    <tr>\n",
       "      <th>1</th>\n",
       "      <td>-0.211952</td>\n",
       "      <td>-0.229683</td>\n",
       "      <td>-0.258964</td>\n",
       "      <td>-0.252252</td>\n",
       "    </tr>\n",
       "    <tr>\n",
       "      <th>2</th>\n",
       "      <td>-0.243364</td>\n",
       "      <td>-0.229683</td>\n",
       "      <td>-0.259861</td>\n",
       "      <td>-0.255781</td>\n",
       "    </tr>\n",
       "    <tr>\n",
       "      <th>3</th>\n",
       "      <td>-0.243364</td>\n",
       "      <td>-0.227037</td>\n",
       "      <td>-0.256046</td>\n",
       "      <td>-0.249605</td>\n",
       "    </tr>\n",
       "    <tr>\n",
       "      <th>4</th>\n",
       "      <td>-0.211952</td>\n",
       "      <td>-0.229683</td>\n",
       "      <td>-0.254475</td>\n",
       "      <td>-0.234605</td>\n",
       "    </tr>\n",
       "    <tr>\n",
       "      <th>...</th>\n",
       "      <td>...</td>\n",
       "      <td>...</td>\n",
       "      <td>...</td>\n",
       "      <td>...</td>\n",
       "    </tr>\n",
       "    <tr>\n",
       "      <th>48887</th>\n",
       "      <td>-0.243364</td>\n",
       "      <td>-0.229683</td>\n",
       "      <td>-0.254475</td>\n",
       "      <td>-0.234605</td>\n",
       "    </tr>\n",
       "    <tr>\n",
       "      <th>48888</th>\n",
       "      <td>-0.243364</td>\n",
       "      <td>-0.229683</td>\n",
       "      <td>-0.251558</td>\n",
       "      <td>-0.223134</td>\n",
       "    </tr>\n",
       "    <tr>\n",
       "      <th>48889</th>\n",
       "      <td>-0.227658</td>\n",
       "      <td>-0.102947</td>\n",
       "      <td>-0.147656</td>\n",
       "      <td>-0.237252</td>\n",
       "    </tr>\n",
       "    <tr>\n",
       "      <th>48890</th>\n",
       "      <td>-0.196247</td>\n",
       "      <td>0.598467</td>\n",
       "      <td>0.455781</td>\n",
       "      <td>-0.203723</td>\n",
       "    </tr>\n",
       "    <tr>\n",
       "      <th>48891</th>\n",
       "      <td>-0.227658</td>\n",
       "      <td>-0.229683</td>\n",
       "      <td>-0.245723</td>\n",
       "      <td>-0.200193</td>\n",
       "    </tr>\n",
       "  </tbody>\n",
       "</table>\n",
       "<p>48892 rows × 4 columns</p>\n",
       "</div>"
      ],
      "text/plain": [
       "       calls_count  call_duration  total_call_duration  waiting_time\n",
       "0        -0.227658      -0.229683            -0.259188     -0.253134\n",
       "1        -0.211952      -0.229683            -0.258964     -0.252252\n",
       "2        -0.243364      -0.229683            -0.259861     -0.255781\n",
       "3        -0.243364      -0.227037            -0.256046     -0.249605\n",
       "4        -0.211952      -0.229683            -0.254475     -0.234605\n",
       "...            ...            ...                  ...           ...\n",
       "48887    -0.243364      -0.229683            -0.254475     -0.234605\n",
       "48888    -0.243364      -0.229683            -0.251558     -0.223134\n",
       "48889    -0.227658      -0.102947            -0.147656     -0.237252\n",
       "48890    -0.196247       0.598467             0.455781     -0.203723\n",
       "48891    -0.227658      -0.229683            -0.245723     -0.200193\n",
       "\n",
       "[48892 rows x 4 columns]"
      ]
     },
     "execution_count": 28,
     "metadata": {},
     "output_type": "execute_result"
    }
   ],
   "source": [
    "z_score = st.zscore(df_final.select_dtypes(\"number\"))\n",
    "\n",
    "z_score\n",
    "\n"
   ]
  },
  {
   "cell_type": "code",
   "execution_count": 52,
   "metadata": {},
   "outputs": [
    {
     "name": "stdout",
     "output_type": "stream",
     "text": [
      "        calls_count  call_duration  total_call_duration  waiting_time\n",
      "count  45746.000000   45746.000000         45746.000000  45746.000000\n",
      "mean       8.253989     438.938639           577.566716    138.628077\n",
      "std       11.695127     827.646396           922.060233    221.871430\n",
      "min        1.000000       0.000000             0.000000      0.000000\n",
      "25%        1.000000       0.000000            42.000000     16.000000\n",
      "50%        3.000000      32.000000           173.000000     48.000000\n",
      "75%       10.000000     470.000000           671.000000    156.000000\n",
      "max       80.000000    4647.000000          5601.000000   1424.000000\n",
      "date                   0\n",
      "direction              0\n",
      "internal               0\n",
      "operator_id            0\n",
      "is_missed_call         0\n",
      "calls_count            0\n",
      "call_duration          0\n",
      "total_call_duration    0\n",
      "waiting_time           0\n",
      "tariff_plan            0\n",
      "date_start             0\n",
      "dtype: int64\n"
     ]
    }
   ],
   "source": [
    "filtered_entries  =(z_score < 1).all(axis=1)\n",
    "filtered_df_final = df_final[filtered_entries]\n",
    "\n",
    "print(filtered_df_final.describe())\n",
    "\n",
    "print(filtered_df_final.isna().sum())\n",
    "\n"
   ]
  },
  {
   "cell_type": "code",
   "execution_count": 30,
   "metadata": {},
   "outputs": [
    {
     "data": {
      "image/png": "[encoded data removed]",
      "text/plain": [
       "<Figure size 1000x600 with 1 Axes>"
      ]
     },
     "metadata": {},
     "output_type": "display_data"
    },
    {
     "data": {
      "image/png": "[encoded data removed]",
      "text/plain": [
       "<Figure size 1000x600 with 1 Axes>"
      ]
     },
     "metadata": {},
     "output_type": "display_data"
    },
    {
     "data": {
      "image/png": "[encoded data removed]",
      "text/plain": [
       "<Figure size 1000x600 with 1 Axes>"
      ]
     },
     "metadata": {},
     "output_type": "display_data"
    },
    {
     "data": {
      "image/png": "[encoded data removed]",
      "text/plain": [
       "<Figure size 1000x600 with 1 Axes>"
      ]
     },
     "metadata": {},
     "output_type": "display_data"
    }
   ],
   "source": [
    "#Boxplot para identificar los valores atipicos\n",
    "for col in filtered_df_final.select_dtypes(include=\"number\").columns:\n",
    "    plt.figure(figsize=(10,6))\n",
    "    sns.boxplot(x=filtered_df_final[col])\n",
    "    plt.title(f\"Boxplot de {col}\")\n",
    "    plt.show()"
   ]
  },
  {
   "cell_type": "code",
   "execution_count": null,
   "metadata": {},
   "outputs": [],
   "source": []
  },
  {
   "cell_type": "code",
   "execution_count": 31,
   "metadata": {},
   "outputs": [
    {
     "name": "stdout",
     "output_type": "stream",
     "text": [
      "     operator_id  avg_waiting_time\n",
      "0       879896.0        104.914530\n",
      "1       879898.0        459.690265\n",
      "2       880020.0         14.000000\n",
      "3       880022.0         53.971429\n",
      "4       880026.0        121.978022\n",
      "...          ...               ...\n",
      "1088    972412.0        210.000000\n",
      "1089    972460.0         88.571429\n",
      "1090    973120.0         10.000000\n",
      "1091    973286.0         88.000000\n",
      "1092           0        171.333739\n",
      "\n",
      "[1093 rows x 2 columns]\n",
      "290.8876707845864\n"
     ]
    }
   ],
   "source": [
    "avg_waiting_time =df_merged.groupby('operator_id')['waiting_time'].mean().reset_index()\n",
    "\n",
    "avg_waiting_time.columns = ['operator_id', 'avg_waiting_time']\n",
    "\n",
    "print(avg_waiting_time)\n",
    "\n",
    "avg_waiting_time_total = df_merged['waiting_time'].mean()\n",
    "\n",
    "print(avg_waiting_time_total)"
   ]
  },
  {
   "cell_type": "markdown",
   "metadata": {},
   "source": [
    "Encontramos el tiempo promedio de espera en llamada 290 segundos"
   ]
  },
  {
   "cell_type": "code",
   "execution_count": 32,
   "metadata": {},
   "outputs": [
    {
     "data": {
      "text/html": [
       "<div>\n",
       "<style scoped>\n",
       "    .dataframe tbody tr th:only-of-type {\n",
       "        vertical-align: middle;\n",
       "    }\n",
       "\n",
       "    .dataframe tbody tr th {\n",
       "        vertical-align: top;\n",
       "    }\n",
       "\n",
       "    .dataframe thead th {\n",
       "        text-align: right;\n",
       "    }\n",
       "</style>\n",
       "<table border=\"1\" class=\"dataframe\">\n",
       "  <thead>\n",
       "    <tr style=\"text-align: right;\">\n",
       "      <th></th>\n",
       "      <th>operator_id</th>\n",
       "      <th>missed_calls_count</th>\n",
       "    </tr>\n",
       "  </thead>\n",
       "  <tbody>\n",
       "    <tr>\n",
       "      <th>0</th>\n",
       "      <td>882680.0</td>\n",
       "      <td>3.0</td>\n",
       "    </tr>\n",
       "    <tr>\n",
       "      <th>1</th>\n",
       "      <td>882684.0</td>\n",
       "      <td>4.0</td>\n",
       "    </tr>\n",
       "    <tr>\n",
       "      <th>2</th>\n",
       "      <td>882686.0</td>\n",
       "      <td>6.0</td>\n",
       "    </tr>\n",
       "    <tr>\n",
       "      <th>3</th>\n",
       "      <td>882690.0</td>\n",
       "      <td>2.0</td>\n",
       "    </tr>\n",
       "    <tr>\n",
       "      <th>4</th>\n",
       "      <td>884408.0</td>\n",
       "      <td>4.0</td>\n",
       "    </tr>\n",
       "    <tr>\n",
       "      <th>...</th>\n",
       "      <td>...</td>\n",
       "      <td>...</td>\n",
       "    </tr>\n",
       "    <tr>\n",
       "      <th>235</th>\n",
       "      <td>960620.0</td>\n",
       "      <td>1.0</td>\n",
       "    </tr>\n",
       "    <tr>\n",
       "      <th>236</th>\n",
       "      <td>964510.0</td>\n",
       "      <td>2.0</td>\n",
       "    </tr>\n",
       "    <tr>\n",
       "      <th>237</th>\n",
       "      <td>964666.0</td>\n",
       "      <td>3.0</td>\n",
       "    </tr>\n",
       "    <tr>\n",
       "      <th>238</th>\n",
       "      <td>969272.0</td>\n",
       "      <td>1.0</td>\n",
       "    </tr>\n",
       "    <tr>\n",
       "      <th>239</th>\n",
       "      <td>0</td>\n",
       "      <td>103238.0</td>\n",
       "    </tr>\n",
       "  </tbody>\n",
       "</table>\n",
       "<p>240 rows × 2 columns</p>\n",
       "</div>"
      ],
      "text/plain": [
       "    operator_id  missed_calls_count\n",
       "0      882680.0                 3.0\n",
       "1      882684.0                 4.0\n",
       "2      882686.0                 6.0\n",
       "3      882690.0                 2.0\n",
       "4      884408.0                 4.0\n",
       "..          ...                 ...\n",
       "235    960620.0                 1.0\n",
       "236    964510.0                 2.0\n",
       "237    964666.0                 3.0\n",
       "238    969272.0                 1.0\n",
       "239           0            103238.0\n",
       "\n",
       "[240 rows x 2 columns]"
      ]
     },
     "execution_count": 32,
     "metadata": {},
     "output_type": "execute_result"
    }
   ],
   "source": [
    "# Filtra las llamadas entrantes\n",
    "incoming_calls = df_merged[df_merged['direction'] == 'in']\n",
    "\n",
    "# Calcula el número de llamadas perdidas por operador\n",
    "missed_calls = incoming_calls[incoming_calls['is_missed_call'] == True]\n",
    "missed_calls_count = missed_calls.groupby('operator_id')['calls_count'].sum().reset_index()\n",
    "missed_calls_count.columns = ['operator_id', 'missed_calls_count']\n",
    "\n",
    "missed_calls_count"
   ]
  },
  {
   "cell_type": "markdown",
   "metadata": {},
   "source": [
    "Encontramos las llamadas perdidas por usuario y podemos ver que las llamadas perdidas sin operador son 103238."
   ]
  },
  {
   "cell_type": "code",
   "execution_count": 33,
   "metadata": {},
   "outputs": [
    {
     "data": {
      "text/html": [
       "<div>\n",
       "<style scoped>\n",
       "    .dataframe tbody tr th:only-of-type {\n",
       "        vertical-align: middle;\n",
       "    }\n",
       "\n",
       "    .dataframe tbody tr th {\n",
       "        vertical-align: top;\n",
       "    }\n",
       "\n",
       "    .dataframe thead th {\n",
       "        text-align: right;\n",
       "    }\n",
       "</style>\n",
       "<table border=\"1\" class=\"dataframe\">\n",
       "  <thead>\n",
       "    <tr style=\"text-align: right;\">\n",
       "      <th></th>\n",
       "      <th>operator_id</th>\n",
       "      <th>missed_calls_count</th>\n",
       "      <th>avg_waiting_time</th>\n",
       "    </tr>\n",
       "  </thead>\n",
       "  <tbody>\n",
       "    <tr>\n",
       "      <th>239</th>\n",
       "      <td>0</td>\n",
       "      <td>103238.0</td>\n",
       "      <td>171.333739</td>\n",
       "    </tr>\n",
       "    <tr>\n",
       "      <th>98</th>\n",
       "      <td>913942.0</td>\n",
       "      <td>52.0</td>\n",
       "      <td>282.948148</td>\n",
       "    </tr>\n",
       "    <tr>\n",
       "      <th>210</th>\n",
       "      <td>944226.0</td>\n",
       "      <td>30.0</td>\n",
       "      <td>106.784091</td>\n",
       "    </tr>\n",
       "    <tr>\n",
       "      <th>196</th>\n",
       "      <td>940588.0</td>\n",
       "      <td>30.0</td>\n",
       "      <td>112.691176</td>\n",
       "    </tr>\n",
       "    <tr>\n",
       "      <th>6</th>\n",
       "      <td>885890.0</td>\n",
       "      <td>26.0</td>\n",
       "      <td>5703.565217</td>\n",
       "    </tr>\n",
       "    <tr>\n",
       "      <th>...</th>\n",
       "      <td>...</td>\n",
       "      <td>...</td>\n",
       "      <td>...</td>\n",
       "    </tr>\n",
       "    <tr>\n",
       "      <th>139</th>\n",
       "      <td>926490.0</td>\n",
       "      <td>1.0</td>\n",
       "      <td>47.333333</td>\n",
       "    </tr>\n",
       "    <tr>\n",
       "      <th>34</th>\n",
       "      <td>897872.0</td>\n",
       "      <td>1.0</td>\n",
       "      <td>11.965517</td>\n",
       "    </tr>\n",
       "    <tr>\n",
       "      <th>137</th>\n",
       "      <td>925826.0</td>\n",
       "      <td>1.0</td>\n",
       "      <td>93.109091</td>\n",
       "    </tr>\n",
       "    <tr>\n",
       "      <th>136</th>\n",
       "      <td>924960.0</td>\n",
       "      <td>1.0</td>\n",
       "      <td>36.111940</td>\n",
       "    </tr>\n",
       "    <tr>\n",
       "      <th>149</th>\n",
       "      <td>930242.0</td>\n",
       "      <td>1.0</td>\n",
       "      <td>17.250000</td>\n",
       "    </tr>\n",
       "  </tbody>\n",
       "</table>\n",
       "<p>240 rows × 3 columns</p>\n",
       "</div>"
      ],
      "text/plain": [
       "    operator_id  missed_calls_count  avg_waiting_time\n",
       "239           0            103238.0        171.333739\n",
       "98     913942.0                52.0        282.948148\n",
       "210    944226.0                30.0        106.784091\n",
       "196    940588.0                30.0        112.691176\n",
       "6      885890.0                26.0       5703.565217\n",
       "..          ...                 ...               ...\n",
       "139    926490.0                 1.0         47.333333\n",
       "34     897872.0                 1.0         11.965517\n",
       "137    925826.0                 1.0         93.109091\n",
       "136    924960.0                 1.0         36.111940\n",
       "149    930242.0                 1.0         17.250000\n",
       "\n",
       "[240 rows x 3 columns]"
      ]
     },
     "execution_count": 33,
     "metadata": {},
     "output_type": "execute_result"
    }
   ],
   "source": [
    "# Unir ambas métricas (llamadas perdidas y tiempo de espera promedio)\n",
    "ineffective_operators = pd.merge(missed_calls_count, avg_waiting_time, on='operator_id').sort_values(by='missed_calls_count', ascending=False)\n",
    "\n",
    "ineffective_operators"
   ]
  },
  {
   "cell_type": "markdown",
   "metadata": {},
   "source": [
    "Aca podemos ver que hay muchas llamadas (103238) a las que no se les asigna un operador, lo que es una oportunidad de mejora muy grande. Dejare por fuera para encontrar el promedio de llamadas perdidas ya que si lo dejo esto sesgaria los resultados."
   ]
  },
  {
   "cell_type": "code",
   "execution_count": 34,
   "metadata": {},
   "outputs": [
    {
     "name": "stdout",
     "output_type": "stream",
     "text": [
      "     operator_id  avg_missed_calls_count\n",
      "0       882680.0                     3.0\n",
      "1       882684.0                     4.0\n",
      "2       882686.0                     6.0\n",
      "3       882690.0                     2.0\n",
      "4       884408.0                     4.0\n",
      "..           ...                     ...\n",
      "234     959312.0                     7.0\n",
      "235     960620.0                     1.0\n",
      "236     964510.0                     2.0\n",
      "237     964666.0                     3.0\n",
      "238     969272.0                     1.0\n",
      "\n",
      "[239 rows x 2 columns]\n",
      "3.8702928870292888\n"
     ]
    },
    {
     "data": {
      "text/html": [
       "<div>\n",
       "<style scoped>\n",
       "    .dataframe tbody tr th:only-of-type {\n",
       "        vertical-align: middle;\n",
       "    }\n",
       "\n",
       "    .dataframe tbody tr th {\n",
       "        vertical-align: top;\n",
       "    }\n",
       "\n",
       "    .dataframe thead th {\n",
       "        text-align: right;\n",
       "    }\n",
       "</style>\n",
       "<table border=\"1\" class=\"dataframe\">\n",
       "  <thead>\n",
       "    <tr style=\"text-align: right;\">\n",
       "      <th></th>\n",
       "      <th>operator_id</th>\n",
       "      <th>missed_calls_count</th>\n",
       "      <th>avg_waiting_time</th>\n",
       "    </tr>\n",
       "  </thead>\n",
       "  <tbody>\n",
       "    <tr>\n",
       "      <th>98</th>\n",
       "      <td>913942.0</td>\n",
       "      <td>52.0</td>\n",
       "      <td>282.948148</td>\n",
       "    </tr>\n",
       "    <tr>\n",
       "      <th>210</th>\n",
       "      <td>944226.0</td>\n",
       "      <td>30.0</td>\n",
       "      <td>106.784091</td>\n",
       "    </tr>\n",
       "    <tr>\n",
       "      <th>196</th>\n",
       "      <td>940588.0</td>\n",
       "      <td>30.0</td>\n",
       "      <td>112.691176</td>\n",
       "    </tr>\n",
       "    <tr>\n",
       "      <th>6</th>\n",
       "      <td>885890.0</td>\n",
       "      <td>26.0</td>\n",
       "      <td>5703.565217</td>\n",
       "    </tr>\n",
       "    <tr>\n",
       "      <th>179</th>\n",
       "      <td>937956.0</td>\n",
       "      <td>24.0</td>\n",
       "      <td>17.150000</td>\n",
       "    </tr>\n",
       "    <tr>\n",
       "      <th>...</th>\n",
       "      <td>...</td>\n",
       "      <td>...</td>\n",
       "      <td>...</td>\n",
       "    </tr>\n",
       "    <tr>\n",
       "      <th>139</th>\n",
       "      <td>926490.0</td>\n",
       "      <td>1.0</td>\n",
       "      <td>47.333333</td>\n",
       "    </tr>\n",
       "    <tr>\n",
       "      <th>34</th>\n",
       "      <td>897872.0</td>\n",
       "      <td>1.0</td>\n",
       "      <td>11.965517</td>\n",
       "    </tr>\n",
       "    <tr>\n",
       "      <th>137</th>\n",
       "      <td>925826.0</td>\n",
       "      <td>1.0</td>\n",
       "      <td>93.109091</td>\n",
       "    </tr>\n",
       "    <tr>\n",
       "      <th>136</th>\n",
       "      <td>924960.0</td>\n",
       "      <td>1.0</td>\n",
       "      <td>36.111940</td>\n",
       "    </tr>\n",
       "    <tr>\n",
       "      <th>149</th>\n",
       "      <td>930242.0</td>\n",
       "      <td>1.0</td>\n",
       "      <td>17.250000</td>\n",
       "    </tr>\n",
       "  </tbody>\n",
       "</table>\n",
       "<p>239 rows × 3 columns</p>\n",
       "</div>"
      ],
      "text/plain": [
       "    operator_id  missed_calls_count  avg_waiting_time\n",
       "98     913942.0                52.0        282.948148\n",
       "210    944226.0                30.0        106.784091\n",
       "196    940588.0                30.0        112.691176\n",
       "6      885890.0                26.0       5703.565217\n",
       "179    937956.0                24.0         17.150000\n",
       "..          ...                 ...               ...\n",
       "139    926490.0                 1.0         47.333333\n",
       "34     897872.0                 1.0         11.965517\n",
       "137    925826.0                 1.0         93.109091\n",
       "136    924960.0                 1.0         36.111940\n",
       "149    930242.0                 1.0         17.250000\n",
       "\n",
       "[239 rows x 3 columns]"
      ]
     },
     "execution_count": 34,
     "metadata": {},
     "output_type": "execute_result"
    }
   ],
   "source": [
    "innefective_operators_incoming_calls = ineffective_operators[ineffective_operators['operator_id']!= '0'] \n",
    "\n",
    "avg_missed_calls_operator = innefective_operators_incoming_calls.groupby('operator_id')['missed_calls_count'].mean().reset_index()\n",
    "\n",
    "avg_missed_calls_operator.columns= ['operator_id', 'avg_missed_calls_count']\n",
    "\n",
    "print(avg_missed_calls_operator)\n",
    "\n",
    "avg_missed_calls = avg_missed_calls_operator['avg_missed_calls_count'].mean()\n",
    "\n",
    "print(avg_missed_calls)\n",
    "\n",
    "innefective_operators_incoming_calls"
   ]
  },
  {
   "cell_type": "markdown",
   "metadata": {},
   "source": [
    "Encontramos que el promedio de llamadas perdidas totales es 3.87 llamadas. Podemos establecer estos 2 promedios como umbrales para encontrar los operadores ineficaces."
   ]
  },
  {
   "cell_type": "code",
   "execution_count": 35,
   "metadata": {},
   "outputs": [
    {
     "name": "stdout",
     "output_type": "stream",
     "text": [
      "Operadores ineficaces:\n"
     ]
    },
    {
     "data": {
      "text/html": [
       "<div>\n",
       "<style scoped>\n",
       "    .dataframe tbody tr th:only-of-type {\n",
       "        vertical-align: middle;\n",
       "    }\n",
       "\n",
       "    .dataframe tbody tr th {\n",
       "        vertical-align: top;\n",
       "    }\n",
       "\n",
       "    .dataframe thead th {\n",
       "        text-align: right;\n",
       "    }\n",
       "</style>\n",
       "<table border=\"1\" class=\"dataframe\">\n",
       "  <thead>\n",
       "    <tr style=\"text-align: right;\">\n",
       "      <th></th>\n",
       "      <th>operator_id</th>\n",
       "      <th>missed_calls_count</th>\n",
       "      <th>avg_waiting_time</th>\n",
       "    </tr>\n",
       "  </thead>\n",
       "  <tbody>\n",
       "    <tr>\n",
       "      <th>6</th>\n",
       "      <td>885890.0</td>\n",
       "      <td>26.0</td>\n",
       "      <td>5703.565217</td>\n",
       "    </tr>\n",
       "    <tr>\n",
       "      <th>5</th>\n",
       "      <td>885876.0</td>\n",
       "      <td>20.0</td>\n",
       "      <td>4838.459364</td>\n",
       "    </tr>\n",
       "    <tr>\n",
       "      <th>199</th>\n",
       "      <td>940622.0</td>\n",
       "      <td>16.0</td>\n",
       "      <td>305.440678</td>\n",
       "    </tr>\n",
       "    <tr>\n",
       "      <th>97</th>\n",
       "      <td>913938.0</td>\n",
       "      <td>14.0</td>\n",
       "      <td>338.851351</td>\n",
       "    </tr>\n",
       "    <tr>\n",
       "      <th>150</th>\n",
       "      <td>931458.0</td>\n",
       "      <td>12.0</td>\n",
       "      <td>555.507246</td>\n",
       "    </tr>\n",
       "    <tr>\n",
       "      <th>113</th>\n",
       "      <td>919554.0</td>\n",
       "      <td>11.0</td>\n",
       "      <td>461.650602</td>\n",
       "    </tr>\n",
       "    <tr>\n",
       "      <th>204</th>\n",
       "      <td>940658.0</td>\n",
       "      <td>10.0</td>\n",
       "      <td>385.132530</td>\n",
       "    </tr>\n",
       "    <tr>\n",
       "      <th>138</th>\n",
       "      <td>925922.0</td>\n",
       "      <td>10.0</td>\n",
       "      <td>5805.027397</td>\n",
       "    </tr>\n",
       "    <tr>\n",
       "      <th>109</th>\n",
       "      <td>919204.0</td>\n",
       "      <td>9.0</td>\n",
       "      <td>429.454545</td>\n",
       "    </tr>\n",
       "    <tr>\n",
       "      <th>110</th>\n",
       "      <td>919206.0</td>\n",
       "      <td>9.0</td>\n",
       "      <td>388.684211</td>\n",
       "    </tr>\n",
       "    <tr>\n",
       "      <th>203</th>\n",
       "      <td>940652.0</td>\n",
       "      <td>9.0</td>\n",
       "      <td>377.018182</td>\n",
       "    </tr>\n",
       "    <tr>\n",
       "      <th>198</th>\n",
       "      <td>940616.0</td>\n",
       "      <td>6.0</td>\n",
       "      <td>610.474359</td>\n",
       "    </tr>\n",
       "    <tr>\n",
       "      <th>124</th>\n",
       "      <td>921318.0</td>\n",
       "      <td>6.0</td>\n",
       "      <td>488.598639</td>\n",
       "    </tr>\n",
       "    <tr>\n",
       "      <th>202</th>\n",
       "      <td>940634.0</td>\n",
       "      <td>6.0</td>\n",
       "      <td>517.820896</td>\n",
       "    </tr>\n",
       "    <tr>\n",
       "      <th>200</th>\n",
       "      <td>940624.0</td>\n",
       "      <td>6.0</td>\n",
       "      <td>340.240506</td>\n",
       "    </tr>\n",
       "    <tr>\n",
       "      <th>186</th>\n",
       "      <td>938896.0</td>\n",
       "      <td>5.0</td>\n",
       "      <td>399.949275</td>\n",
       "    </tr>\n",
       "    <tr>\n",
       "      <th>173</th>\n",
       "      <td>937860.0</td>\n",
       "      <td>5.0</td>\n",
       "      <td>410.320988</td>\n",
       "    </tr>\n",
       "    <tr>\n",
       "      <th>146</th>\n",
       "      <td>929424.0</td>\n",
       "      <td>5.0</td>\n",
       "      <td>505.547619</td>\n",
       "    </tr>\n",
       "  </tbody>\n",
       "</table>\n",
       "</div>"
      ],
      "text/plain": [
       "    operator_id  missed_calls_count  avg_waiting_time\n",
       "6      885890.0                26.0       5703.565217\n",
       "5      885876.0                20.0       4838.459364\n",
       "199    940622.0                16.0        305.440678\n",
       "97     913938.0                14.0        338.851351\n",
       "150    931458.0                12.0        555.507246\n",
       "113    919554.0                11.0        461.650602\n",
       "204    940658.0                10.0        385.132530\n",
       "138    925922.0                10.0       5805.027397\n",
       "109    919204.0                 9.0        429.454545\n",
       "110    919206.0                 9.0        388.684211\n",
       "203    940652.0                 9.0        377.018182\n",
       "198    940616.0                 6.0        610.474359\n",
       "124    921318.0                 6.0        488.598639\n",
       "202    940634.0                 6.0        517.820896\n",
       "200    940624.0                 6.0        340.240506\n",
       "186    938896.0                 5.0        399.949275\n",
       "173    937860.0                 5.0        410.320988\n",
       "146    929424.0                 5.0        505.547619"
      ]
     },
     "execution_count": 35,
     "metadata": {},
     "output_type": "execute_result"
    }
   ],
   "source": [
    "# Define umbrales para identificar operadores ineficaces\n",
    "missed_call_threshold = 4  \n",
    "waiting_time_threshold = 290  \n",
    "\n",
    "# Filtra los operadores que superen ambos umbrales\n",
    "innefective_operators_incoming_calls = innefective_operators_incoming_calls[\n",
    "    (innefective_operators_incoming_calls['missed_calls_count'] > missed_call_threshold) &\n",
    "    (innefective_operators_incoming_calls['avg_waiting_time'] > waiting_time_threshold)\n",
    "]\n",
    "\n",
    "# Muestra los operadores ineficaces\n",
    "print(\"Operadores ineficaces:\")\n",
    "innefective_operators_incoming_calls"
   ]
  },
  {
   "cell_type": "code",
   "execution_count": 36,
   "metadata": {},
   "outputs": [
    {
     "data": {
      "text/html": [
       "<div>\n",
       "<style scoped>\n",
       "    .dataframe tbody tr th:only-of-type {\n",
       "        vertical-align: middle;\n",
       "    }\n",
       "\n",
       "    .dataframe tbody tr th {\n",
       "        vertical-align: top;\n",
       "    }\n",
       "\n",
       "    .dataframe thead th {\n",
       "        text-align: right;\n",
       "    }\n",
       "</style>\n",
       "<table border=\"1\" class=\"dataframe\">\n",
       "  <thead>\n",
       "    <tr style=\"text-align: right;\">\n",
       "      <th></th>\n",
       "      <th>operator_id</th>\n",
       "      <th>total_outgoing_calls</th>\n",
       "    </tr>\n",
       "  </thead>\n",
       "  <tbody>\n",
       "    <tr>\n",
       "      <th>25</th>\n",
       "      <td>885890.0</td>\n",
       "      <td>58977.0</td>\n",
       "    </tr>\n",
       "    <tr>\n",
       "      <th>24</th>\n",
       "      <td>885876.0</td>\n",
       "      <td>58437.0</td>\n",
       "    </tr>\n",
       "    <tr>\n",
       "      <th>466</th>\n",
       "      <td>929428.0</td>\n",
       "      <td>23754.0</td>\n",
       "    </tr>\n",
       "    <tr>\n",
       "      <th>446</th>\n",
       "      <td>925922.0</td>\n",
       "      <td>19603.0</td>\n",
       "    </tr>\n",
       "    <tr>\n",
       "      <th>255</th>\n",
       "      <td>908640.0</td>\n",
       "      <td>14239.0</td>\n",
       "    </tr>\n",
       "    <tr>\n",
       "      <th>...</th>\n",
       "      <td>...</td>\n",
       "      <td>...</td>\n",
       "    </tr>\n",
       "    <tr>\n",
       "      <th>654</th>\n",
       "      <td>941826.0</td>\n",
       "      <td>1.0</td>\n",
       "    </tr>\n",
       "    <tr>\n",
       "      <th>653</th>\n",
       "      <td>941816.0</td>\n",
       "      <td>1.0</td>\n",
       "    </tr>\n",
       "    <tr>\n",
       "      <th>298</th>\n",
       "      <td>914626.0</td>\n",
       "      <td>1.0</td>\n",
       "    </tr>\n",
       "    <tr>\n",
       "      <th>718</th>\n",
       "      <td>947596.0</td>\n",
       "      <td>1.0</td>\n",
       "    </tr>\n",
       "    <tr>\n",
       "      <th>486</th>\n",
       "      <td>930816.0</td>\n",
       "      <td>1.0</td>\n",
       "    </tr>\n",
       "  </tbody>\n",
       "</table>\n",
       "<p>883 rows × 2 columns</p>\n",
       "</div>"
      ],
      "text/plain": [
       "    operator_id  total_outgoing_calls\n",
       "25     885890.0               58977.0\n",
       "24     885876.0               58437.0\n",
       "466    929428.0               23754.0\n",
       "446    925922.0               19603.0\n",
       "255    908640.0               14239.0\n",
       "..          ...                   ...\n",
       "654    941826.0                   1.0\n",
       "653    941816.0                   1.0\n",
       "298    914626.0                   1.0\n",
       "718    947596.0                   1.0\n",
       "486    930816.0                   1.0\n",
       "\n",
       "[883 rows x 2 columns]"
      ]
     },
     "execution_count": 36,
     "metadata": {},
     "output_type": "execute_result"
    }
   ],
   "source": [
    "# Busqueda del numero de llamadas salientes \n",
    "outbound_calls = df_merged[df_merged['direction'] == 'out']\n",
    "\n",
    "# Agrupar por operador y sumar el número de llamadas\n",
    "calls_per_operator = outbound_calls.groupby('operator_id')['calls_count'].sum().reset_index().sort_values(by='calls_count',ascending=False)\n",
    "\n",
    "# Renombrar la columna para mayor claridad\n",
    "calls_per_operator.columns = ['operator_id', 'total_outgoing_calls']\n",
    "\n",
    "\n",
    "calls_per_operator"
   ]
  },
  {
   "cell_type": "code",
   "execution_count": 37,
   "metadata": {},
   "outputs": [
    {
     "data": {
      "text/html": [
       "<div>\n",
       "<style scoped>\n",
       "    .dataframe tbody tr th:only-of-type {\n",
       "        vertical-align: middle;\n",
       "    }\n",
       "\n",
       "    .dataframe tbody tr th {\n",
       "        vertical-align: top;\n",
       "    }\n",
       "\n",
       "    .dataframe thead th {\n",
       "        text-align: right;\n",
       "    }\n",
       "</style>\n",
       "<table border=\"1\" class=\"dataframe\">\n",
       "  <thead>\n",
       "    <tr style=\"text-align: right;\">\n",
       "      <th></th>\n",
       "      <th>operator_id</th>\n",
       "      <th>total_outgoing_calls</th>\n",
       "    </tr>\n",
       "  </thead>\n",
       "  <tbody>\n",
       "    <tr>\n",
       "      <th>882</th>\n",
       "      <td>0</td>\n",
       "      <td>515.0</td>\n",
       "    </tr>\n",
       "  </tbody>\n",
       "</table>\n",
       "</div>"
      ],
      "text/plain": [
       "    operator_id  total_outgoing_calls\n",
       "882           0                 515.0"
      ]
     },
     "execution_count": 37,
     "metadata": {},
     "output_type": "execute_result"
    }
   ],
   "source": [
    "muestra = calls_per_operator[calls_per_operator['operator_id']== '0'\t]\n",
    "\n",
    "muestra"
   ]
  },
  {
   "cell_type": "code",
   "execution_count": 38,
   "metadata": {},
   "outputs": [
    {
     "data": {
      "text/html": [
       "<div>\n",
       "<style scoped>\n",
       "    .dataframe tbody tr th:only-of-type {\n",
       "        vertical-align: middle;\n",
       "    }\n",
       "\n",
       "    .dataframe tbody tr th {\n",
       "        vertical-align: top;\n",
       "    }\n",
       "\n",
       "    .dataframe thead th {\n",
       "        text-align: right;\n",
       "    }\n",
       "</style>\n",
       "<table border=\"1\" class=\"dataframe\">\n",
       "  <thead>\n",
       "    <tr style=\"text-align: right;\">\n",
       "      <th></th>\n",
       "      <th>operator_id</th>\n",
       "      <th>total_outgoing_calls</th>\n",
       "    </tr>\n",
       "  </thead>\n",
       "  <tbody>\n",
       "    <tr>\n",
       "      <th>25</th>\n",
       "      <td>885890.0</td>\n",
       "      <td>58977.0</td>\n",
       "    </tr>\n",
       "    <tr>\n",
       "      <th>24</th>\n",
       "      <td>885876.0</td>\n",
       "      <td>58437.0</td>\n",
       "    </tr>\n",
       "    <tr>\n",
       "      <th>466</th>\n",
       "      <td>929428.0</td>\n",
       "      <td>23754.0</td>\n",
       "    </tr>\n",
       "    <tr>\n",
       "      <th>446</th>\n",
       "      <td>925922.0</td>\n",
       "      <td>19603.0</td>\n",
       "    </tr>\n",
       "    <tr>\n",
       "      <th>255</th>\n",
       "      <td>908640.0</td>\n",
       "      <td>14239.0</td>\n",
       "    </tr>\n",
       "    <tr>\n",
       "      <th>...</th>\n",
       "      <td>...</td>\n",
       "      <td>...</td>\n",
       "    </tr>\n",
       "    <tr>\n",
       "      <th>654</th>\n",
       "      <td>941826.0</td>\n",
       "      <td>1.0</td>\n",
       "    </tr>\n",
       "    <tr>\n",
       "      <th>653</th>\n",
       "      <td>941816.0</td>\n",
       "      <td>1.0</td>\n",
       "    </tr>\n",
       "    <tr>\n",
       "      <th>298</th>\n",
       "      <td>914626.0</td>\n",
       "      <td>1.0</td>\n",
       "    </tr>\n",
       "    <tr>\n",
       "      <th>718</th>\n",
       "      <td>947596.0</td>\n",
       "      <td>1.0</td>\n",
       "    </tr>\n",
       "    <tr>\n",
       "      <th>486</th>\n",
       "      <td>930816.0</td>\n",
       "      <td>1.0</td>\n",
       "    </tr>\n",
       "  </tbody>\n",
       "</table>\n",
       "<p>882 rows × 2 columns</p>\n",
       "</div>"
      ],
      "text/plain": [
       "    operator_id  total_outgoing_calls\n",
       "25     885890.0               58977.0\n",
       "24     885876.0               58437.0\n",
       "466    929428.0               23754.0\n",
       "446    925922.0               19603.0\n",
       "255    908640.0               14239.0\n",
       "..          ...                   ...\n",
       "654    941826.0                   1.0\n",
       "653    941816.0                   1.0\n",
       "298    914626.0                   1.0\n",
       "718    947596.0                   1.0\n",
       "486    930816.0                   1.0\n",
       "\n",
       "[882 rows x 2 columns]"
      ]
     },
     "execution_count": 38,
     "metadata": {},
     "output_type": "execute_result"
    }
   ],
   "source": [
    "calls_per_operator_without_0 = calls_per_operator[calls_per_operator['operator_id']!= '0'\t]\n",
    "\n",
    "calls_per_operator_without_0"
   ]
  },
  {
   "cell_type": "code",
   "execution_count": 39,
   "metadata": {},
   "outputs": [
    {
     "name": "stdout",
     "output_type": "stream",
     "text": [
      "689.7312925170068\n"
     ]
    }
   ],
   "source": [
    "avg_outbound_calls_total = calls_per_operator_without_0['total_outgoing_calls'].mean()\n",
    "\n",
    "print(avg_outbound_calls_total)\n",
    "\n"
   ]
  },
  {
   "cell_type": "markdown",
   "metadata": {},
   "source": [
    "En promedio por operador realiza 689 llamadas."
   ]
  },
  {
   "cell_type": "code",
   "execution_count": 40,
   "metadata": {},
   "outputs": [
    {
     "name": "stdout",
     "output_type": "stream",
     "text": [
      "Operadores ineficaces:\n",
      "    operator_id  total_outgoing_calls\n",
      "389    920728.0                  99.0\n",
      "496    932292.0                  97.0\n",
      "115    896390.0                  97.0\n",
      "205    905570.0                  96.0\n",
      "274    911310.0                  95.0\n",
      "..          ...                   ...\n",
      "654    941826.0                   1.0\n",
      "653    941816.0                   1.0\n",
      "298    914626.0                   1.0\n",
      "718    947596.0                   1.0\n",
      "486    930816.0                   1.0\n",
      "\n",
      "[453 rows x 2 columns]\n"
     ]
    }
   ],
   "source": [
    "# Defino umbrales para identificar operadores ineficaces por llamadas salientes\n",
    "outbound_calls_threshold= 100 \n",
    " \n",
    "\n",
    "# Filtra los operadores que superen ambos umbrales\n",
    "calls_per_operator_without_0 = calls_per_operator_without_0[\n",
    "    (calls_per_operator_without_0['total_outgoing_calls'] < outbound_calls_threshold)]\n",
    "\n",
    "# Muestra los operadores ineficaces\n",
    "print(\"Operadores ineficaces:\")\n",
    "print(calls_per_operator_without_0)\n",
    "\n",
    "calls_per_operator_without_0 = calls_per_operator_without_0[calls_per_operator_without_0['total_outgoing_calls']<20]\n"
   ]
  },
  {
   "cell_type": "markdown",
   "metadata": {},
   "source": [
    "quiero mostrar los operadores que cumplen con las dos caracteriscas, que son muchas llamadas perdidas y pocas llamadas salientes.\n"
   ]
  },
  {
   "cell_type": "code",
   "execution_count": 41,
   "metadata": {},
   "outputs": [
    {
     "data": {
      "text/html": [
       "<div>\n",
       "<style scoped>\n",
       "    .dataframe tbody tr th:only-of-type {\n",
       "        vertical-align: middle;\n",
       "    }\n",
       "\n",
       "    .dataframe tbody tr th {\n",
       "        vertical-align: top;\n",
       "    }\n",
       "\n",
       "    .dataframe thead th {\n",
       "        text-align: right;\n",
       "    }\n",
       "</style>\n",
       "<table border=\"1\" class=\"dataframe\">\n",
       "  <thead>\n",
       "    <tr style=\"text-align: right;\">\n",
       "      <th></th>\n",
       "      <th>operator_id</th>\n",
       "      <th>total_outgoing_calls</th>\n",
       "      <th>missed_calls_count</th>\n",
       "      <th>avg_waiting_time</th>\n",
       "    </tr>\n",
       "  </thead>\n",
       "  <tbody>\n",
       "    <tr>\n",
       "      <th>0</th>\n",
       "      <td>919554.0</td>\n",
       "      <td>11.0</td>\n",
       "      <td>11.0</td>\n",
       "      <td>461.650602</td>\n",
       "    </tr>\n",
       "    <tr>\n",
       "      <th>1</th>\n",
       "      <td>919204.0</td>\n",
       "      <td>9.0</td>\n",
       "      <td>9.0</td>\n",
       "      <td>429.454545</td>\n",
       "    </tr>\n",
       "    <tr>\n",
       "      <th>2</th>\n",
       "      <td>919206.0</td>\n",
       "      <td>1.0</td>\n",
       "      <td>9.0</td>\n",
       "      <td>388.684211</td>\n",
       "    </tr>\n",
       "  </tbody>\n",
       "</table>\n",
       "</div>"
      ],
      "text/plain": [
       "  operator_id  total_outgoing_calls  missed_calls_count  avg_waiting_time\n",
       "0    919554.0                  11.0                11.0        461.650602\n",
       "1    919204.0                   9.0                 9.0        429.454545\n",
       "2    919206.0                   1.0                 9.0        388.684211"
      ]
     },
     "execution_count": 41,
     "metadata": {},
     "output_type": "execute_result"
    }
   ],
   "source": [
    "operators_with_both_issues =calls_per_operator_without_0.merge(innefective_operators_incoming_calls, on ='operator_id', how ='inner')\n",
    "\n",
    "operators_with_both_issues"
   ]
  },
  {
   "cell_type": "code",
   "execution_count": 42,
   "metadata": {},
   "outputs": [
    {
     "data": {
      "text/plain": [
       "5.39"
      ]
     },
     "execution_count": 42,
     "metadata": {},
     "output_type": "execute_result"
    }
   ],
   "source": [
    "#calculamos la desviacion estandar del tiempo de espera\n",
    "std_wait_time = innefective_operators_incoming_calls['avg_waiting_time'].std().round(2)\n",
    "\n",
    "#calculamos la desviacion estandar de llamadas perdidas por operador\n",
    "std_missed_calls = innefective_operators_incoming_calls['missed_calls_count'].std().round(0)\n",
    "\n",
    "#calculamos la desviacion estandar de las llamadas salientes por operador\n",
    "std_outbound_calls = calls_per_operator_without_0['total_outgoing_calls'].std().round(2)\n",
    "\n",
    "std_outbound_calls"
   ]
  },
  {
   "cell_type": "code",
   "execution_count": 43,
   "metadata": {},
   "outputs": [
    {
     "name": "stdout",
     "output_type": "stream",
     "text": [
      "avg_waiting_time: 290.8876707845864\n",
      "std_wait_time: 1933.27\n",
      "avg_missed_calls: 3.8702928870292888\n",
      "std_missed_calls: 6.0\n",
      "avg_outbound_calls_total: 689.7312925170068\n",
      "std_outbound_calls: 5.39\n"
     ]
    }
   ],
   "source": [
    "print(\"avg_waiting_time:\", avg_waiting_time_total)\n",
    "print(\"std_wait_time:\", std_wait_time)\n",
    "print(\"avg_missed_calls:\", avg_missed_calls)\n",
    "print(\"std_missed_calls:\", std_missed_calls)\n",
    "print(\"avg_outbound_calls_total:\", avg_outbound_calls_total)\n",
    "print(\"std_outbound_calls:\", std_outbound_calls)"
   ]
  },
  {
   "cell_type": "markdown",
   "metadata": {},
   "source": [
    "## Identificar operadores ineficaces"
   ]
  },
  {
   "cell_type": "markdown",
   "metadata": {},
   "source": [
    "### Establecer umbrales"
   ]
  },
  {
   "cell_type": "code",
   "execution_count": 44,
   "metadata": {},
   "outputs": [
    {
     "name": "stdout",
     "output_type": "stream",
     "text": [
      "El valor del umbral de tiempo de espera es de : 3190.7926707845863\n",
      "El Valor del umbral de llamadas perdidas es de : 12.870292887029288\n",
      "El valor del umbral de llamadas salientes es de : 697.8162925170068\n"
     ]
    }
   ],
   "source": [
    "#definimos los umbrales\n",
    "threshold_waiting_time = avg_waiting_time_total + (1.5* std_wait_time)\n",
    "threshold_missed_calls = avg_missed_calls + (1.5* std_missed_calls)\n",
    "threshold_outbound_calls = avg_outbound_calls_total + (1.5*std_outbound_calls)\n",
    "\n",
    "print(f\"El valor del umbral de tiempo de espera es de : {threshold_waiting_time}\")\n",
    "print(f\"El Valor del umbral de llamadas perdidas es de : {threshold_missed_calls}\")\n",
    "print(f\"El valor del umbral de llamadas salientes es de : {threshold_outbound_calls}\")"
   ]
  },
  {
   "cell_type": "code",
   "execution_count": 45,
   "metadata": {},
   "outputs": [
    {
     "name": "stdout",
     "output_type": "stream",
     "text": [
      "Umbral de tiempo de espera: 3190.7926707845863\n",
      "Umbral de llamadas perdidas: 12.870292887029288\n",
      "Umbral de llamadas salientes: 697.8162925170068\n",
      "Operadores ineficaces:\n",
      "       user_id                      date direction internal operator_id  \\\n",
      "0       166377 2019-08-04 00:00:00+03:00        in    False           0   \n",
      "1       166377 2019-08-05 00:00:00+03:00       out     True    880022.0   \n",
      "4       166377 2019-08-05 00:00:00+03:00       out    False    880022.0   \n",
      "7       166377 2019-08-05 00:00:00+03:00        in    False           0   \n",
      "8       166377 2019-08-06 00:00:00+03:00        in    False           0   \n",
      "...        ...                       ...       ...      ...         ...   \n",
      "48872   168601 2019-11-28 00:00:00+03:00        in    False           0   \n",
      "48873   168601 2019-11-28 00:00:00+03:00       out    False    952914.0   \n",
      "48880   168603 2019-11-28 00:00:00+03:00        in    False           0   \n",
      "48884   168606 2019-11-08 00:00:00+03:00        in    False           0   \n",
      "48891   168606 2019-11-19 00:00:00+03:00        in    False           0   \n",
      "\n",
      "      is_missed_call  calls_count  call_duration  total_call_duration  month  \\\n",
      "0               True          2.0            0.0                  4.0    8.0   \n",
      "1               True          3.0            0.0                  5.0    8.0   \n",
      "4               True          3.0            0.0                 25.0    8.0   \n",
      "7               True          6.0            0.0                 35.0    8.0   \n",
      "8               True          4.0            0.0                 62.0    8.0   \n",
      "...              ...          ...            ...                  ...    ...   \n",
      "48872           True          1.0            0.0                 19.0   11.0   \n",
      "48873           True          2.0            0.0                 67.0   11.0   \n",
      "48880           True          1.0            0.0                 30.0   11.0   \n",
      "48884           True          6.0            0.0                121.0   11.0   \n",
      "48891           True          2.0            0.0                 64.0   11.0   \n",
      "\n",
      "       waiting_time tariff_plan date_start missed_call_count  \n",
      "0               4.0           B 2019-08-01              7288  \n",
      "1               5.0           B 2019-08-01                29  \n",
      "4              25.0           B 2019-08-01                29  \n",
      "7              35.0           B 2019-08-01              7288  \n",
      "8              62.0           B 2019-08-01              7288  \n",
      "...             ...         ...        ...               ...  \n",
      "48872          19.0           C 2019-10-31              7288  \n",
      "48873          67.0           C 2019-10-31                18  \n",
      "48880          30.0           B 2019-10-31              7288  \n",
      "48884         121.0           C 2019-10-31              7288  \n",
      "48891          64.0           C 2019-10-31              7288  \n",
      "\n",
      "[39514 rows x 14 columns]\n",
      "379\n",
      "[879896.0, 879898.0, 880022.0, 880026.0, 880028.0, 882684.0, 882686.0, 882690.0, 883940.0, 883942.0, 884412.0, 884478.0, 884946.0, 885876.0, 885890.0, 887276.0, 887278.0, 887282.0, 887802.0, 888532.0, 888534.0, 889410.0, 889754.0, 890228.0, 890402.0, 890404.0, 890406.0, 890410.0, 890412.0, 890416.0, 890420.0, 890422.0, 890582.0, 890618.0, 891152.0, 891154.0, 891158.0, 891160.0, 891162.0, 891166.0, 891170.0, 891410.0, 891414.0, 891416.0, 891988.0, 892028.0, 892532.0, 893402.0, 893674.0, 893804.0, 894656.0, 895172.0, 895774.0, 895776.0, 896008.0, 896016.0, 896428.0, 898892.0, 899082.0, 899250.0, 899788.0, 899790.0, 899932.0, 899964.0, 899968.0, 899972.0, 900180.0, 900194.0, 900352.0, 900354.0, 900492.0, 900592.0, 900594.0, 900788.0, 900826.0, 900892.0, 900894.0, 901584.0, 901880.0, 901884.0, 901886.0, 901992.0, 902510.0, 902532.0, 902720.0, 902742.0, 902744.0, 902746.0, 902748.0, 902774.0, 902776.0, 902778.0, 902782.0, 903254.0, 903312.0, 903318.0, 904014.0, 904016.0, 904038.0, 905104.0, 905430.0, 905538.0, 905542.0, 905564.0, 905566.0, 905570.0, 905574.0, 905842.0, 905844.0, 905870.0, 905930.0, 905932.0, 906070.0, 906294.0, 906296.0, 906392.0, 906394.0, 906396.0, 906400.0, 906404.0, 906406.0, 906408.0, 906412.0, 906680.0, 906866.0, 907174.0, 907178.0, 907182.0, 907224.0, 907440.0, 907442.0, 907952.0, 907970.0, 907986.0, 907994.0, 908640.0, 908958.0, 908960.0, 909502.0, 909910.0, 910520.0, 910530.0, 911310.0, 912252.0, 912296.0, 912722.0, 913788.0, 913938.0, 913942.0, 914050.0, 914052.0, 914630.0, 915358.0, 915360.0, 915556.0, 915558.0, 916424.0, 917234.0, 917850.0, 917852.0, 918436.0, 918452.0, 918978.0, 918986.0, 919162.0, 919192.0, 919194.0, 919196.0, 919200.0, 919202.0, 919218.0, 919302.0, 919306.0, 919310.0, 919314.0, 919318.0, 919362.0, 919364.0, 919372.0, 919374.0, 919382.0, 919476.0, 919554.0, 919906.0, 920146.0, 920416.0, 920666.0, 920706.0, 920720.0, 920728.0, 920732.0, 920838.0, 920852.0, 921116.0, 921306.0, 921316.0, 921318.0, 921320.0, 921584.0, 921818.0, 922142.0, 922428.0, 922474.0, 922476.0, 922710.0, 923526.0, 923528.0, 923666.0, 924356.0, 924930.0, 924934.0, 924940.0, 924948.0, 924950.0, 924952.0, 924954.0, 924958.0, 924960.0, 925104.0, 925826.0, 925828.0, 925922.0, 926312.0, 926486.0, 926490.0, 927916.0, 928312.0, 928886.0, 928888.0, 929424.0, 929426.0, 929428.0, 929876.0, 930020.0, 930586.0, 930914.0, 931458.0, 932500.0, 932502.0, 932836.0, 933806.0, 935348.0, 936382.0, 937604.0, 937678.0, 937708.0, 937732.0, 937736.0, 937752.0, 937760.0, 937762.0, 937780.0, 937788.0, 937808.0, 937810.0, 937812.0, 937854.0, 937860.0, 937862.0, 937868.0, 937888.0, 937902.0, 937966.0, 937980.0, 937988.0, 938078.0, 938080.0, 938414.0, 938896.0, 939218.0, 939222.0, 939224.0, 939370.0, 939376.0, 939470.0, 939474.0, 939476.0, 939478.0, 939684.0, 939706.0, 939738.0, 939762.0, 939886.0, 940432.0, 940434.0, 940438.0, 940442.0, 940588.0, 940616.0, 940622.0, 940624.0, 940630.0, 940634.0, 940652.0, 940658.0, 941192.0, 941384.0, 943066.0, 944216.0, 944218.0, 944220.0, 944222.0, 944226.0, 944644.0, 944646.0, 944764.0, 945278.0, 945280.0, 945282.0, 945284.0, 945286.0, 945288.0, 945290.0, 945294.0, 945296.0, 945298.0, 945302.0, 945304.0, 945308.0, 945310.0, 945312.0, 945314.0, 945316.0, 945318.0, 945320.0, 945322.0, 945324.0, 945894.0, 945900.0, 945902.0, 945904.0, 947304.0, 947590.0, 947592.0, 947598.0, 947600.0, 947604.0, 947612.0, 947614.0, 947616.0, 947618.0, 947620.0, 947638.0, 947640.0, 947642.0, 947644.0, 947646.0, 947648.0, 947650.0, 947652.0, 947654.0, 947658.0, 948182.0, 948758.0, 950444.0, 951492.0, 951506.0, 951508.0, 952392.0, 952458.0, 952460.0, 952468.0, 952914.0, 952948.0, 953462.0, 953464.0, 954650.0, 958416.0, 958418.0, 958430.0, 958432.0, 958434.0, 958452.0, 958460.0, 958468.0, 962658.0, 962902.0, 965544.0, '0']\n"
     ]
    },
    {
     "name": "stderr",
     "output_type": "stream",
     "text": [
      "/opt/conda/envs/python3/lib/python3.9/site-packages/pandas/core/indexing.py:1597: SettingWithCopyWarning: \n",
      "A value is trying to be set on a copy of a slice from a DataFrame.\n",
      "Try using .loc[row_indexer,col_indexer] = value instead\n",
      "\n",
      "See the caveats in the documentation: https://pandas.pydata.org/pandas-docs/stable/user_guide/indexing.html#returning-a-view-versus-a-copy\n",
      "  self.obj[key] = value\n",
      "/opt/conda/envs/python3/lib/python3.9/site-packages/pandas/core/indexing.py:1676: SettingWithCopyWarning: \n",
      "A value is trying to be set on a copy of a slice from a DataFrame.\n",
      "Try using .loc[row_indexer,col_indexer] = value instead\n",
      "\n",
      "See the caveats in the documentation: https://pandas.pydata.org/pandas-docs/stable/user_guide/indexing.html#returning-a-view-versus-a-copy\n",
      "  self._setitem_single_column(ilocs[0], value, pi)\n"
     ]
    }
   ],
   "source": [
    "def detectar_operadores_ineficaces(df, avg_waiting_time_total, std_wait_time, avg_missed_calls, std_missed_calls, avg_outbound_calls_total, std_outbound_calls):\n",
    "    # Calcula los umbrales\n",
    "    threshold_waiting_time = avg_waiting_time_total + (1.5 * std_wait_time)\n",
    "    threshold_missed_calls = avg_missed_calls + (1.5 * std_missed_calls)\n",
    "    threshold_outbound_calls = avg_outbound_calls_total + (1.5 * std_outbound_calls)\n",
    "\n",
    "    print(f\"Umbral de tiempo de espera: {threshold_waiting_time}\")\n",
    "    print(f\"Umbral de llamadas perdidas: {threshold_missed_calls}\")\n",
    "    print(f\"Umbral de llamadas salientes: {threshold_outbound_calls}\")\n",
    "    \n",
    "    \n",
    "    \n",
    "    # Contar llamadas perdidas por operador si `is_missed_call` es booleana\n",
    "    df_merged.loc[:,'missed_call_count'] = df_merged.groupby('operator_id')['is_missed_call'].transform('sum')\n",
    "\n",
    "\n",
    "    # Filtra los operadores que superan al menos uno de los umbrales\n",
    "    operadores_ineficaces = df_merged[\n",
    "        (df_merged['waiting_time'] > threshold_waiting_time) |\n",
    "        (df_merged['missed_call_count'] > threshold_missed_calls) |\n",
    "        (df_merged['calls_count'] > threshold_outbound_calls)\n",
    "    ]\n",
    "\n",
    "    return operadores_ineficaces\n",
    "\n",
    "#Aplicacion de la funcion\n",
    "\n",
    "ineficaces = detectar_operadores_ineficaces(\n",
    "    df_merged,\n",
    "    avg_waiting_time_total, std_wait_time,\n",
    "    avg_missed_calls, std_missed_calls,\n",
    "    avg_outbound_calls_total, std_outbound_calls\n",
    ")\n",
    "\n",
    "# Mostrar los operadores ineficaces\n",
    "print(\"Operadores ineficaces:\")\n",
    "print(ineficaces)\n",
    "\n",
    "\n",
    "# Agrupar el DataFrame 'ineficaces' por 'operator_id' para obtener los operadores ineficaces únicos\n",
    "operadores_ineficaces = ineficaces.groupby('operator_id').size().reset_index(name='count')\n",
    "\n",
    "# Obtener la lista de operadores ineficaces como una lista de valores únicos\n",
    "lista = operadores_ineficaces['operator_id'].tolist()\n",
    "\n",
    "# Imprimir la cantidad total de operadores ineficaces y la lista de operadores\n",
    "print(len(lista))\n",
    "print(lista)"
   ]
  },
  {
   "cell_type": "markdown",
   "metadata": {},
   "source": [
    "encontramos que hay 379 operadores ineficaces que no estan cumpliendo con los umbrales de la empresa y sus correspondientes 'operator_id.\n",
    "\n",
    "Específicamente, al sumar 1.5× desviacion estandar a la media, estás estableciendo un límite superior que se encuentra aproximadamente 1.5 desviaciones estándar por encima del promedio. Este enfoque es común para identificar valores que están notablemente por encima de la media, aunque no tanto como para clasificarlos como outliers extremos (que normalmente se encuentran a 2 o 3 desviaciones estándar)."
   ]
  },
  {
   "cell_type": "code",
   "execution_count": 46,
   "metadata": {},
   "outputs": [
    {
     "data": {
      "text/plain": [
       "<AxesSubplot:xlabel='tariff_plan', ylabel='waiting_time'>"
      ]
     },
     "execution_count": 46,
     "metadata": {},
     "output_type": "execute_result"
    },
    {
     "data": {
      "image/png": "[encoded data removed]",
      "text/plain": [
       "<Figure size 1200x800 with 1 Axes>"
      ]
     },
     "metadata": {},
     "output_type": "display_data"
    }
   ],
   "source": [
    "# Trazo un diagrama de caja para ver que tan dirpersa esta la informacion\n",
    "\n",
    "plt.figure(figsize=(12,8))\n",
    "sns.boxplot(data=filtered_df_final, x='tariff_plan', y='waiting_time')"
   ]
  },
  {
   "cell_type": "code",
   "execution_count": 47,
   "metadata": {},
   "outputs": [
    {
     "name": "stdout",
     "output_type": "stream",
     "text": [
      "operator_id  tariff_plan\n",
      "879896.0     B              104.914530\n",
      "879898.0     B              459.690265\n",
      "880020.0     B               14.000000\n",
      "880022.0     B               53.971429\n",
      "880026.0     B              121.978022\n",
      "                               ...    \n",
      "973120.0     C               10.000000\n",
      "973286.0     B               88.000000\n",
      "0            A              323.669704\n",
      "             B              159.952067\n",
      "             C              120.745748\n",
      "Name: waiting_time, Length: 1095, dtype: float64\n"
     ]
    }
   ],
   "source": [
    "mean_waiting_time = df_merged.groupby(['operator_id','tariff_plan'])['waiting_time'].mean()\n",
    "\n",
    "mean_waiting_time.columns = ['operator_id','tariff_plan', 'avg_waiting_time']\n",
    "\n",
    "print(mean_waiting_time)"
   ]
  },
  {
   "cell_type": "markdown",
   "metadata": {},
   "source": [
    "## Prueba de hipótesis \n"
   ]
  },
  {
   "cell_type": "markdown",
   "metadata": {},
   "source": [
    "Hipótesis: Los clientes de la tarifa A esperan mas para ser atendidos que los de la tarifa C\n",
    "\n",
    "H0:Las distribuciones del tiempo de espera de la tarifa A y la tarifa C son iguales.\n",
    "\n",
    "H1:Las distribuciones del tiempo de espera son diferentes."
   ]
  },
  {
   "cell_type": "code",
   "execution_count": 48,
   "metadata": {},
   "outputs": [
    {
     "data": {
      "text/html": [
       "<div>\n",
       "<style scoped>\n",
       "    .dataframe tbody tr th:only-of-type {\n",
       "        vertical-align: middle;\n",
       "    }\n",
       "\n",
       "    .dataframe tbody tr th {\n",
       "        vertical-align: top;\n",
       "    }\n",
       "\n",
       "    .dataframe thead th {\n",
       "        text-align: right;\n",
       "    }\n",
       "</style>\n",
       "<table border=\"1\" class=\"dataframe\">\n",
       "  <thead>\n",
       "    <tr style=\"text-align: right;\">\n",
       "      <th></th>\n",
       "      <th>user_id</th>\n",
       "      <th>calls_count</th>\n",
       "      <th>call_duration</th>\n",
       "      <th>total_call_duration</th>\n",
       "      <th>month</th>\n",
       "      <th>waiting_time</th>\n",
       "    </tr>\n",
       "  </thead>\n",
       "  <tbody>\n",
       "    <tr>\n",
       "      <th>count</th>\n",
       "      <td>48892.000000</td>\n",
       "      <td>48892.000000</td>\n",
       "      <td>48892.000000</td>\n",
       "      <td>48892.000000</td>\n",
       "      <td>48892.000000</td>\n",
       "      <td>48892.000000</td>\n",
       "    </tr>\n",
       "    <tr>\n",
       "      <th>mean</th>\n",
       "      <td>167294.492841</td>\n",
       "      <td>16.495214</td>\n",
       "      <td>868.088788</td>\n",
       "      <td>1158.976458</td>\n",
       "      <td>10.192465</td>\n",
       "      <td>290.887671</td>\n",
       "    </tr>\n",
       "    <tr>\n",
       "      <th>std</th>\n",
       "      <td>598.675508</td>\n",
       "      <td>63.671633</td>\n",
       "      <td>3779.549967</td>\n",
       "      <td>4456.180933</td>\n",
       "      <td>0.852225</td>\n",
       "      <td>1133.354018</td>\n",
       "    </tr>\n",
       "    <tr>\n",
       "      <th>min</th>\n",
       "      <td>166377.000000</td>\n",
       "      <td>1.000000</td>\n",
       "      <td>0.000000</td>\n",
       "      <td>0.000000</td>\n",
       "      <td>8.000000</td>\n",
       "      <td>0.000000</td>\n",
       "    </tr>\n",
       "    <tr>\n",
       "      <th>25%</th>\n",
       "      <td>166782.000000</td>\n",
       "      <td>1.000000</td>\n",
       "      <td>0.000000</td>\n",
       "      <td>46.000000</td>\n",
       "      <td>10.000000</td>\n",
       "      <td>17.000000</td>\n",
       "    </tr>\n",
       "    <tr>\n",
       "      <th>50%</th>\n",
       "      <td>167158.000000</td>\n",
       "      <td>4.000000</td>\n",
       "      <td>37.000000</td>\n",
       "      <td>210.000000</td>\n",
       "      <td>10.000000</td>\n",
       "      <td>55.000000</td>\n",
       "    </tr>\n",
       "    <tr>\n",
       "      <th>75%</th>\n",
       "      <td>167819.000000</td>\n",
       "      <td>12.000000</td>\n",
       "      <td>573.000000</td>\n",
       "      <td>902.000000</td>\n",
       "      <td>11.000000</td>\n",
       "      <td>200.000000</td>\n",
       "    </tr>\n",
       "    <tr>\n",
       "      <th>max</th>\n",
       "      <td>168606.000000</td>\n",
       "      <td>4817.000000</td>\n",
       "      <td>144395.000000</td>\n",
       "      <td>166155.000000</td>\n",
       "      <td>11.000000</td>\n",
       "      <td>46474.000000</td>\n",
       "    </tr>\n",
       "  </tbody>\n",
       "</table>\n",
       "</div>"
      ],
      "text/plain": [
       "             user_id   calls_count  call_duration  total_call_duration  \\\n",
       "count   48892.000000  48892.000000   48892.000000         48892.000000   \n",
       "mean   167294.492841     16.495214     868.088788          1158.976458   \n",
       "std       598.675508     63.671633    3779.549967          4456.180933   \n",
       "min    166377.000000      1.000000       0.000000             0.000000   \n",
       "25%    166782.000000      1.000000       0.000000            46.000000   \n",
       "50%    167158.000000      4.000000      37.000000           210.000000   \n",
       "75%    167819.000000     12.000000     573.000000           902.000000   \n",
       "max    168606.000000   4817.000000  144395.000000        166155.000000   \n",
       "\n",
       "              month  waiting_time  \n",
       "count  48892.000000  48892.000000  \n",
       "mean      10.192465    290.887671  \n",
       "std        0.852225   1133.354018  \n",
       "min        8.000000      0.000000  \n",
       "25%       10.000000     17.000000  \n",
       "50%       10.000000     55.000000  \n",
       "75%       11.000000    200.000000  \n",
       "max       11.000000  46474.000000  "
      ]
     },
     "execution_count": 48,
     "metadata": {},
     "output_type": "execute_result"
    }
   ],
   "source": [
    "df_merged.describe()"
   ]
  },
  {
   "cell_type": "code",
   "execution_count": 49,
   "metadata": {
    "scrolled": true
   },
   "outputs": [
    {
     "name": "stdout",
     "output_type": "stream",
     "text": [
      "Probably not Gaussian\n"
     ]
    },
    {
     "name": "stderr",
     "output_type": "stream",
     "text": [
      "/opt/conda/envs/python3/lib/python3.9/site-packages/scipy/stats/_morestats.py:1816: UserWarning: p-value may not be accurate for N > 5000.\n",
      "  warnings.warn(\"p-value may not be accurate for N > 5000.\")\n"
     ]
    }
   ],
   "source": [
    "#filtered_df_final =filtered_df_final[filtered_df_final['operator_id'] != 0]\n",
    "\n",
    "tariff_a =filtered_df_final[filtered_df_final['tariff_plan'] == 'A']['waiting_time'].dropna()\n",
    "                    \n",
    "stat, p = shapiro(tariff_a)\n",
    "if p > 0.05:\n",
    "\tprint('Probably Gaussian')\n",
    "else:\n",
    "\tprint('Probably not Gaussian')"
   ]
  },
  {
   "cell_type": "code",
   "execution_count": 50,
   "metadata": {},
   "outputs": [
    {
     "name": "stdout",
     "output_type": "stream",
     "text": [
      "Probably not Gaussian\n"
     ]
    }
   ],
   "source": [
    "tariff_c =filtered_df_final[filtered_df_final['tariff_plan'] == 'C']['waiting_time'].dropna()\n",
    "\n",
    "stat, p = shapiro(tariff_c)\n",
    "if p > 0.05:\n",
    "\tprint('Probably Gaussian')\n",
    "else:\n",
    "\tprint('Probably not Gaussian')"
   ]
  },
  {
   "cell_type": "markdown",
   "metadata": {},
   "source": [
    "Al no ser distribuciones normales o gaussianas, usamos una prueba no parametrica como lo es la Mann-Whitney U Test para ver si las distribuciones de las tarifas son iguales o no."
   ]
  },
  {
   "cell_type": "code",
   "execution_count": 51,
   "metadata": {},
   "outputs": [
    {
     "name": "stdout",
     "output_type": "stream",
     "text": [
      "stat=109053868.000, p=0.000\n",
      "Probably different distributions\n"
     ]
    }
   ],
   "source": [
    "stat, p = mannwhitneyu(tariff_a, tariff_c)\n",
    "print('stat=%.3f, p=%.3f' % (stat, p))\n",
    "if p > 0.05:\n",
    "\tprint('Probably the same distribution')\n",
    "else:\n",
    "\tprint('Probably different distributions')"
   ]
  },
  {
   "cell_type": "markdown",
   "metadata": {},
   "source": [
    "Podemos inferir que el tiempo de espera en la tarifa A es mayor que en la tarifa C,esto puede estar relacionado al numero de clientes de esta tarifa y al numero de operadores que tienen asignado. Tambien a la cantidad de dinero que les cobran en esta tarifa."
   ]
  },
  {
   "cell_type": "markdown",
   "metadata": {},
   "source": [
    "## Conclusiones"
   ]
  },
  {
   "cell_type": "markdown",
   "metadata": {},
   "source": [
    "* __Alta Proporción de Operadores Ineficaces__: Con 379 operadores considerados ineficaces (aproximadamente el 35% del total), es evidente que una cantidad significativa de operadores no cumple con los estándares de rendimiento definidos por los umbrales de tiempo de espera, llamadas perdidas y llamadas salientes. Esto sugiere que existen oportunidades de mejorar la formación o la gestión de estos operadores para aumentar su eficiencia.\n",
    "\n",
    "* __Oportunidad de Mejora en la Asignación de Llamadas__: El hecho de que 103,238 llamadas no se asignen a un operador es un indicador claro de una ineficiencia en la gestión de llamadas. Esto podría estar afectando la experiencia del cliente y resulta en una oportunidad para mejorar la asignación y distribución de llamadas, así como para revisar la carga de trabajo y la disponibilidad de operadores durante las horas pico.\n",
    "\n",
    "* __Adecuación del Personal vs. Ineficiencia Operativa__: Aunque el número de operadores parece elevado (1,093), el hecho de que existan tantos operadores ineficaces y una gran cantidad de llamadas no asignadas sugiere que el problema podría no ser necesariamente la falta de personal. Más bien, podría ser necesario optimizar la eficiencia y la capacitación de los operadores actuales para reducir tiempos de espera y llamadas perdidas. Adicionalmente, podría evaluarse la reasignación o ajuste de las cargas de trabajo entre operadores.\n",
    "\n",
    "* __Diferencias en el Tiempo de Espera entre Tarifas__: El análisis de los tiempos de espera entre las tarifas A y C indica que los clientes de la tarifa A experimentan tiempos de espera más largos. Esto podría deberse a la cantidad de clientes en esa categoría o a la falta de suficiente personal asignado específicamente para atender a estos clientes. Dado que los clientes de la tarifa A probablemente generan más ingresos, reducir sus tiempos de espera debe ser una prioridad.\n",
    "\n",
    "* __Uso de Umbrales para Detectar Ineficiencias__: La estrategia de establecer umbrales a 1.5 desviaciones estándar por encima de la media es útil para identificar operadores con un rendimiento notablemente bajo, aunque no sean considerados extremos. Esto permite una identificación proactiva de aquellos operadores que podrían necesitar capacitación adicional o ajustes en sus asignaciones antes de que se conviertan en casos extremos."
   ]
  },
  {
   "cell_type": "markdown",
   "metadata": {},
   "source": [
    "## Fuentes y documentacion"
   ]
  },
  {
   "cell_type": "markdown",
   "metadata": {},
   "source": [
    "* https://medium.com/@marc.bolle/5-easy-ways-to-detect-outliers-in-python-b07639ba32d5\n",
    "La utilice para implementar la métrica estadística Z score para eliminar datos atípicos.\n",
    "\n",
    "*\thttps://machinelearningmastery.com/statistical-hypothesis-tests-in-python-cheat-sheet/\n",
    "La utilice para saber cual era el orden de las pruebas estadísticas para probar una hipótesis. También me ayudo a interpretar los resultados de la prueba de Shapiro.\n",
    "Me ayudo a implementar la prueba Mann-Whitney U Test  ya que las distribuciones no eran gaussianas.\n",
    "\n",
    "* https://docs.scipy.org/doc/scipy/reference/generated/scipy.stats.levene.html\n",
    "La utilice para entender como se aplica la prueba de Levene para evaluar las varianzas de 2 grupos antes de realizar la prueba t test.\n",
    "\n",
    "* https://scikit-learn.org/stable/auto_examples/neighbors/plot_lof_outlier_detection.html\n",
    "En esta revise opciones de como tratar los datos atípicos con la librería de scikit-learn\n",
    "\n",
    "* A partir de los proyectos de otros sprint revise como podía realizar ciertos procesos y también la plataforma de TRIPLETEN.\n"
   ]
  },
  {
   "cell_type": "markdown",
   "metadata": {},
   "source": [
    "## Dashboard CSV"
   ]
  },
  {
   "cell_type": "code",
   "execution_count": null,
   "metadata": {},
   "outputs": [],
   "source": [
    "filtered_df_final.to_csv('Filtered_data',index=False)"
   ]
  }
 ],
 "metadata": {
  "ExecuteTimeLog": [
   {
    "duration": 2481,
    "start_time": "2024-11-02T00:37:08.500Z"
   },
   {
    "duration": 68,
    "start_time": "2024-11-02T00:37:45.112Z"
   },
   {
    "duration": 13,
    "start_time": "2024-11-02T00:38:00.962Z"
   },
   {
    "duration": 11,
    "start_time": "2024-11-02T00:38:49.740Z"
   },
   {
    "duration": 8,
    "start_time": "2024-11-02T00:39:11.615Z"
   },
   {
    "duration": 12,
    "start_time": "2024-11-02T00:39:34.015Z"
   },
   {
    "duration": 5,
    "start_time": "2024-11-02T00:40:31.585Z"
   },
   {
    "duration": 3,
    "start_time": "2024-11-02T00:41:50.894Z"
   },
   {
    "duration": 14,
    "start_time": "2024-11-02T00:42:54.763Z"
   },
   {
    "duration": 7,
    "start_time": "2024-11-02T00:45:22.493Z"
   },
   {
    "duration": 30,
    "start_time": "2024-11-02T00:45:58.783Z"
   },
   {
    "duration": 43,
    "start_time": "2024-11-02T00:46:34.265Z"
   },
   {
    "duration": 39,
    "start_time": "2024-11-02T00:46:57.344Z"
   },
   {
    "duration": 17,
    "start_time": "2024-11-02T00:47:37.677Z"
   },
   {
    "duration": 39,
    "start_time": "2024-11-02T00:47:53.014Z"
   },
   {
    "duration": 28,
    "start_time": "2024-11-02T00:48:58.796Z"
   },
   {
    "duration": 14,
    "start_time": "2024-11-02T00:49:27.376Z"
   },
   {
    "duration": 7,
    "start_time": "2024-11-02T00:50:25.372Z"
   },
   {
    "duration": 15,
    "start_time": "2024-11-02T00:51:35.858Z"
   },
   {
    "duration": 13,
    "start_time": "2024-11-02T00:52:21.254Z"
   },
   {
    "duration": 6,
    "start_time": "2024-11-02T00:52:41.944Z"
   },
   {
    "duration": 6,
    "start_time": "2024-11-02T00:52:55.788Z"
   },
   {
    "duration": 9,
    "start_time": "2024-11-02T00:53:41.580Z"
   },
   {
    "duration": 32,
    "start_time": "2024-11-02T00:54:27.142Z"
   },
   {
    "duration": 25,
    "start_time": "2024-11-02T00:54:50.850Z"
   },
   {
    "duration": 12,
    "start_time": "2024-11-02T00:55:07.476Z"
   },
   {
    "duration": 25,
    "start_time": "2024-11-02T00:55:29.268Z"
   },
   {
    "duration": 17,
    "start_time": "2024-11-02T00:56:38.655Z"
   },
   {
    "duration": 11,
    "start_time": "2024-11-02T00:57:15.791Z"
   },
   {
    "duration": 17,
    "start_time": "2024-11-02T00:58:14.058Z"
   },
   {
    "duration": 11,
    "start_time": "2024-11-02T00:59:48.106Z"
   },
   {
    "duration": 16,
    "start_time": "2024-11-02T01:00:31.761Z"
   },
   {
    "duration": 758,
    "start_time": "2024-11-02T01:02:41.685Z"
   },
   {
    "duration": 41,
    "start_time": "2024-11-02T01:02:42.445Z"
   },
   {
    "duration": 18,
    "start_time": "2024-11-02T01:02:42.488Z"
   },
   {
    "duration": 12,
    "start_time": "2024-11-02T01:02:42.509Z"
   },
   {
    "duration": 7,
    "start_time": "2024-11-02T01:02:42.524Z"
   },
   {
    "duration": 10,
    "start_time": "2024-11-02T01:02:42.533Z"
   },
   {
    "duration": 4,
    "start_time": "2024-11-02T01:02:42.545Z"
   },
   {
    "duration": 3,
    "start_time": "2024-11-02T01:02:42.551Z"
   },
   {
    "duration": 49,
    "start_time": "2024-11-02T01:02:42.556Z"
   },
   {
    "duration": 7,
    "start_time": "2024-11-02T01:02:42.608Z"
   },
   {
    "duration": 48,
    "start_time": "2024-11-02T01:02:42.616Z"
   },
   {
    "duration": 72,
    "start_time": "2024-11-02T01:02:42.666Z"
   },
   {
    "duration": 27,
    "start_time": "2024-11-02T01:02:42.741Z"
   },
   {
    "duration": 7,
    "start_time": "2024-11-02T01:02:42.770Z"
   },
   {
    "duration": 34,
    "start_time": "2024-11-02T01:02:42.779Z"
   },
   {
    "duration": 14,
    "start_time": "2024-11-02T01:02:42.815Z"
   },
   {
    "duration": 5,
    "start_time": "2024-11-02T01:02:42.831Z"
   },
   {
    "duration": 4,
    "start_time": "2024-11-02T01:02:42.837Z"
   },
   {
    "duration": 8,
    "start_time": "2024-11-02T01:02:42.843Z"
   },
   {
    "duration": 54,
    "start_time": "2024-11-02T01:02:42.852Z"
   },
   {
    "duration": 14,
    "start_time": "2024-11-02T01:02:42.908Z"
   },
   {
    "duration": 24,
    "start_time": "2024-11-02T01:02:42.923Z"
   },
   {
    "duration": 16,
    "start_time": "2024-11-02T01:02:42.949Z"
   },
   {
    "duration": 11,
    "start_time": "2024-11-02T01:02:42.966Z"
   },
   {
    "duration": 19,
    "start_time": "2024-11-02T01:02:43.006Z"
   },
   {
    "duration": 11,
    "start_time": "2024-11-02T01:02:43.027Z"
   },
   {
    "duration": 14,
    "start_time": "2024-11-02T01:02:43.039Z"
   },
   {
    "duration": 14,
    "start_time": "2024-11-02T01:03:27.363Z"
   },
   {
    "duration": 14,
    "start_time": "2024-11-02T01:03:45.150Z"
   },
   {
    "duration": 15,
    "start_time": "2024-11-02T01:03:58.883Z"
   },
   {
    "duration": 5,
    "start_time": "2024-11-02T01:06:17.040Z"
   },
   {
    "duration": 11,
    "start_time": "2024-11-02T01:06:26.927Z"
   },
   {
    "duration": 161,
    "start_time": "2024-11-02T01:07:59.179Z"
   },
   {
    "duration": 7,
    "start_time": "2024-11-02T01:08:36.980Z"
   },
   {
    "duration": 17,
    "start_time": "2024-11-02T01:09:34.566Z"
   },
   {
    "duration": 6,
    "start_time": "2024-11-02T01:09:58.358Z"
   },
   {
    "duration": 6,
    "start_time": "2024-11-02T01:10:08.986Z"
   },
   {
    "duration": 10,
    "start_time": "2024-11-02T01:11:34.385Z"
   },
   {
    "duration": 8,
    "start_time": "2024-11-02T01:12:06.958Z"
   },
   {
    "duration": 6,
    "start_time": "2024-11-02T01:21:27.755Z"
   },
   {
    "duration": 7,
    "start_time": "2024-11-02T01:22:00.378Z"
   },
   {
    "duration": 9,
    "start_time": "2024-11-02T01:22:13.777Z"
   },
   {
    "duration": 156,
    "start_time": "2024-11-02T01:23:18.135Z"
   },
   {
    "duration": 14,
    "start_time": "2024-11-02T01:23:47.404Z"
   },
   {
    "duration": 2,
    "start_time": "2024-11-02T01:31:46.399Z"
   },
   {
    "duration": 23,
    "start_time": "2024-11-02T01:32:25.952Z"
   },
   {
    "duration": 16,
    "start_time": "2024-11-02T01:33:17.694Z"
   },
   {
    "duration": 156,
    "start_time": "2024-11-04T18:23:28.053Z"
   },
   {
    "duration": 2538,
    "start_time": "2024-11-04T18:23:37.041Z"
   },
   {
    "duration": 62,
    "start_time": "2024-11-04T18:23:39.581Z"
   },
   {
    "duration": 14,
    "start_time": "2024-11-04T18:23:39.645Z"
   },
   {
    "duration": 11,
    "start_time": "2024-11-04T18:23:39.661Z"
   },
   {
    "duration": 8,
    "start_time": "2024-11-04T18:23:39.674Z"
   },
   {
    "duration": 11,
    "start_time": "2024-11-04T18:23:39.683Z"
   },
   {
    "duration": 4,
    "start_time": "2024-11-04T18:23:39.696Z"
   },
   {
    "duration": 3,
    "start_time": "2024-11-04T18:23:39.702Z"
   },
   {
    "duration": 13,
    "start_time": "2024-11-04T18:23:39.707Z"
   },
   {
    "duration": 8,
    "start_time": "2024-11-04T18:23:39.722Z"
   },
   {
    "duration": 73,
    "start_time": "2024-11-04T18:23:39.731Z"
   },
   {
    "duration": 40,
    "start_time": "2024-11-04T18:23:39.806Z"
   },
   {
    "duration": 44,
    "start_time": "2024-11-04T18:23:39.848Z"
   },
   {
    "duration": 7,
    "start_time": "2024-11-04T18:23:39.896Z"
   },
   {
    "duration": 14,
    "start_time": "2024-11-04T18:23:39.905Z"
   },
   {
    "duration": 13,
    "start_time": "2024-11-04T18:23:39.920Z"
   },
   {
    "duration": 5,
    "start_time": "2024-11-04T18:23:39.935Z"
   },
   {
    "duration": 33,
    "start_time": "2024-11-04T18:23:39.941Z"
   },
   {
    "duration": 9,
    "start_time": "2024-11-04T18:23:39.976Z"
   },
   {
    "duration": 25,
    "start_time": "2024-11-04T18:23:39.986Z"
   },
   {
    "duration": 13,
    "start_time": "2024-11-04T18:23:40.012Z"
   },
   {
    "duration": 54,
    "start_time": "2024-11-04T18:23:40.027Z"
   },
   {
    "duration": 17,
    "start_time": "2024-11-04T18:23:40.083Z"
   },
   {
    "duration": 23,
    "start_time": "2024-11-04T18:23:40.102Z"
   },
   {
    "duration": 10,
    "start_time": "2024-11-04T18:23:40.126Z"
   },
   {
    "duration": 43,
    "start_time": "2024-11-04T18:23:40.138Z"
   },
   {
    "duration": 11,
    "start_time": "2024-11-04T18:23:40.182Z"
   },
   {
    "duration": 14,
    "start_time": "2024-11-04T18:23:40.195Z"
   },
   {
    "duration": 9,
    "start_time": "2024-11-04T18:23:40.211Z"
   },
   {
    "duration": 190,
    "start_time": "2024-11-04T18:23:40.222Z"
   },
   {
    "duration": 7,
    "start_time": "2024-11-04T18:23:40.414Z"
   },
   {
    "duration": 17,
    "start_time": "2024-11-04T18:23:40.423Z"
   },
   {
    "duration": 6,
    "start_time": "2024-11-04T18:23:40.441Z"
   },
   {
    "duration": 8,
    "start_time": "2024-11-04T18:23:40.471Z"
   },
   {
    "duration": 3,
    "start_time": "2024-11-04T18:23:40.481Z"
   },
   {
    "duration": 7,
    "start_time": "2024-11-04T18:23:40.486Z"
   },
   {
    "duration": 9,
    "start_time": "2024-11-04T18:23:40.494Z"
   },
   {
    "duration": 201,
    "start_time": "2024-11-04T18:23:40.504Z"
   },
   {
    "duration": 13,
    "start_time": "2024-11-04T18:23:40.707Z"
   },
   {
    "duration": 24,
    "start_time": "2024-11-04T18:23:40.721Z"
   },
   {
    "duration": 33,
    "start_time": "2024-11-04T18:23:40.748Z"
   },
   {
    "duration": 18,
    "start_time": "2024-11-04T18:29:42.536Z"
   },
   {
    "duration": 24,
    "start_time": "2024-11-04T18:30:00.210Z"
   },
   {
    "duration": 546,
    "start_time": "2024-11-04T18:36:37.000Z"
   },
   {
    "duration": 461,
    "start_time": "2024-11-04T18:43:24.688Z"
   },
   {
    "duration": 1261,
    "start_time": "2024-11-04T19:01:58.364Z"
   },
   {
    "duration": 781,
    "start_time": "2024-11-04T19:02:47.591Z"
   },
   {
    "duration": 5,
    "start_time": "2024-11-04T19:03:01.184Z"
   },
   {
    "duration": 14,
    "start_time": "2024-11-04T19:04:13.247Z"
   },
   {
    "duration": 5,
    "start_time": "2024-11-04T19:30:18.062Z"
   },
   {
    "duration": 6,
    "start_time": "2024-11-04T19:41:25.932Z"
   },
   {
    "duration": 583,
    "start_time": "2024-11-04T19:41:53.449Z"
   },
   {
    "duration": 16,
    "start_time": "2024-11-04T19:43:23.991Z"
   },
   {
    "duration": 15,
    "start_time": "2024-11-04T19:43:44.310Z"
   },
   {
    "duration": 16,
    "start_time": "2024-11-04T19:45:48.737Z"
   },
   {
    "duration": 15,
    "start_time": "2024-11-04T19:45:58.691Z"
   },
   {
    "duration": 3,
    "start_time": "2024-11-04T19:46:08.193Z"
   },
   {
    "duration": 6,
    "start_time": "2024-11-04T19:56:26.885Z"
   },
   {
    "duration": 23,
    "start_time": "2024-11-04T19:56:52.957Z"
   },
   {
    "duration": 406,
    "start_time": "2024-11-04T19:59:40.954Z"
   },
   {
    "duration": 864,
    "start_time": "2024-11-04T20:00:05.813Z"
   },
   {
    "duration": 42,
    "start_time": "2024-11-04T20:00:06.679Z"
   },
   {
    "duration": 14,
    "start_time": "2024-11-04T20:00:06.723Z"
   },
   {
    "duration": 12,
    "start_time": "2024-11-04T20:00:06.738Z"
   },
   {
    "duration": 11,
    "start_time": "2024-11-04T20:00:06.769Z"
   },
   {
    "duration": 12,
    "start_time": "2024-11-04T20:00:06.782Z"
   },
   {
    "duration": 5,
    "start_time": "2024-11-04T20:00:06.796Z"
   },
   {
    "duration": 3,
    "start_time": "2024-11-04T20:00:06.803Z"
   },
   {
    "duration": 13,
    "start_time": "2024-11-04T20:00:06.807Z"
   },
   {
    "duration": 8,
    "start_time": "2024-11-04T20:00:06.822Z"
   },
   {
    "duration": 78,
    "start_time": "2024-11-04T20:00:06.832Z"
   },
   {
    "duration": 59,
    "start_time": "2024-11-04T20:00:06.912Z"
   },
   {
    "duration": 30,
    "start_time": "2024-11-04T20:00:06.973Z"
   },
   {
    "duration": 7,
    "start_time": "2024-11-04T20:00:07.007Z"
   },
   {
    "duration": 13,
    "start_time": "2024-11-04T20:00:07.016Z"
   },
   {
    "duration": 40,
    "start_time": "2024-11-04T20:00:07.031Z"
   },
   {
    "duration": 5,
    "start_time": "2024-11-04T20:00:07.075Z"
   },
   {
    "duration": 5,
    "start_time": "2024-11-04T20:00:07.082Z"
   },
   {
    "duration": 9,
    "start_time": "2024-11-04T20:00:07.089Z"
   },
   {
    "duration": 27,
    "start_time": "2024-11-04T20:00:07.101Z"
   },
   {
    "duration": 48,
    "start_time": "2024-11-04T20:00:07.130Z"
   },
   {
    "duration": 35,
    "start_time": "2024-11-04T20:00:07.180Z"
   },
   {
    "duration": 19,
    "start_time": "2024-11-04T20:00:07.217Z"
   },
   {
    "duration": 35,
    "start_time": "2024-11-04T20:00:07.238Z"
   },
   {
    "duration": 24,
    "start_time": "2024-11-04T20:00:07.275Z"
   },
   {
    "duration": 625,
    "start_time": "2024-11-04T20:00:07.301Z"
   },
   {
    "duration": 419,
    "start_time": "2024-11-04T20:00:07.928Z"
   },
   {
    "duration": 22,
    "start_time": "2024-11-04T20:00:08.349Z"
   },
   {
    "duration": 21,
    "start_time": "2024-11-04T20:00:08.373Z"
   },
   {
    "duration": 423,
    "start_time": "2024-11-04T20:00:08.396Z"
   },
   {
    "duration": 11,
    "start_time": "2024-11-04T20:00:08.821Z"
   },
   {
    "duration": 16,
    "start_time": "2024-11-04T20:00:08.834Z"
   },
   {
    "duration": 27,
    "start_time": "2024-11-04T20:00:08.852Z"
   },
   {
    "duration": 15,
    "start_time": "2024-11-04T20:00:08.881Z"
   },
   {
    "duration": 10,
    "start_time": "2024-11-04T20:00:08.897Z"
   },
   {
    "duration": 16,
    "start_time": "2024-11-04T20:00:08.909Z"
   },
   {
    "duration": 7,
    "start_time": "2024-11-04T20:00:08.927Z"
   },
   {
    "duration": 41,
    "start_time": "2024-11-04T20:00:08.936Z"
   },
   {
    "duration": 3,
    "start_time": "2024-11-04T20:00:08.979Z"
   },
   {
    "duration": 5,
    "start_time": "2024-11-04T20:00:08.984Z"
   },
   {
    "duration": 837,
    "start_time": "2024-11-04T20:00:08.994Z"
   },
   {
    "duration": 0,
    "start_time": "2024-11-04T20:00:09.833Z"
   },
   {
    "duration": 0,
    "start_time": "2024-11-04T20:00:09.835Z"
   },
   {
    "duration": 0,
    "start_time": "2024-11-04T20:00:09.836Z"
   },
   {
    "duration": 0,
    "start_time": "2024-11-04T20:00:09.837Z"
   },
   {
    "duration": 0,
    "start_time": "2024-11-04T20:00:09.839Z"
   },
   {
    "duration": 0,
    "start_time": "2024-11-04T20:00:09.840Z"
   },
   {
    "duration": 396,
    "start_time": "2024-11-04T20:02:58.584Z"
   },
   {
    "duration": 845,
    "start_time": "2024-11-04T20:03:55.801Z"
   },
   {
    "duration": 48,
    "start_time": "2024-11-04T20:03:56.648Z"
   },
   {
    "duration": 16,
    "start_time": "2024-11-04T20:03:56.698Z"
   },
   {
    "duration": 15,
    "start_time": "2024-11-04T20:03:56.716Z"
   },
   {
    "duration": 8,
    "start_time": "2024-11-04T20:03:56.733Z"
   },
   {
    "duration": 35,
    "start_time": "2024-11-04T20:03:56.743Z"
   },
   {
    "duration": 5,
    "start_time": "2024-11-04T20:03:56.781Z"
   },
   {
    "duration": 3,
    "start_time": "2024-11-04T20:03:56.787Z"
   },
   {
    "duration": 12,
    "start_time": "2024-11-04T20:03:56.792Z"
   },
   {
    "duration": 6,
    "start_time": "2024-11-04T20:03:56.807Z"
   },
   {
    "duration": 77,
    "start_time": "2024-11-04T20:03:56.816Z"
   },
   {
    "duration": 40,
    "start_time": "2024-11-04T20:03:56.895Z"
   },
   {
    "duration": 49,
    "start_time": "2024-11-04T20:03:56.936Z"
   },
   {
    "duration": 8,
    "start_time": "2024-11-04T20:03:56.987Z"
   },
   {
    "duration": 14,
    "start_time": "2024-11-04T20:03:56.996Z"
   },
   {
    "duration": 13,
    "start_time": "2024-11-04T20:03:57.011Z"
   },
   {
    "duration": 4,
    "start_time": "2024-11-04T20:03:57.026Z"
   },
   {
    "duration": 38,
    "start_time": "2024-11-04T20:03:57.032Z"
   },
   {
    "duration": 13,
    "start_time": "2024-11-04T20:03:57.072Z"
   },
   {
    "duration": 25,
    "start_time": "2024-11-04T20:03:57.087Z"
   },
   {
    "duration": 11,
    "start_time": "2024-11-04T20:03:57.114Z"
   },
   {
    "duration": 47,
    "start_time": "2024-11-04T20:03:57.127Z"
   },
   {
    "duration": 20,
    "start_time": "2024-11-04T20:03:57.176Z"
   },
   {
    "duration": 27,
    "start_time": "2024-11-04T20:03:57.198Z"
   },
   {
    "duration": 20,
    "start_time": "2024-11-04T20:03:57.227Z"
   },
   {
    "duration": 618,
    "start_time": "2024-11-04T20:03:57.249Z"
   },
   {
    "duration": 409,
    "start_time": "2024-11-04T20:03:57.868Z"
   },
   {
    "duration": 13,
    "start_time": "2024-11-04T20:03:58.282Z"
   },
   {
    "duration": 22,
    "start_time": "2024-11-04T20:03:58.297Z"
   },
   {
    "duration": 424,
    "start_time": "2024-11-04T20:03:58.320Z"
   },
   {
    "duration": 11,
    "start_time": "2024-11-04T20:03:58.747Z"
   },
   {
    "duration": 23,
    "start_time": "2024-11-04T20:03:58.760Z"
   },
   {
    "duration": 12,
    "start_time": "2024-11-04T20:03:58.785Z"
   },
   {
    "duration": 14,
    "start_time": "2024-11-04T20:03:58.799Z"
   },
   {
    "duration": 9,
    "start_time": "2024-11-04T20:03:58.815Z"
   },
   {
    "duration": 51,
    "start_time": "2024-11-04T20:03:58.825Z"
   },
   {
    "duration": 6,
    "start_time": "2024-11-04T20:03:58.878Z"
   },
   {
    "duration": 8,
    "start_time": "2024-11-04T20:03:58.885Z"
   },
   {
    "duration": 2,
    "start_time": "2024-11-04T20:03:58.895Z"
   },
   {
    "duration": 5,
    "start_time": "2024-11-04T20:03:58.899Z"
   },
   {
    "duration": 841,
    "start_time": "2024-11-04T20:03:58.906Z"
   },
   {
    "duration": 0,
    "start_time": "2024-11-04T20:03:59.748Z"
   },
   {
    "duration": 0,
    "start_time": "2024-11-04T20:03:59.749Z"
   },
   {
    "duration": 0,
    "start_time": "2024-11-04T20:03:59.750Z"
   },
   {
    "duration": 0,
    "start_time": "2024-11-04T20:03:59.752Z"
   },
   {
    "duration": 0,
    "start_time": "2024-11-04T20:03:59.752Z"
   },
   {
    "duration": 0,
    "start_time": "2024-11-04T20:03:59.753Z"
   },
   {
    "duration": 6,
    "start_time": "2024-11-04T20:31:43.250Z"
   },
   {
    "duration": 4,
    "start_time": "2024-11-04T20:34:45.519Z"
   },
   {
    "duration": 14,
    "start_time": "2024-11-04T20:34:58.430Z"
   },
   {
    "duration": 811,
    "start_time": "2024-11-04T20:36:23.585Z"
   },
   {
    "duration": 42,
    "start_time": "2024-11-04T20:36:24.398Z"
   },
   {
    "duration": 14,
    "start_time": "2024-11-04T20:36:24.442Z"
   },
   {
    "duration": 12,
    "start_time": "2024-11-04T20:36:24.470Z"
   },
   {
    "duration": 9,
    "start_time": "2024-11-04T20:36:24.484Z"
   },
   {
    "duration": 11,
    "start_time": "2024-11-04T20:36:24.494Z"
   },
   {
    "duration": 5,
    "start_time": "2024-11-04T20:36:24.506Z"
   },
   {
    "duration": 3,
    "start_time": "2024-11-04T20:36:24.512Z"
   },
   {
    "duration": 12,
    "start_time": "2024-11-04T20:36:24.517Z"
   },
   {
    "duration": 7,
    "start_time": "2024-11-04T20:36:24.574Z"
   },
   {
    "duration": 45,
    "start_time": "2024-11-04T20:36:24.582Z"
   },
   {
    "duration": 53,
    "start_time": "2024-11-04T20:36:24.628Z"
   },
   {
    "duration": 28,
    "start_time": "2024-11-04T20:36:24.682Z"
   },
   {
    "duration": 7,
    "start_time": "2024-11-04T20:36:24.712Z"
   },
   {
    "duration": 50,
    "start_time": "2024-11-04T20:36:24.721Z"
   },
   {
    "duration": 15,
    "start_time": "2024-11-04T20:36:24.772Z"
   },
   {
    "duration": 5,
    "start_time": "2024-11-04T20:36:24.789Z"
   },
   {
    "duration": 4,
    "start_time": "2024-11-04T20:36:24.796Z"
   },
   {
    "duration": 9,
    "start_time": "2024-11-04T20:36:24.802Z"
   },
   {
    "duration": 58,
    "start_time": "2024-11-04T20:36:24.813Z"
   },
   {
    "duration": 12,
    "start_time": "2024-11-04T20:36:24.873Z"
   },
   {
    "duration": 25,
    "start_time": "2024-11-04T20:36:24.886Z"
   },
   {
    "duration": 16,
    "start_time": "2024-11-04T20:36:24.913Z"
   },
   {
    "duration": 49,
    "start_time": "2024-11-04T20:36:24.931Z"
   },
   {
    "duration": 20,
    "start_time": "2024-11-04T20:36:24.981Z"
   },
   {
    "duration": 620,
    "start_time": "2024-11-04T20:36:25.003Z"
   },
   {
    "duration": 411,
    "start_time": "2024-11-04T20:36:25.625Z"
   },
   {
    "duration": 14,
    "start_time": "2024-11-04T20:36:26.040Z"
   },
   {
    "duration": 34,
    "start_time": "2024-11-04T20:36:26.056Z"
   },
   {
    "duration": 431,
    "start_time": "2024-11-04T20:36:26.092Z"
   },
   {
    "duration": 18,
    "start_time": "2024-11-04T20:36:26.525Z"
   },
   {
    "duration": 30,
    "start_time": "2024-11-04T20:36:26.545Z"
   },
   {
    "duration": 10,
    "start_time": "2024-11-04T20:36:26.577Z"
   },
   {
    "duration": 13,
    "start_time": "2024-11-04T20:36:26.589Z"
   },
   {
    "duration": 8,
    "start_time": "2024-11-04T20:36:26.604Z"
   },
   {
    "duration": 17,
    "start_time": "2024-11-04T20:36:26.614Z"
   },
   {
    "duration": 39,
    "start_time": "2024-11-04T20:36:26.632Z"
   },
   {
    "duration": 13,
    "start_time": "2024-11-04T20:36:26.673Z"
   },
   {
    "duration": 3,
    "start_time": "2024-11-04T20:36:26.688Z"
   },
   {
    "duration": 6,
    "start_time": "2024-11-04T20:36:26.693Z"
   },
   {
    "duration": 4,
    "start_time": "2024-11-04T20:36:26.701Z"
   },
   {
    "duration": 315,
    "start_time": "2024-11-04T20:36:26.707Z"
   },
   {
    "duration": 0,
    "start_time": "2024-11-04T20:36:27.024Z"
   },
   {
    "duration": 0,
    "start_time": "2024-11-04T20:36:27.025Z"
   },
   {
    "duration": 0,
    "start_time": "2024-11-04T20:36:27.027Z"
   },
   {
    "duration": 0,
    "start_time": "2024-11-04T20:36:27.029Z"
   },
   {
    "duration": 0,
    "start_time": "2024-11-04T20:36:27.030Z"
   },
   {
    "duration": 0,
    "start_time": "2024-11-04T20:36:27.032Z"
   },
   {
    "duration": 4,
    "start_time": "2024-11-04T20:36:36.298Z"
   },
   {
    "duration": 426,
    "start_time": "2024-11-04T20:46:28.624Z"
   },
   {
    "duration": 57,
    "start_time": "2024-11-04T20:46:56.753Z"
   },
   {
    "duration": 64,
    "start_time": "2024-11-04T20:47:09.140Z"
   },
   {
    "duration": 799,
    "start_time": "2024-11-04T20:49:24.491Z"
   },
   {
    "duration": 41,
    "start_time": "2024-11-04T20:49:25.292Z"
   },
   {
    "duration": 14,
    "start_time": "2024-11-04T20:49:25.335Z"
   },
   {
    "duration": 23,
    "start_time": "2024-11-04T20:49:25.352Z"
   },
   {
    "duration": 7,
    "start_time": "2024-11-04T20:49:25.379Z"
   },
   {
    "duration": 11,
    "start_time": "2024-11-04T20:49:25.388Z"
   },
   {
    "duration": 5,
    "start_time": "2024-11-04T20:49:25.401Z"
   },
   {
    "duration": 3,
    "start_time": "2024-11-04T20:49:25.408Z"
   },
   {
    "duration": 12,
    "start_time": "2024-11-04T20:49:25.413Z"
   },
   {
    "duration": 43,
    "start_time": "2024-11-04T20:49:25.427Z"
   },
   {
    "duration": 42,
    "start_time": "2024-11-04T20:49:25.472Z"
   },
   {
    "duration": 55,
    "start_time": "2024-11-04T20:49:25.516Z"
   },
   {
    "duration": 28,
    "start_time": "2024-11-04T20:49:25.573Z"
   },
   {
    "duration": 7,
    "start_time": "2024-11-04T20:49:25.605Z"
   },
   {
    "duration": 14,
    "start_time": "2024-11-04T20:49:25.613Z"
   },
   {
    "duration": 43,
    "start_time": "2024-11-04T20:49:25.628Z"
   },
   {
    "duration": 5,
    "start_time": "2024-11-04T20:49:25.673Z"
   },
   {
    "duration": 5,
    "start_time": "2024-11-04T20:49:25.679Z"
   },
   {
    "duration": 9,
    "start_time": "2024-11-04T20:49:25.685Z"
   },
   {
    "duration": 24,
    "start_time": "2024-11-04T20:49:25.696Z"
   },
   {
    "duration": 12,
    "start_time": "2024-11-04T20:49:25.722Z"
   },
   {
    "duration": 57,
    "start_time": "2024-11-04T20:49:25.736Z"
   },
   {
    "duration": 17,
    "start_time": "2024-11-04T20:49:25.795Z"
   },
   {
    "duration": 23,
    "start_time": "2024-11-04T20:49:25.813Z"
   },
   {
    "duration": 45,
    "start_time": "2024-11-04T20:49:25.838Z"
   },
   {
    "duration": 604,
    "start_time": "2024-11-04T20:49:25.884Z"
   },
   {
    "duration": 441,
    "start_time": "2024-11-04T20:49:26.491Z"
   },
   {
    "duration": 14,
    "start_time": "2024-11-04T20:49:26.936Z"
   },
   {
    "duration": 39,
    "start_time": "2024-11-04T20:49:26.952Z"
   },
   {
    "duration": 433,
    "start_time": "2024-11-04T20:49:26.992Z"
   },
   {
    "duration": 11,
    "start_time": "2024-11-04T20:49:27.427Z"
   },
   {
    "duration": 30,
    "start_time": "2024-11-04T20:49:27.440Z"
   },
   {
    "duration": 10,
    "start_time": "2024-11-04T20:49:27.472Z"
   },
   {
    "duration": 13,
    "start_time": "2024-11-04T20:49:27.484Z"
   },
   {
    "duration": 9,
    "start_time": "2024-11-04T20:49:27.499Z"
   },
   {
    "duration": 18,
    "start_time": "2024-11-04T20:49:27.510Z"
   },
   {
    "duration": 6,
    "start_time": "2024-11-04T20:49:27.529Z"
   },
   {
    "duration": 41,
    "start_time": "2024-11-04T20:49:27.537Z"
   },
   {
    "duration": 4,
    "start_time": "2024-11-04T20:49:27.579Z"
   },
   {
    "duration": 5,
    "start_time": "2024-11-04T20:49:27.584Z"
   },
   {
    "duration": 3,
    "start_time": "2024-11-04T20:49:27.593Z"
   },
   {
    "duration": 4,
    "start_time": "2024-11-04T20:49:27.598Z"
   },
   {
    "duration": 95,
    "start_time": "2024-11-04T20:49:27.603Z"
   },
   {
    "duration": 6,
    "start_time": "2024-11-04T20:49:27.700Z"
   },
   {
    "duration": 8,
    "start_time": "2024-11-04T20:49:27.708Z"
   },
   {
    "duration": 182,
    "start_time": "2024-11-04T20:49:27.718Z"
   },
   {
    "duration": 12,
    "start_time": "2024-11-04T20:49:27.902Z"
   },
   {
    "duration": 23,
    "start_time": "2024-11-04T20:49:27.916Z"
   },
   {
    "duration": 37,
    "start_time": "2024-11-04T20:49:27.940Z"
   },
   {
    "duration": 71,
    "start_time": "2024-11-04T20:53:22.084Z"
   },
   {
    "duration": 69,
    "start_time": "2024-11-04T20:53:35.775Z"
   },
   {
    "duration": 358,
    "start_time": "2024-11-04T20:54:22.853Z"
   },
   {
    "duration": 68,
    "start_time": "2024-11-04T20:54:35.498Z"
   },
   {
    "duration": 78,
    "start_time": "2024-11-04T20:56:10.855Z"
   },
   {
    "duration": 78,
    "start_time": "2024-11-04T20:57:43.350Z"
   },
   {
    "duration": 31,
    "start_time": "2024-11-04T21:22:19.276Z"
   },
   {
    "duration": 13,
    "start_time": "2024-11-04T21:23:06.921Z"
   },
   {
    "duration": 12,
    "start_time": "2024-11-04T21:24:46.710Z"
   },
   {
    "duration": 9,
    "start_time": "2024-11-04T21:25:31.833Z"
   },
   {
    "duration": 19,
    "start_time": "2024-11-04T21:33:15.324Z"
   },
   {
    "duration": 785,
    "start_time": "2024-11-04T21:33:24.820Z"
   },
   {
    "duration": 43,
    "start_time": "2024-11-04T21:33:25.607Z"
   },
   {
    "duration": 22,
    "start_time": "2024-11-04T21:33:25.651Z"
   },
   {
    "duration": 11,
    "start_time": "2024-11-04T21:33:25.675Z"
   },
   {
    "duration": 8,
    "start_time": "2024-11-04T21:33:25.690Z"
   },
   {
    "duration": 14,
    "start_time": "2024-11-04T21:33:25.700Z"
   },
   {
    "duration": 5,
    "start_time": "2024-11-04T21:33:25.715Z"
   },
   {
    "duration": 3,
    "start_time": "2024-11-04T21:33:25.722Z"
   },
   {
    "duration": 44,
    "start_time": "2024-11-04T21:33:25.727Z"
   },
   {
    "duration": 7,
    "start_time": "2024-11-04T21:33:25.773Z"
   },
   {
    "duration": 41,
    "start_time": "2024-11-04T21:33:25.781Z"
   },
   {
    "duration": 61,
    "start_time": "2024-11-04T21:33:25.824Z"
   },
   {
    "duration": 27,
    "start_time": "2024-11-04T21:33:25.886Z"
   },
   {
    "duration": 7,
    "start_time": "2024-11-04T21:33:25.917Z"
   },
   {
    "duration": 14,
    "start_time": "2024-11-04T21:33:25.926Z"
   },
   {
    "duration": 41,
    "start_time": "2024-11-04T21:33:25.943Z"
   },
   {
    "duration": 7,
    "start_time": "2024-11-04T21:33:25.986Z"
   },
   {
    "duration": 5,
    "start_time": "2024-11-04T21:33:25.995Z"
   },
   {
    "duration": 11,
    "start_time": "2024-11-04T21:33:26.002Z"
   },
   {
    "duration": 58,
    "start_time": "2024-11-04T21:33:26.014Z"
   },
   {
    "duration": 12,
    "start_time": "2024-11-04T21:33:26.074Z"
   },
   {
    "duration": 26,
    "start_time": "2024-11-04T21:33:26.088Z"
   },
   {
    "duration": 17,
    "start_time": "2024-11-04T21:33:26.116Z"
   },
   {
    "duration": 47,
    "start_time": "2024-11-04T21:33:26.134Z"
   },
   {
    "duration": 20,
    "start_time": "2024-11-04T21:33:26.183Z"
   },
   {
    "duration": 628,
    "start_time": "2024-11-04T21:33:26.205Z"
   },
   {
    "duration": 436,
    "start_time": "2024-11-04T21:33:26.834Z"
   },
   {
    "duration": 15,
    "start_time": "2024-11-04T21:33:27.273Z"
   },
   {
    "duration": 30,
    "start_time": "2024-11-04T21:33:27.289Z"
   },
   {
    "duration": 417,
    "start_time": "2024-11-04T21:33:27.321Z"
   },
   {
    "duration": 11,
    "start_time": "2024-11-04T21:33:27.740Z"
   },
   {
    "duration": 24,
    "start_time": "2024-11-04T21:33:27.753Z"
   },
   {
    "duration": 11,
    "start_time": "2024-11-04T21:33:27.778Z"
   },
   {
    "duration": 14,
    "start_time": "2024-11-04T21:33:27.791Z"
   },
   {
    "duration": 8,
    "start_time": "2024-11-04T21:33:27.807Z"
   },
   {
    "duration": 16,
    "start_time": "2024-11-04T21:33:27.817Z"
   },
   {
    "duration": 39,
    "start_time": "2024-11-04T21:33:27.835Z"
   },
   {
    "duration": 8,
    "start_time": "2024-11-04T21:33:27.876Z"
   },
   {
    "duration": 3,
    "start_time": "2024-11-04T21:33:27.886Z"
   },
   {
    "duration": 5,
    "start_time": "2024-11-04T21:33:27.892Z"
   },
   {
    "duration": 3,
    "start_time": "2024-11-04T21:33:27.902Z"
   },
   {
    "duration": 4,
    "start_time": "2024-11-04T21:33:27.906Z"
   },
   {
    "duration": 113,
    "start_time": "2024-11-04T21:33:27.912Z"
   },
   {
    "duration": 6,
    "start_time": "2024-11-04T21:33:28.027Z"
   },
   {
    "duration": 9,
    "start_time": "2024-11-04T21:33:28.035Z"
   },
   {
    "duration": 203,
    "start_time": "2024-11-04T21:33:28.046Z"
   },
   {
    "duration": 19,
    "start_time": "2024-11-04T21:33:28.251Z"
   },
   {
    "duration": 22,
    "start_time": "2024-11-04T21:33:28.272Z"
   },
   {
    "duration": 13,
    "start_time": "2024-11-04T21:33:28.296Z"
   },
   {
    "duration": 8,
    "start_time": "2024-11-04T21:33:28.311Z"
   },
   {
    "duration": 15,
    "start_time": "2024-11-04T21:33:28.321Z"
   },
   {
    "duration": 14,
    "start_time": "2024-11-04T21:34:22.318Z"
   },
   {
    "duration": 164,
    "start_time": "2024-11-04T21:36:52.690Z"
   },
   {
    "duration": 872,
    "start_time": "2024-11-04T21:42:07.910Z"
   },
   {
    "duration": 82,
    "start_time": "2024-11-04T21:44:23.755Z"
   },
   {
    "duration": 142,
    "start_time": "2024-11-04T21:45:05.299Z"
   },
   {
    "duration": 79,
    "start_time": "2024-11-04T21:45:26.022Z"
   },
   {
    "duration": 67,
    "start_time": "2024-11-04T21:46:39.929Z"
   },
   {
    "duration": 81,
    "start_time": "2024-11-04T21:47:20.808Z"
   },
   {
    "duration": 66,
    "start_time": "2024-11-04T21:47:35.867Z"
   },
   {
    "duration": 58,
    "start_time": "2024-11-04T22:07:44.979Z"
   },
   {
    "duration": 94,
    "start_time": "2024-11-04T22:08:21.569Z"
   },
   {
    "duration": 139,
    "start_time": "2024-11-04T22:32:15.909Z"
   },
   {
    "duration": 838,
    "start_time": "2024-11-04T22:36:18.659Z"
   },
   {
    "duration": 41,
    "start_time": "2024-11-04T22:36:19.499Z"
   },
   {
    "duration": 14,
    "start_time": "2024-11-04T22:36:19.542Z"
   },
   {
    "duration": 12,
    "start_time": "2024-11-04T22:36:19.569Z"
   },
   {
    "duration": 8,
    "start_time": "2024-11-04T22:36:19.583Z"
   },
   {
    "duration": 12,
    "start_time": "2024-11-04T22:36:19.593Z"
   },
   {
    "duration": 4,
    "start_time": "2024-11-04T22:36:19.607Z"
   },
   {
    "duration": 2,
    "start_time": "2024-11-04T22:36:19.613Z"
   },
   {
    "duration": 13,
    "start_time": "2024-11-04T22:36:19.617Z"
   },
   {
    "duration": 40,
    "start_time": "2024-11-04T22:36:19.633Z"
   },
   {
    "duration": 41,
    "start_time": "2024-11-04T22:36:19.674Z"
   },
   {
    "duration": 58,
    "start_time": "2024-11-04T22:36:19.717Z"
   },
   {
    "duration": 28,
    "start_time": "2024-11-04T22:36:19.777Z"
   },
   {
    "duration": 7,
    "start_time": "2024-11-04T22:36:19.807Z"
   },
   {
    "duration": 14,
    "start_time": "2024-11-04T22:36:19.816Z"
   },
   {
    "duration": 38,
    "start_time": "2024-11-04T22:36:19.832Z"
   },
   {
    "duration": 5,
    "start_time": "2024-11-04T22:36:19.871Z"
   },
   {
    "duration": 5,
    "start_time": "2024-11-04T22:36:19.878Z"
   },
   {
    "duration": 9,
    "start_time": "2024-11-04T22:36:19.884Z"
   },
   {
    "duration": 26,
    "start_time": "2024-11-04T22:36:19.894Z"
   },
   {
    "duration": 12,
    "start_time": "2024-11-04T22:36:19.922Z"
   },
   {
    "duration": 59,
    "start_time": "2024-11-04T22:36:19.935Z"
   },
   {
    "duration": 17,
    "start_time": "2024-11-04T22:36:19.996Z"
   },
   {
    "duration": 23,
    "start_time": "2024-11-04T22:36:20.015Z"
   },
   {
    "duration": 42,
    "start_time": "2024-11-04T22:36:20.040Z"
   },
   {
    "duration": 609,
    "start_time": "2024-11-04T22:36:20.084Z"
   },
   {
    "duration": 413,
    "start_time": "2024-11-04T22:36:20.696Z"
   },
   {
    "duration": 14,
    "start_time": "2024-11-04T22:36:21.113Z"
   },
   {
    "duration": 47,
    "start_time": "2024-11-04T22:36:21.129Z"
   },
   {
    "duration": 419,
    "start_time": "2024-11-04T22:36:21.177Z"
   },
   {
    "duration": 15,
    "start_time": "2024-11-04T22:36:21.601Z"
   },
   {
    "duration": 16,
    "start_time": "2024-11-04T22:36:21.623Z"
   },
   {
    "duration": 11,
    "start_time": "2024-11-04T22:36:21.641Z"
   },
   {
    "duration": 26,
    "start_time": "2024-11-04T22:36:21.654Z"
   },
   {
    "duration": 9,
    "start_time": "2024-11-04T22:36:21.682Z"
   },
   {
    "duration": 17,
    "start_time": "2024-11-04T22:36:21.693Z"
   },
   {
    "duration": 6,
    "start_time": "2024-11-04T22:36:21.712Z"
   },
   {
    "duration": 10,
    "start_time": "2024-11-04T22:36:21.720Z"
   },
   {
    "duration": 3,
    "start_time": "2024-11-04T22:36:21.731Z"
   },
   {
    "duration": 38,
    "start_time": "2024-11-04T22:36:21.735Z"
   },
   {
    "duration": 9,
    "start_time": "2024-11-04T22:36:21.775Z"
   },
   {
    "duration": 7,
    "start_time": "2024-11-04T22:36:21.785Z"
   },
   {
    "duration": 3,
    "start_time": "2024-11-04T22:36:21.794Z"
   },
   {
    "duration": 4,
    "start_time": "2024-11-04T22:36:21.799Z"
   },
   {
    "duration": 330,
    "start_time": "2024-11-04T22:36:21.805Z"
   },
   {
    "duration": 0,
    "start_time": "2024-11-04T22:36:22.137Z"
   },
   {
    "duration": 0,
    "start_time": "2024-11-04T22:36:22.139Z"
   },
   {
    "duration": 0,
    "start_time": "2024-11-04T22:36:22.140Z"
   },
   {
    "duration": 0,
    "start_time": "2024-11-04T22:36:22.141Z"
   },
   {
    "duration": 0,
    "start_time": "2024-11-04T22:36:22.142Z"
   },
   {
    "duration": 0,
    "start_time": "2024-11-04T22:36:22.144Z"
   },
   {
    "duration": 125,
    "start_time": "2024-11-04T22:37:02.334Z"
   },
   {
    "duration": 757,
    "start_time": "2024-11-04T22:42:59.534Z"
   },
   {
    "duration": 40,
    "start_time": "2024-11-04T22:43:00.293Z"
   },
   {
    "duration": 15,
    "start_time": "2024-11-04T22:43:00.335Z"
   },
   {
    "duration": 26,
    "start_time": "2024-11-04T22:43:00.352Z"
   },
   {
    "duration": 7,
    "start_time": "2024-11-04T22:43:00.379Z"
   },
   {
    "duration": 10,
    "start_time": "2024-11-04T22:43:00.388Z"
   },
   {
    "duration": 5,
    "start_time": "2024-11-04T22:43:00.400Z"
   },
   {
    "duration": 3,
    "start_time": "2024-11-04T22:43:00.406Z"
   },
   {
    "duration": 12,
    "start_time": "2024-11-04T22:43:00.412Z"
   },
   {
    "duration": 43,
    "start_time": "2024-11-04T22:43:00.427Z"
   },
   {
    "duration": 41,
    "start_time": "2024-11-04T22:43:00.472Z"
   },
   {
    "duration": 65,
    "start_time": "2024-11-04T22:43:00.516Z"
   },
   {
    "duration": 29,
    "start_time": "2024-11-04T22:43:00.583Z"
   },
   {
    "duration": 9,
    "start_time": "2024-11-04T22:43:00.613Z"
   },
   {
    "duration": 13,
    "start_time": "2024-11-04T22:43:00.624Z"
   },
   {
    "duration": 37,
    "start_time": "2024-11-04T22:43:00.639Z"
   },
   {
    "duration": 5,
    "start_time": "2024-11-04T22:43:00.677Z"
   },
   {
    "duration": 4,
    "start_time": "2024-11-04T22:43:00.684Z"
   },
   {
    "duration": 9,
    "start_time": "2024-11-04T22:43:00.690Z"
   },
   {
    "duration": 27,
    "start_time": "2024-11-04T22:43:00.700Z"
   },
   {
    "duration": 40,
    "start_time": "2024-11-04T22:43:00.730Z"
   },
   {
    "duration": 25,
    "start_time": "2024-11-04T22:43:00.771Z"
   },
   {
    "duration": 17,
    "start_time": "2024-11-04T22:43:00.798Z"
   },
   {
    "duration": 20,
    "start_time": "2024-11-04T22:43:00.817Z"
   },
   {
    "duration": 43,
    "start_time": "2024-11-04T22:43:00.839Z"
   },
   {
    "duration": 623,
    "start_time": "2024-11-04T22:43:00.884Z"
   },
   {
    "duration": 427,
    "start_time": "2024-11-04T22:43:01.508Z"
   },
   {
    "duration": 14,
    "start_time": "2024-11-04T22:43:01.940Z"
   },
   {
    "duration": 39,
    "start_time": "2024-11-04T22:43:01.955Z"
   },
   {
    "duration": 417,
    "start_time": "2024-11-04T22:43:01.996Z"
   },
   {
    "duration": 11,
    "start_time": "2024-11-04T22:43:02.416Z"
   },
   {
    "duration": 17,
    "start_time": "2024-11-04T22:43:02.430Z"
   },
   {
    "duration": 28,
    "start_time": "2024-11-04T22:43:02.448Z"
   },
   {
    "duration": 15,
    "start_time": "2024-11-04T22:43:02.478Z"
   },
   {
    "duration": 10,
    "start_time": "2024-11-04T22:43:02.495Z"
   },
   {
    "duration": 17,
    "start_time": "2024-11-04T22:43:02.507Z"
   },
   {
    "duration": 5,
    "start_time": "2024-11-04T22:43:02.526Z"
   },
   {
    "duration": 43,
    "start_time": "2024-11-04T22:43:02.533Z"
   },
   {
    "duration": 4,
    "start_time": "2024-11-04T22:43:02.578Z"
   },
   {
    "duration": 8,
    "start_time": "2024-11-04T22:43:02.584Z"
   },
   {
    "duration": 10,
    "start_time": "2024-11-04T22:43:02.594Z"
   },
   {
    "duration": 5,
    "start_time": "2024-11-04T22:43:02.607Z"
   },
   {
    "duration": 2,
    "start_time": "2024-11-04T22:43:02.614Z"
   },
   {
    "duration": 4,
    "start_time": "2024-11-04T22:43:02.619Z"
   },
   {
    "duration": 190,
    "start_time": "2024-11-04T22:43:02.625Z"
   },
   {
    "duration": 171,
    "start_time": "2024-11-04T22:43:02.818Z"
   },
   {
    "duration": 14,
    "start_time": "2024-11-04T22:43:02.991Z"
   },
   {
    "duration": 23,
    "start_time": "2024-11-04T22:43:03.006Z"
   },
   {
    "duration": 13,
    "start_time": "2024-11-04T22:43:03.031Z"
   },
   {
    "duration": 28,
    "start_time": "2024-11-04T22:43:03.046Z"
   },
   {
    "duration": 15,
    "start_time": "2024-11-04T22:43:03.076Z"
   },
   {
    "duration": 9,
    "start_time": "2024-11-04T22:43:54.520Z"
   },
   {
    "duration": 9,
    "start_time": "2024-11-04T22:43:56.464Z"
   },
   {
    "duration": 5,
    "start_time": "2024-11-04T23:33:34.876Z"
   },
   {
    "duration": 22,
    "start_time": "2024-11-04T23:37:41.141Z"
   },
   {
    "duration": 26,
    "start_time": "2024-11-04T23:38:12.788Z"
   },
   {
    "duration": 24,
    "start_time": "2024-11-04T23:38:50.977Z"
   },
   {
    "duration": 31,
    "start_time": "2024-11-04T23:38:57.652Z"
   },
   {
    "duration": 22,
    "start_time": "2024-11-04T23:39:49.621Z"
   },
   {
    "duration": 24,
    "start_time": "2024-11-04T23:40:07.412Z"
   },
   {
    "duration": 32,
    "start_time": "2024-11-04T23:40:22.140Z"
   },
   {
    "duration": 111,
    "start_time": "2024-11-04T23:43:01.282Z"
   },
   {
    "duration": 31,
    "start_time": "2024-11-04T23:43:52.268Z"
   },
   {
    "duration": 26,
    "start_time": "2024-11-04T23:45:57.793Z"
   },
   {
    "duration": 22,
    "start_time": "2024-11-04T23:46:23.348Z"
   },
   {
    "duration": 817,
    "start_time": "2024-11-04T23:46:42.860Z"
   },
   {
    "duration": 21,
    "start_time": "2024-11-04T23:47:12.984Z"
   },
   {
    "duration": 833,
    "start_time": "2024-11-04T23:47:41.410Z"
   },
   {
    "duration": 45,
    "start_time": "2024-11-04T23:47:42.245Z"
   },
   {
    "duration": 13,
    "start_time": "2024-11-04T23:47:42.291Z"
   },
   {
    "duration": 11,
    "start_time": "2024-11-04T23:47:42.306Z"
   },
   {
    "duration": 8,
    "start_time": "2024-11-04T23:47:42.319Z"
   },
   {
    "duration": 11,
    "start_time": "2024-11-04T23:47:42.329Z"
   },
   {
    "duration": 29,
    "start_time": "2024-11-04T23:47:42.342Z"
   },
   {
    "duration": 3,
    "start_time": "2024-11-04T23:47:42.372Z"
   },
   {
    "duration": 13,
    "start_time": "2024-11-04T23:47:42.377Z"
   },
   {
    "duration": 6,
    "start_time": "2024-11-04T23:47:42.392Z"
   },
   {
    "duration": 39,
    "start_time": "2024-11-04T23:47:42.400Z"
   },
   {
    "duration": 73,
    "start_time": "2024-11-04T23:47:42.441Z"
   },
   {
    "duration": 27,
    "start_time": "2024-11-04T23:47:42.516Z"
   },
   {
    "duration": 24,
    "start_time": "2024-11-04T23:47:42.547Z"
   },
   {
    "duration": 13,
    "start_time": "2024-11-04T23:47:42.572Z"
   },
   {
    "duration": 12,
    "start_time": "2024-11-04T23:47:42.587Z"
   },
   {
    "duration": 4,
    "start_time": "2024-11-04T23:47:42.601Z"
   },
   {
    "duration": 5,
    "start_time": "2024-11-04T23:47:42.607Z"
   },
   {
    "duration": 9,
    "start_time": "2024-11-04T23:47:42.613Z"
   },
   {
    "duration": 70,
    "start_time": "2024-11-04T23:47:42.624Z"
   },
   {
    "duration": 12,
    "start_time": "2024-11-04T23:47:42.695Z"
   },
   {
    "duration": 24,
    "start_time": "2024-11-04T23:47:42.709Z"
   },
   {
    "duration": 37,
    "start_time": "2024-11-04T23:47:42.735Z"
   },
   {
    "duration": 21,
    "start_time": "2024-11-04T23:47:42.774Z"
   },
   {
    "duration": 20,
    "start_time": "2024-11-04T23:47:42.797Z"
   },
   {
    "duration": 619,
    "start_time": "2024-11-04T23:47:42.818Z"
   },
   {
    "duration": 432,
    "start_time": "2024-11-04T23:47:43.439Z"
   },
   {
    "duration": 14,
    "start_time": "2024-11-04T23:47:43.873Z"
   },
   {
    "duration": 33,
    "start_time": "2024-11-04T23:47:43.889Z"
   },
   {
    "duration": 440,
    "start_time": "2024-11-04T23:47:43.924Z"
   },
   {
    "duration": 12,
    "start_time": "2024-11-04T23:47:44.370Z"
   },
   {
    "duration": 18,
    "start_time": "2024-11-04T23:47:44.384Z"
   },
   {
    "duration": 12,
    "start_time": "2024-11-04T23:47:44.403Z"
   },
   {
    "duration": 15,
    "start_time": "2024-11-04T23:47:44.417Z"
   },
   {
    "duration": 40,
    "start_time": "2024-11-04T23:47:44.433Z"
   },
   {
    "duration": 17,
    "start_time": "2024-11-04T23:47:44.476Z"
   },
   {
    "duration": 6,
    "start_time": "2024-11-04T23:47:44.495Z"
   },
   {
    "duration": 8,
    "start_time": "2024-11-04T23:47:44.502Z"
   },
   {
    "duration": 3,
    "start_time": "2024-11-04T23:47:44.511Z"
   },
   {
    "duration": 6,
    "start_time": "2024-11-04T23:47:44.516Z"
   },
   {
    "duration": 45,
    "start_time": "2024-11-04T23:47:44.526Z"
   },
   {
    "duration": 5,
    "start_time": "2024-11-04T23:47:44.573Z"
   },
   {
    "duration": 3,
    "start_time": "2024-11-04T23:47:44.580Z"
   },
   {
    "duration": 4,
    "start_time": "2024-11-04T23:47:44.585Z"
   },
   {
    "duration": 161,
    "start_time": "2024-11-04T23:47:44.591Z"
   },
   {
    "duration": 182,
    "start_time": "2024-11-04T23:47:44.754Z"
   },
   {
    "duration": 14,
    "start_time": "2024-11-04T23:47:44.938Z"
   },
   {
    "duration": 35,
    "start_time": "2024-11-04T23:47:44.954Z"
   },
   {
    "duration": 8,
    "start_time": "2024-11-04T23:47:44.991Z"
   },
   {
    "duration": 8,
    "start_time": "2024-11-04T23:47:45.001Z"
   },
   {
    "duration": 15,
    "start_time": "2024-11-04T23:47:45.010Z"
   },
   {
    "duration": 27,
    "start_time": "2024-11-04T23:49:37.434Z"
   }
  ],
  "kernelspec": {
   "display_name": "Python 3 (ipykernel)",
   "language": "python",
   "name": "python3"
  },
  "language_info": {
   "codemirror_mode": {
    "name": "ipython",
    "version": 3
   },
   "file_extension": ".py",
   "mimetype": "text/x-python",
   "name": "python",
   "nbconvert_exporter": "python",
   "pygments_lexer": "ipython3",
   "version": "3.9.19"
  },
  "toc": {
   "base_numbering": 1,
   "nav_menu": {},
   "number_sections": true,
   "sideBar": true,
   "skip_h1_title": true,
   "title_cell": "Table of Contents",
   "title_sidebar": "Contents",
   "toc_cell": false,
   "toc_position": {},
   "toc_section_display": true,
   "toc_window_display": false
  }
 },
 "nbformat": 4,
 "nbformat_minor": 2
}
